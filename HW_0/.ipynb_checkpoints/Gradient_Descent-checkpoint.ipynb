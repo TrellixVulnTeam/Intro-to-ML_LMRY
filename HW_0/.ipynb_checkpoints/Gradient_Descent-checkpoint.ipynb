{
 "cells": [
  {
   "cell_type": "markdown",
   "id": "9ed1a024-f5ea-4ba9-a7e4-f1055f9158b4",
   "metadata": {},
   "source": [
    "# Homework 0\n",
    "\n",
    "## Gradient Descent Algorithm\n",
    "\n",
    "**Kimsour Thach**\n",
    "800793249\n",
    "*ECGR 5060*\n",
    "\n",
    "The following code will perform the steps needed to perform a Gradient Descent on a ML model."
   ]
  },
  {
   "cell_type": "code",
   "execution_count": 2,
   "id": "ba2d0626-fd7e-456f-b392-10f7455081b4",
   "metadata": {},
   "outputs": [],
   "source": [
    "# First import all needed libraries\n",
    "\n",
    "import numpy as np     # Arrays\n",
    "import pandas as pd    # Data structures\n",
    "import matplotlib.pyplot as plt # Plotting\n"
   ]
  },
  {
   "cell_type": "code",
   "execution_count": 7,
   "id": "2488b2d7-cc0c-4483-8f08-e7afde34e4b8",
   "metadata": {},
   "outputs": [
    {
     "name": "stdout",
     "output_type": "stream",
     "text": [
      "        0.0  3.4399999999999999  0.44000000000000039  4.387545011044053\n",
      "0  0.040404            0.134949             0.888485           2.679650\n",
      "1  0.080808            0.829899             1.336970           2.968490\n",
      "2  0.121212            1.524848             1.785455           3.254065\n",
      "3  0.161616            2.219798             2.233939           3.536375\n",
      "4  0.202020            2.914747             2.682424           3.815420\n",
      "99\n"
     ]
    }
   ],
   "source": [
    "# Read in CSV file\n",
    "# The CSV file should be contained in the same directory\n",
    "\n",
    "df = pd.read_csv('D3.csv')\n",
    "\n",
    "#Let's check out the first 5 rows of our dataset\n",
    "\n",
    "print(df.head())\n",
    "print(len(df))"
   ]
  },
  {
   "cell_type": "code",
   "execution_count": 8,
   "id": "db294c27-31d1-4ed3-adcf-ca9e86976ba3",
   "metadata": {},
   "outputs": [
    {
     "name": "stdout",
     "output_type": "stream",
     "text": [
      "99\n"
     ]
    }
   ],
   "source": [
    "# Define explanatory variables (First 3 columns)\n",
    "# \n",
    "\n",
    "x1 = df.values[:,0]\n",
    "x2 = df.values[:,1]\n",
    "x3 = df.values[:,2]\n"
   ]
  },
  {
   "cell_type": "markdown",
   "id": "f84f993b-b4d5-4ca4-bc62-883de96572ae",
   "metadata": {},
   "source": [
    "### Training 1\n"
   ]
  },
  {
   "cell_type": "code",
   "execution_count": null,
   "id": "d4ede754-9fc0-4cf3-9b7f-bf384cd3e7b9",
   "metadata": {},
   "outputs": [],
   "source": [
    "x1"
   ]
  },
  {
   "cell_type": "markdown",
   "id": "c0f36749-71f9-4e79-9fdd-5407a66365e0",
   "metadata": {},
   "source": [
    "### Training 2\n"
   ]
  },
  {
   "cell_type": "code",
   "execution_count": null,
   "id": "1061b4a6-84d4-4cce-9c98-358d8b2fd953",
   "metadata": {},
   "outputs": [],
   "source": [
    "x2\n"
   ]
  },
  {
   "cell_type": "markdown",
   "id": "3bf244ae-f978-4260-94f2-7ef945693dbb",
   "metadata": {},
   "source": [
    "### Training 3\n"
   ]
  },
  {
   "cell_type": "code",
   "execution_count": null,
   "id": "68b332b1-143b-4563-815d-787607735795",
   "metadata": {},
   "outputs": [],
   "source": [
    "x3\n"
   ]
  }
 ],
 "metadata": {
  "kernelspec": {
   "display_name": "Python 3",
   "language": "python",
   "name": "python3"
  },
  "language_info": {
   "codemirror_mode": {
    "name": "ipython",
    "version": 3
   },
   "file_extension": ".py",
   "mimetype": "text/x-python",
   "name": "python",
   "nbconvert_exporter": "python",
   "pygments_lexer": "ipython3",
   "version": "3.8.8"
  }
 },
 "nbformat": 4,
 "nbformat_minor": 5
}
