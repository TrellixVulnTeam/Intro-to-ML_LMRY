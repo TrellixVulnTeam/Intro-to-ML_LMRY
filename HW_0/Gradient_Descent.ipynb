{
 "cells": [
  {
   "cell_type": "markdown",
   "source": [
    "# Homework 0: Gradient Descent Algorithm\n",
    "\n",
    "**Kim Thach** *800793249*\n",
    "\n",
    "*ECGR 5060*\n",
    "\n",
    "\n",
    "\n",
    "## Introduction \n",
    "\n",
    "The following code will perform the steps needed to perform a Gradient Descent on a ML model.\n",
    "\n"
   ],
   "metadata": {}
  },
  {
   "cell_type": "code",
   "execution_count": 21,
   "source": [
    "# First import all needed libraries\n",
    "\n",
    "import numpy as np              # Arrays\n",
    "import pandas as pd             # Data structures\n",
    "import matplotlib.pyplot as plt # Plotting\n"
   ],
   "outputs": [],
   "metadata": {}
  },
  {
   "cell_type": "markdown",
   "source": [
    "## Problem 1\n",
    "\n",
    "Develop a code that run linear regression with gradient decent algorithm for each of the explanatory variables in isolation. In this case, you assume that in each iteration, only one explanatory variable (either X1, or X2, or X3) is explaining the output. Basically, you need to do three different training, one per each explanatory variable. For the learning rate, explore different values between 0.1 and 0.01 (your choice). Initialize your parameters to zero (theta to zero).\n",
    "\n",
    "* Report the linear model you found for each explanatory variable.\n",
    "* Plot the final regression model and loss over the iteration per each explanatory variable.\n",
    "\n",
    "* **Which explanatory variable has the lower loss (cost) for explaining the output (Y)?**\n",
    "\n",
    "* **Based on your training observations, describe the impact of the different learning rates on the final loss and number of training iteration.**"
   ],
   "metadata": {}
  },
  {
   "cell_type": "code",
   "execution_count": 22,
   "source": [
    "# Read in CSV file\n",
    "# The CSV file should be contained in the same directory\n",
    "\n",
    "df = pd.read_csv('D3.csv')\n",
    "\n",
    "#Let's check out the first 5 rows of our dataset\n",
    "\n",
    "print(df.head())\n",
    "print(len(df))"
   ],
   "outputs": [
    {
     "output_type": "stream",
     "name": "stdout",
     "text": [
      "        0.0  3.4399999999999999  0.44000000000000039  4.387545011044053\n",
      "0  0.040404            0.134949             0.888485           2.679650\n",
      "1  0.080808            0.829899             1.336970           2.968490\n",
      "2  0.121212            1.524848             1.785455           3.254065\n",
      "3  0.161616            2.219798             2.233939           3.536375\n",
      "4  0.202020            2.914747             2.682424           3.815420\n",
      "99\n"
     ]
    }
   ],
   "metadata": {}
  },
  {
   "cell_type": "code",
   "execution_count": 23,
   "source": [
    "# Define explanatory variables (First 3 columns)\n",
    "\n",
    "x1 = df.values[:,0]\n",
    "x2 = df.values[:,1]\n",
    "x3 = df.values[:,2]\n",
    "y = df.values[:,3]\n",
    "m = len(y)\n",
    "print(x1)"
   ],
   "outputs": [
    {
     "output_type": "stream",
     "name": "stdout",
     "text": [
      "[0.04040404 0.08080808 0.12121212 0.16161616 0.2020202  0.24242424\n",
      " 0.28282828 0.32323232 0.36363636 0.4040404  0.44444444 0.48484848\n",
      " 0.52525253 0.56565657 0.60606061 0.64646465 0.68686869 0.72727273\n",
      " 0.76767677 0.80808081 0.84848485 0.88888889 0.92929293 0.96969697\n",
      " 1.01010101 1.05050505 1.09090909 1.13131313 1.17171717 1.21212121\n",
      " 1.25252525 1.29292929 1.33333333 1.37373737 1.41414141 1.45454545\n",
      " 1.49494949 1.53535354 1.57575758 1.61616162 1.65656566 1.6969697\n",
      " 1.73737374 1.77777778 1.81818182 1.85858586 1.8989899  1.93939394\n",
      " 1.97979798 2.02020202 2.06060606 2.1010101  2.14141414 2.18181818\n",
      " 2.22222222 2.26262626 2.3030303  2.34343434 2.38383838 2.42424242\n",
      " 2.46464646 2.50505051 2.54545455 2.58585859 2.62626263 2.66666667\n",
      " 2.70707071 2.74747475 2.78787879 2.82828283 2.86868687 2.90909091\n",
      " 2.94949495 2.98989899 3.03030303 3.07070707 3.11111111 3.15151515\n",
      " 3.19191919 3.23232323 3.27272727 3.31313131 3.35353535 3.39393939\n",
      " 3.43434343 3.47474747 3.51515152 3.55555556 3.5959596  3.63636364\n",
      " 3.67676768 3.71717172 3.75757576 3.7979798  3.83838384 3.87878788\n",
      " 3.91919192 3.95959596 4.        ]\n"
     ]
    }
   ],
   "metadata": {}
  },
  {
   "cell_type": "markdown",
   "source": [
    "### Training 1\n",
    "\n",
    "**Cost/loss function**\n",
    "\n",
    "h = theta_0 + theta_1*x_1\n",
    "\n",
    "x_0 is always one, create a vector full of 1 to the length of the sample points.\n",
    "\n",
    "Calculated Model = [x0 , x1] * [theta_0 theta_1] "
   ],
   "metadata": {}
  },
  {
   "cell_type": "code",
   "execution_count": 24,
   "source": [
    "# Parameters and values related to x1\n",
    "plt.figure()\n",
    "plt.scatter(x1,y,color='red',marker='+')\n",
    "plt.grid()\n",
    "plt.rcParams[\"figure.figsize\"] = (10,6)\n",
    "\n",
    "# Create a vector of ones\n",
    "\n",
    "x0=np.ones((m,1))\n",
    "\n",
    "# Reshape the vector into a [1 x m] vector vs. the original [m x 1] to later stack\n",
    "\n",
    "x_1=x1.reshape(m,1)\n",
    "\n",
    "# Stack the 2 vectors together\n",
    "\n",
    "X=np.hstack((x0,x_1))\n",
    "\n",
    "# Set the number of parameters in your model\n",
    "\n",
    "theta=np.zeros(2)\n"
   ],
   "outputs": [
    {
     "output_type": "display_data",
     "data": {
      "text/plain": [
       "<Figure size 720x432 with 1 Axes>"
      ],
      "image/png": "[encoded data removed]"
     },
     "metadata": {
      "needs_background": "light"
     }
    }
   ],
   "metadata": {}
  },
  {
   "cell_type": "markdown",
   "source": [
    "###  Compute cost for linear regression.  \n",
    "\n",
    "The equation for the cost function is as follows:\n",
    "\n",
    "$ J = \\frac{1}{2m} \\sum \\limits_{i=1} ^{m} \\sqrt{(y(x_{i}) - h(x_{i}))^2}$\n"
   ],
   "metadata": {}
  },
  {
   "cell_type": "code",
   "execution_count": 25,
   "source": [
    "# Training Loop\n",
    "\n",
    "def compute_cost(X,y,theta):\n",
    "    \n",
    "    \"\"\" \n",
    "    Compute cost for linear regression.\n",
    "\n",
    "    Input Parameters\n",
    "    ----------------\n",
    "    X : 2D array where each row represent the training example and each column represent\n",
    "        m= number of training examples\n",
    "        n= number of features (including x0 column of ones)\n",
    "    y: 1D array of labels/target value for each training example. Dimesion (1 x m)\n",
    "\n",
    "    theta :  1D array of fitting paramenters or weights. Dimension (1 x n)\n",
    "\n",
    "    Output Parameters\n",
    "    ----------------\n",
    "    J: Scalar value.\n",
    "    \"\"\"\n",
    "\n",
    "    predictions = X.dot(theta)\n",
    "    errors = np.subtract(predictions,y)\n",
    "    sqrErrors = np.square(errors)\n",
    "    J = 1/(2*m)*np.sum(sqrErrors)\n",
    "    \n",
    "    return J\n"
   ],
   "outputs": [],
   "metadata": {}
  },
  {
   "cell_type": "code",
   "execution_count": 26,
   "source": [
    "cost = compute_cost(X,y, theta)\n",
    "print('The cost for given values of theta_0 and theta_1= ', cost)\n"
   ],
   "outputs": [
    {
     "output_type": "stream",
     "name": "stdout",
     "text": [
      "The cost for given values of theta_0 and theta_1=  5.483015861682611\n"
     ]
    }
   ],
   "metadata": {}
  },
  {
   "cell_type": "markdown",
   "source": [
    "### Gradient Descent\n",
    "\n",
    "Insert equation"
   ],
   "metadata": {}
  },
  {
   "cell_type": "code",
   "execution_count": 27,
   "source": [
    "def gradient_descent(X,y,theta,alpha,iterations):\n",
    "\n",
    "    cost_hist = np.zeros(iterations)\n",
    "\n",
    "    for i in range(iterations):\n",
    "        predictions = X.dot(theta)\n",
    "        errors = np.subtract(predictions, y)\n",
    "        sum_delta = (alpha / m) * X.transpose().dot(errors)\n",
    "        theta = theta - sum_delta\n",
    "        cost_hist[i] = compute_cost(X,y,theta)\n",
    "\n",
    "    return theta, cost_hist\n",
    "    "
   ],
   "outputs": [],
   "metadata": {}
  },
  {
   "cell_type": "code",
   "execution_count": 28,
   "source": [
    "theta = [0,0]\n",
    "iterations = 17\n",
    "alpha = 0.01"
   ],
   "outputs": [],
   "metadata": {}
  },
  {
   "cell_type": "code",
   "execution_count": 32,
   "source": [
    "theta = [0,0]\n",
    "iterations = 17\n",
    "alpha = 0.01\n",
    "theta, cost_hist = gradient_descent(X,y,theta,alpha,iterations)\n",
    "print('Final value of theta =', theta)\n",
    "print('cost_history =', cost_hist)\n",
    "\n",
    "modelx = theta[1] + theta[2]*X"
   ],
   "outputs": [
    {
     "output_type": "stream",
     "name": "stdout",
     "text": [
      "Final value of theta = [0.27160654 0.07080825]\n",
      "cost_history = [5.4416155  5.40304386 5.36697031 5.33310389 5.30118858 5.27099905\n",
      " 5.24233703 5.215028   5.18891841 5.16387309 5.13977307 5.11651366\n",
      " 5.09400269 5.07215902 5.05091124 5.03019648 5.00995936]\n"
     ]
    }
   ],
   "metadata": {}
  },
  {
   "cell_type": "code",
   "execution_count": 33,
   "source": [
    "plt.scatter(X[:,1],y,color='red',marker='+',label='Training Data')\n",
    "plt.plot(X[:,1],X.dot(theta),color='green',label='Linear Regression')\n",
    "\n",
    "plt.rcParams['figure.figsize'] = (10,6)\n",
    "plt.grid()\n",
    "plt.title('Linear Regressions Fit')\n",
    "plt.legend()\n"
   ],
   "outputs": [
    {
     "output_type": "execute_result",
     "data": {
      "text/plain": [
       "<matplotlib.legend.Legend at 0x7fcbaa63f3d0>"
      ]
     },
     "metadata": {},
     "execution_count": 33
    },
    {
     "output_type": "display_data",
     "data": {
      "text/plain": [
       "<Figure size 720x432 with 1 Axes>"
      ],
      "image/png": "[encoded data removed]"
     },
     "metadata": {
      "needs_background": "light"
     }
    }
   ],
   "metadata": {}
  },
  {
   "cell_type": "code",
   "execution_count": 39,
   "source": [
    "plt.plot(range(1,iterations+1),cost_hist,color='blue')\n",
    "plt.rcParams[\"figure.figsize\"] = (10,6)\n",
    "plt.grid()\n",
    "plt.xlabel('Number of iterations')\n",
    "plt.ylabel('Cost (J)')\n",
    "plt.title('Convergence of gradient descent')\n"
   ],
   "outputs": [
    {
     "output_type": "execute_result",
     "data": {
      "text/plain": [
       "Text(0.5, 1.0, 'Convergence of gradient descent')"
      ]
     },
     "metadata": {},
     "execution_count": 39
    },
    {
     "output_type": "display_data",
     "data": {
      "text/plain": [
       "<Figure size 720x432 with 1 Axes>"
      ],
      "image/png": "[encoded data removed]"
     },
     "metadata": {
      "needs_background": "light"
     }
    }
   ],
   "metadata": {}
  },
  {
   "cell_type": "markdown",
   "source": [
    "### Training 2\n"
   ],
   "metadata": {}
  },
  {
   "cell_type": "code",
   "execution_count": null,
   "source": [
    "x2\n"
   ],
   "outputs": [],
   "metadata": {}
  },
  {
   "cell_type": "markdown",
   "source": [
    "### Training 3\n"
   ],
   "metadata": {}
  },
  {
   "cell_type": "code",
   "execution_count": null,
   "source": [
    "x3\n"
   ],
   "outputs": [],
   "metadata": {}
  },
  {
   "cell_type": "markdown",
   "source": [
    "## Problem 2\n",
    "\n",
    "This time, run linear regression with gradient descent algorithm using all three explanatory variables. For the learning rate, explore different values between 0.1 and 0.01 (your choice). Initialize your parameters (theta to zero).\n",
    "\n",
    "* Report the final linear model you found the best. \n",
    "* Plot loss over the iteration.\n",
    "* Based on your training observations, describe the impact of the different learning rates on the final loss and number of training iteration.\n",
    "* Predict the value of y for new (X1, X2, X3) values (1, 1, 1), for (2, 0, 4), and for (3, 2, 1)\n",
    "\n",
    "Several parameters, organize parameters into a matrix...."
   ],
   "metadata": {}
  }
 ],
 "metadata": {
  "interpreter": {
   "hash": "dca0ade3e726a953b501b15e8e990130d2b7799f14cfd9f4271676035ebe5511"
  },
  "kernelspec": {
   "display_name": "Python 3",
   "language": "python",
   "name": "python3"
  },
  "language_info": {
   "codemirror_mode": {
    "name": "ipython",
    "version": 3
   },
   "file_extension": ".py",
   "mimetype": "text/x-python",
   "name": "python",
   "nbconvert_exporter": "python",
   "pygments_lexer": "ipython3",
   "version": "3.8.8"
  },
  "toc-autonumbering": true
 },
 "nbformat": 4,
 "nbformat_minor": 5
}