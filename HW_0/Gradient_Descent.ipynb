{
 "cells": [
  {
   "cell_type": "markdown",
   "source": [
    "# Homework 0: Gradient Descent Algorithm\n",
    "\n",
    "**Kimsour Thach** *800793249*\n",
    "\n",
    "*ECGR 5060*\n",
    "\n",
    "\n",
    "\n",
    "## Introduction \n",
    "\n",
    "The following code will perform the steps needed to perform a Gradient Descent on a ML model.\n",
    "\n"
   ],
   "metadata": {}
  },
  {
   "cell_type": "code",
   "execution_count": 3,
   "source": [
    "# First import all needed libraries\n",
    "\n",
    "import numpy as np     # Arrays\n",
    "import pandas as pd    # Data structures\n",
    "import matplotlib.pyplot as plt # Plotting\n"
   ],
   "outputs": [],
   "metadata": {}
  },
  {
   "cell_type": "markdown",
   "source": [
    "## Problem 1\n",
    "\n",
    "Develop a code that run linear regression with gradient decent algorithm for each of the explanatory variables in isolation. In this case, you assume that in each iteration, only one explanatory variable (either X1, or X2, or X3) is explaining the output. Basically, you need to do three different training, one per each explanatory variable. For the learning rate, explore different values between 0.1 and 0.01 (your choice). Initialize your parameters to zero (theta to zero).\n",
    "\n",
    "* Report the linear model you found for each explanatory variable.\n",
    "* Plot the final regression model and loss over the iteration per each explanatory variable.\n",
    "\n",
    "* **Which explanatory variable has the lower loss (cost) for explaining the output (Y)?**\n",
    "\n",
    "* **Based on your training observations, describe the impact of the different learning rates on the final loss and number of training iteration.**"
   ],
   "metadata": {}
  },
  {
   "cell_type": "code",
   "execution_count": 4,
   "source": [
    "# Read in CSV file\n",
    "# The CSV file should be contained in the same directory\n",
    "\n",
    "df = pd.read_csv('D3.csv')\n",
    "\n",
    "#Let's check out the first 5 rows of our dataset\n",
    "\n",
    "print(df.head())\n",
    "print(len(df))"
   ],
   "outputs": [
    {
     "output_type": "stream",
     "name": "stdout",
     "text": [
      "        0.0  3.4399999999999999  0.44000000000000039  4.387545011044053\n",
      "0  0.040404            0.134949             0.888485           2.679650\n",
      "1  0.080808            0.829899             1.336970           2.968490\n",
      "2  0.121212            1.524848             1.785455           3.254065\n",
      "3  0.161616            2.219798             2.233939           3.536375\n",
      "4  0.202020            2.914747             2.682424           3.815420\n",
      "99\n"
     ]
    }
   ],
   "metadata": {}
  },
  {
   "cell_type": "code",
   "execution_count": 8,
   "source": [
    "# Define explanatory variables (First 3 columns)\n",
    "\n",
    "x1 = df.values[:,0]\n",
    "x2 = df.values[:,1]\n",
    "x3 = df.values[:,2]\n",
    "y = df.values[:,3]\n",
    "m = len(y)"
   ],
   "outputs": [],
   "metadata": {}
  },
  {
   "cell_type": "markdown",
   "source": [
    "### Training 1\n",
    "\n",
    "**Cost/loss function**\n",
    "\n",
    "h = theta_0 + theta_1*x_1\n",
    "\n",
    "x_0 is always one, create a vector full of 1 to the length of the sample points.\n",
    "\n",
    "Calculated Model = [x0 , x1] * [theta_0 theta_1] "
   ],
   "metadata": {}
  },
  {
   "cell_type": "code",
   "execution_count": 9,
   "source": [
    "# x1\n",
    "plt.scatter(x1,y,color='red',marker='+')\n",
    "\n",
    "# Create a vector of ones\n",
    "\n",
    "x_0=np.ones((m,1))\n",
    "\n",
    "# Stack the 2 vectors together\n",
    "\n",
    "x_1=x1.reshape(m,1)\n",
    "\n",
    "X=np.hstack((x_0,x_1))\n",
    "\n",
    "theta=np.zeros(2)\n",
    "\n",
    "\n",
    "\n",
    "# Training Loop\n",
    "\n",
    "def compute_cost(X,y,theta):\n",
    "\n",
    "    predictions=X.dot(theta)\n",
    "    errors=np.subtract(predictions,y)\n",
    "    sqrErrors=np.square(errors)\n",
    "    J=1/(2*m)*np.sum(sqrErrors)\n",
    "    \n",
    "    return J\n"
   ],
   "outputs": [
    {
     "output_type": "execute_result",
     "data": {
      "text/plain": [
       "<matplotlib.collections.PathCollection at 0x7fdfefc3ed90>"
      ]
     },
     "metadata": {},
     "execution_count": 9
    },
    {
     "output_type": "display_data",
     "data": {
      "text/plain": [
       "<Figure size 432x288 with 1 Axes>"
      ],
      "image/png": "[encoded data removed]"
     },
     "metadata": {
      "needs_background": "light"
     }
    }
   ],
   "metadata": {}
  },
  {
   "cell_type": "markdown",
   "source": [
    "#  Compute cost for linear regression.  \n",
    "Input Parameters  \n",
    "----------------  \n",
    "X : 2D array where each row represent the training example and each column represent       \n",
    "m= number of training examples      \n",
    "n= number of features (including X_0 column of ones)  \n",
    "y : 1D array of labels/target value for each traing example. dimension(1 x m)  \n",
    "theta : 1D array of fitting parameters or weights. Dimension (1 x n)  Output Parameters  \n",
    "-----------------  \n",
    "J : Scalar value."
   ],
   "metadata": {}
  },
  {
   "cell_type": "markdown",
   "source": [
    "### Training 2\n"
   ],
   "metadata": {}
  },
  {
   "cell_type": "code",
   "execution_count": null,
   "source": [
    "x2\n"
   ],
   "outputs": [],
   "metadata": {}
  },
  {
   "cell_type": "markdown",
   "source": [
    "### Training 3\n"
   ],
   "metadata": {}
  },
  {
   "cell_type": "code",
   "execution_count": null,
   "source": [
    "x3\n"
   ],
   "outputs": [],
   "metadata": {}
  },
  {
   "cell_type": "markdown",
   "source": [
    "## Problem 2\n",
    "\n",
    "This time, run linear regression with gradient descent algorithm using all three explanatory variables. For the learning rate, explore different values between 0.1 and 0.01 (your choice). Initialize your parameters (theta to zero).\n",
    "\n",
    "* Report the final linear model you found the best. \n",
    "* Plot loss over the iteration.\n",
    "* Based on your training observations, describe the impact of the different learning rates on the final loss and number of training iteration.\n",
    "* Predict the value of y for new (X1, X2, X3) values (1, 1, 1), for (2, 0, 4), and for (3, 2, 1)\n",
    "\n",
    "Several parameters, organize parameters into a matrix...."
   ],
   "metadata": {}
  }
 ],
 "metadata": {
  "kernelspec": {
   "name": "python3",
   "display_name": "Python 3.8.8 64-bit ('base': conda)"
  },
  "language_info": {
   "codemirror_mode": {
    "name": "ipython",
    "version": 3
   },
   "file_extension": ".py",
   "mimetype": "text/x-python",
   "name": "python",
   "nbconvert_exporter": "python",
   "pygments_lexer": "ipython3",
   "version": "3.8.8"
  },
  "toc-autonumbering": true,
  "interpreter": {
   "hash": "dca0ade3e726a953b501b15e8e990130d2b7799f14cfd9f4271676035ebe5511"
  }
 },
 "nbformat": 4,
 "nbformat_minor": 5
}