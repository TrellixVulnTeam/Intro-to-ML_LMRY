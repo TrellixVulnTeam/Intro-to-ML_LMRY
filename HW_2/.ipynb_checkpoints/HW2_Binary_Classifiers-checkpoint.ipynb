{
 "cells": [
  {
   "cell_type": "markdown",
   "id": "54097999-fca0-48d4-8950-f26cd448b771",
   "metadata": {},
   "source": [
    "# HW 2 - Binary Classifiers\n",
    "\n",
    "Kim Thach\n",
    "*ECGR 5090 - C01*\n",
    "**800793249**\n",
    "\n",
    "https://github.com/thachkse/Intro-to-ML/tree/main/HW_2\n",
    "\n",
    "\n",
    "Table of Contents\n",
    "\n",
    "1. Logistic Regression\n",
    "2. Naive Bayes Binary Classifier\n",
    "3. K-fold Cross Validation\n",
    "3. K-fold Cross Validiation Part 2\n"
   ]
  },
  {
   "cell_type": "markdown",
   "id": "e12e7f57-449a-4093-9394-fd540f8b27d3",
   "metadata": {},
   "source": [
    "# Problem 1: Logistic Regresion\n",
    "\n",
    "Original Problem Statement:\n",
    "\n",
    "* Using the diabetes dataset, build a logistic regression binary classifier for positive diabetes. \n",
    "\n",
    "* Please use 80% and 20% split between training and evaluation (test). \n",
    "\n",
    "* Make sure to perform proper scaling and standardization before your training. \n",
    "\n",
    "* Report your results, including accuracy, precision, and recall. Also, plot the confusion matrix representing your binary classifier. \n"
   ]
  },
  {
   "cell_type": "markdown",
   "id": "c9e0f7ae-b275-481a-a31a-9eb0475473dc",
   "metadata": {},
   "source": [
    "## Import Data\n",
    "\n",
    "This section below shows the general libraries needed throughout this notebook / script. Ensure that the diabetes.csv is located in the working directory when running the code. The workbook / csv file contains 9 columns - totaling 8 features of the dataset and with a column (9th) containing an binary outcome (diabetic / non-diabetic patient ) ."
   ]
  },
  {
   "cell_type": "code",
   "execution_count": 1,
   "id": "8a2ae08b-59d6-4951-b53e-70026d9b3735",
   "metadata": {},
   "outputs": [
    {
     "name": "stdout",
     "output_type": "stream",
     "text": [
      "   Pregnancies  Glucose  BloodPressure  SkinThickness  Insulin   BMI  \\\n",
      "0            6      148             72             35        0  33.6   \n",
      "1            1       85             66             29        0  26.6   \n",
      "2            8      183             64              0        0  23.3   \n",
      "3            1       89             66             23       94  28.1   \n",
      "4            0      137             40             35      168  43.1   \n",
      "\n",
      "   DiabetesPedigreeFunction  Age  Outcome  \n",
      "0                     0.627   50        1  \n",
      "1                     0.351   31        0  \n",
      "2                     0.672   32        1  \n",
      "3                     0.167   21        0  \n",
      "4                     2.288   33        1  \n",
      "This dataset has 768 rows\n",
      "This dataset has 9 columns\n"
     ]
    }
   ],
   "source": [
    "# Initialize some libraries\n",
    "import numpy as np\n",
    "import pandas as pd\n",
    "import matplotlib.pyplot as plt\n",
    "\n",
    "# Read in Dataset\n",
    "DF = pd.DataFrame(pd.read_csv(\"diabetes.csv\"))\n",
    "print(DF.head())\n",
    "\n",
    "# What's the size of the dataset?\n",
    "\n",
    "print('This dataset has ' + str(DF.shape[0]) +' rows')\n",
    "print('This dataset has ' + str(DF.shape[1]) +' columns')\n"
   ]
  },
  {
   "cell_type": "markdown",
   "id": "f6f38326-e048-49e6-8eca-9f4202aa4ab1",
   "metadata": {},
   "source": [
    "## Data Organization and Standardization"
   ]
  },
  {
   "cell_type": "code",
   "execution_count": 2,
   "id": "9a2063f0-3ab5-43df-b6ea-0f02bfd30e40",
   "metadata": {},
   "outputs": [],
   "source": [
    "# Define Input and Outputs for the dataset\n",
    "Xin = DF.iloc[:,[0,1,2,3,4,5,6,7]].values\n",
    "Yout = DF.Outcome.values\n",
    "\n",
    "#print(Xin[0:5,:])\n"
   ]
  },
  {
   "cell_type": "code",
   "execution_count": 3,
   "id": "57ec6e3f-920b-46e7-a11c-aee117e6afc2",
   "metadata": {},
   "outputs": [],
   "source": [
    "# Split data set\n",
    "from sklearn.model_selection import train_test_split\n",
    "\n",
    "np.random.seed(0)\n",
    "x_train, x_test, y_train, y_test = train_test_split(Xin, Yout, train_size = 0.8, test_size = 0.2, random_state = 42)"
   ]
  },
  {
   "cell_type": "code",
   "execution_count": 4,
   "id": "8c9db60d-1d75-4c1e-ac59-d934d2daf9af",
   "metadata": {},
   "outputs": [],
   "source": [
    "from sklearn.preprocessing import MinMaxScaler, StandardScaler \n",
    "\n",
    "scaler_std = StandardScaler() \n",
    "train_std = scaler_std.fit_transform(x_train) \n",
    "test_std = scaler_std.transform(x_test) \n",
    "\n",
    "#scaler_mm = MinMaxScaler()\n",
    "#train_mm = scaler_mm.fit_transform(x_train) \n",
    "#test_mm = scaler_mm.transform(x_test) \n",
    "\n"
   ]
  },
  {
   "cell_type": "code",
   "execution_count": 5,
   "id": "d3803377-cfad-48ac-b258-d010e165361a",
   "metadata": {},
   "outputs": [
    {
     "data": {
      "text/plain": [
       "LogisticRegression(random_state=0)"
      ]
     },
     "execution_count": 5,
     "metadata": {},
     "output_type": "execute_result"
    }
   ],
   "source": [
    "from sklearn.linear_model import LogisticRegression \n",
    "\n",
    "classifier = LogisticRegression(random_state=0) \n",
    "classifier.fit(train_std, y_train)\n"
   ]
  },
  {
   "cell_type": "code",
   "execution_count": 6,
   "id": "d219ef17",
   "metadata": {},
   "outputs": [
    {
     "data": {
      "text/plain": [
       "array([0, 0, 0, 0, 0, 0, 0, 1, 1])"
      ]
     },
     "execution_count": 6,
     "metadata": {},
     "output_type": "execute_result"
    }
   ],
   "source": [
    "Y_pred = classifier.predict(test_std)\n",
    "\n",
    "Y_pred[0:9]\n",
    "\n",
    "#(Y_pred == y_test).mean()"
   ]
  },
  {
   "cell_type": "code",
   "execution_count": 7,
   "id": "cdb070c9-404c-49c8-b8e1-ec1ea0083ce2",
   "metadata": {},
   "outputs": [
    {
     "data": {
      "text/plain": [
       "array([[79, 20],\n",
       "       [18, 37]])"
      ]
     },
     "execution_count": 7,
     "metadata": {},
     "output_type": "execute_result"
    }
   ],
   "source": [
    "# Confusion matrix to get accuracy\n",
    "from sklearn.metrics import confusion_matrix\n",
    "cnf_matrix = confusion_matrix(y_test, Y_pred)\n",
    "cnf_matrix\n"
   ]
  },
  {
   "cell_type": "markdown",
   "id": "c1885bba-9667-4044-934d-26759b6bd95d",
   "metadata": {},
   "source": [
    "## Results\n",
    "\n",
    "The different results are provided below. The Accuracy , Precision, Recall rates, a confusion matrix, and a binary plot of the logistic regression results."
   ]
  },
  {
   "cell_type": "code",
   "execution_count": 8,
   "id": "0c5f8626",
   "metadata": {},
   "outputs": [
    {
     "name": "stdout",
     "output_type": "stream",
     "text": [
      "Accuracy: 0.7532467532467533\n",
      "Precision: 0.6491228070175439\n",
      "Recall: 0.6727272727272727\n"
     ]
    }
   ],
   "source": [
    "\n",
    "# Evaluate the model : accuracy, precision & recall\n",
    "\n",
    "from sklearn import metrics\n",
    "print(\"Accuracy:\",metrics.accuracy_score(y_test,Y_pred))\n",
    "print(\"Precision:\",metrics.precision_score(y_test,Y_pred))\n",
    "print(\"Recall:\",metrics.recall_score(y_test, Y_pred))"
   ]
  },
  {
   "cell_type": "code",
   "execution_count": 9,
   "id": "15e03946",
   "metadata": {},
   "outputs": [
    {
     "data": {
      "text/plain": [
       "Text(0.5, 257.44, 'Predicted label')"
      ]
     },
     "execution_count": 9,
     "metadata": {},
     "output_type": "execute_result"
    },
    {
     "data": {
      "image/png": "[encoded data removed]",
      "text/plain": [
       "<Figure size 432x288 with 2 Axes>"
      ]
     },
     "metadata": {
      "needs_background": "light"
     },
     "output_type": "display_data"
    }
   ],
   "source": [
    "# Visualization of the model\n",
    "\n",
    "import seaborn as sns\n",
    "class_names=[0,1]\n",
    "fig, ax = plt.subplots()\n",
    "tick_marks = np.arange(len(class_names))\n",
    "plt.xticks(tick_marks, class_names)\n",
    "plt.yticks(tick_marks, class_names)\n",
    "\n",
    "# Create heatmap\n",
    "sns.heatmap(pd.DataFrame(cnf_matrix), annot=True, cmap=\"YlGnBu\", fmt='g')\n",
    "ax.xaxis.set_label_position(\"top\")\n",
    "plt.tight_layout()\n",
    "plt.title('Confusion matrix',y=1.1)\n",
    "plt.ylabel('Actual label')\n",
    "plt.xlabel('Predicted label')\n"
   ]
  },
  {
   "cell_type": "code",
   "execution_count": 10,
   "id": "9321419f",
   "metadata": {},
   "outputs": [
    {
     "name": "stdout",
     "output_type": "stream",
     "text": [
      "(154, 2)\n",
      "(6, 5)\n",
      "(6, 5)\n"
     ]
    },
    {
     "data": {
      "image/png": "[encoded data removed]",
      "text/plain": [
       "<Figure size 720x432 with 1 Axes>"
      ]
     },
     "metadata": {
      "needs_background": "light"
     },
     "output_type": "display_data"
    }
   ],
   "source": [
    "import warnings \n",
    "warnings.filterwarnings('ignore')\n",
    "from matplotlib.colors import ListedColormap\n",
    "\n",
    "from sklearn.linear_model import LogisticRegression\n",
    "\n",
    "X, y = test_std[:,0:2], y_test\n",
    "classifierx = LogisticRegression(random_state=0) \n",
    "classifierx.fit(train_std[:,0:2], y_train)\n",
    "\n",
    "X_set = test_std[:,0:2] \n",
    "Y_set = y_test\n",
    "print(X_set.shape)\n",
    "\n",
    "\n",
    "X1, X2 = np.meshgrid(np.arange(start = X_set[:,0].min() -1, stop = X_set[:,0].max()),np.arange(start = X_set[:,1].min() -1, stop = X_set[:,1].max()))\n",
    "print(X1.shape)\n",
    "print(X2.shape)\n",
    "\n",
    "xgrid = np.array([X1.ravel(),X2.ravel()]).T\n",
    "#print(xgrid)\n",
    "#XT = classifier.predict(test_std).reshape(xgrid.shape)\n",
    "\n",
    "\n",
    "\n",
    "XT = classifierx.predict(xgrid).reshape(X1.shape)\n",
    "\n",
    "    \n",
    "plt.figure(figsize = (10, 6)) \n",
    "plt.contourf(X1, X2, XT, alpha = 0.75, cmap=ListedColormap(('red','green')))\n",
    "plt.xlim(X1.min(), X1.max())\n",
    "plt.ylim(X2.min(), X2.max())\n",
    "plt.scatter(X[y == 0][:, 0], X[y == 0][:, 1], color = 'b', label = '0')\n",
    "plt.scatter(X[y == 1][:, 0], X[y == 1][:, 1], color = 'y', label = '1')\n",
    "plt.title('Logistic Regression (Test set)')\n",
    "plt.xlabel('Pregnancies')\n",
    "plt.ylabel('Glucose')\n",
    "plt.legend()\n",
    "plt.show()\n",
    "\n",
    "\n",
    "\n",
    "#for i, j in enumerate(np.unique(Y_set)):\n",
    "    #plt.scatter(X_set[Y_set == j, 0], X_set[Y_set ==j, 1], c = ListedColormap(('yellow','blue'))(i),label = j)\n",
    "    #plt.title('Logistic Regression (Test set)')\n",
    "    #plt.xlabel('Pregnancies')\n",
    "    #plt.ylabel('Glucose')\n",
    "    #plt.legend()\n",
    "    #plt.show()\n"
   ]
  },
  {
   "cell_type": "code",
   "execution_count": 11,
   "id": "b3fbb5f7",
   "metadata": {},
   "outputs": [
    {
     "data": {
      "text/plain": [
       "<matplotlib.contour.QuadContourSet at 0x7f8ddbe81280>"
      ]
     },
     "execution_count": 11,
     "metadata": {},
     "output_type": "execute_result"
    },
    {
     "data": {
      "image/png": "[encoded data removed]",
      "text/plain": [
       "<Figure size 720x432 with 1 Axes>"
      ]
     },
     "metadata": {
      "needs_background": "light"
     },
     "output_type": "display_data"
    }
   ],
   "source": [
    "from sklearn.linear_model import LogisticRegression\n",
    "\n",
    "X, y = test_std[:,0:2], y_test\n",
    "classifierx = LogisticRegression(random_state=0) \n",
    "classifierx.fit(train_std[:,0:2], y_train)\n",
    "\n",
    "\n",
    "#print(test_std.shape)\n",
    "#print(X.shape)\n",
    "#print(y.shape)\n",
    "\n",
    "plt.figure(figsize = (10, 6))\n",
    "\n",
    "\n",
    "plt.scatter(X[y == 0][:, 0], X[y == 0][:, 1], color = 'g', label = '0')\n",
    "plt.scatter(X[y == 1][:, 0], X[y == 1][:, 1], color = 'y', label = '1')\n",
    "plt.legend()\n",
    "\n",
    "x1_min, x1_max = X[:,0].min(), X[:,0].max(),\n",
    "x2_min, x2_max = X[:,1].min(), X[:,1].max(),\n",
    "xx1, xx2 = np.meshgrid(np.linspace(x1_min, x1_max), np.linspace(x2_min, x2_max))\n",
    "grid = np.array([xx1.ravel(), xx2.ravel()]).T\n",
    "#print(grid.shape)\n",
    "\n",
    "probs = classifierx.predict(grid).reshape(xx1.shape)\n",
    "#print(probs.shape)\n",
    "#print(xx1.shape)\n",
    "#plt.plot(xx1, xx2, [0.5], linewidths=1, colors='red');\n",
    "plt.contour(xx1, xx2, probs,[0.5], linewidths=1, colors='red')\n"
   ]
  },
  {
   "cell_type": "markdown",
   "id": "dcafa31b-c83c-414b-ad38-a7f36aad7c17",
   "metadata": {},
   "source": [
    "## Observation - Problem 1\n",
    "\n",
    "The logistic regression shows a very high True negative (dark blue quadrant), which is evident on the confusion matrix above. Whereas, the true positives fall short significantly. This means the model is able to accurately determine who may be negative for diabetes and it's repeatability in this case is quite good. The two plots below the confusion matrix represent 2 of the features in the dataset as scatter plots (x-axis: pregnancies, y-axis: Glucose). I wasn't quite sure how to show more than 2 features on a single plot for the classifier.\n",
    "\n",
    "I that case, this is somewhat representative in one portion of space for the model. The model or the threshold line determined from the model shows a fairly decent separation between the 2 classes. While reviewing the plots it seems the model works pretty well. "
   ]
  },
  {
   "cell_type": "markdown",
   "id": "a96a437a-9b86-45f2-b5fd-80678d9f6412",
   "metadata": {},
   "source": [
    "# Problem 2: Gaussian Naive Bayes\n",
    "\n",
    "Using the diabetes dataset, build a **Naïve Bays binary classifier** for positive diabetes. \n",
    "\n",
    "Please use 80% and 20% split between training and evaluation (test). \n",
    "\n",
    "* Make sure to perform proper scaling and standardization before your training. \n",
    "\n",
    "* Report your results, including accuracy, precision, and recall. \n",
    "\n",
    "* Also, plot the confusion matrix representing your binary classifier. \n",
    "\n",
    "* Compare and analyze your results against problem 1.\n",
    "\n"
   ]
  },
  {
   "cell_type": "code",
   "execution_count": 12,
   "id": "7fad2e6b",
   "metadata": {},
   "outputs": [
    {
     "data": {
      "text/plain": [
       "GaussianNB()"
      ]
     },
     "execution_count": 12,
     "metadata": {},
     "output_type": "execute_result"
    }
   ],
   "source": [
    "from sklearn.naive_bayes import GaussianNB\n",
    "\n",
    "classifierG = GaussianNB()\n",
    "classifierG.fit(train_std,y_train)\n"
   ]
  },
  {
   "cell_type": "code",
   "execution_count": 13,
   "id": "3768bbf2",
   "metadata": {},
   "outputs": [],
   "source": [
    "Y2_pred = classifierG.predict(test_std)"
   ]
  },
  {
   "cell_type": "code",
   "execution_count": 14,
   "id": "d8da08fd",
   "metadata": {},
   "outputs": [
    {
     "name": "stdout",
     "output_type": "stream",
     "text": [
      "[[79 20]\n",
      " [16 39]]\n",
      "Accuracy: 0.7662337662337663\n",
      "Precision: 0.6610169491525424\n",
      "Recall: 0.7090909090909091\n"
     ]
    }
   ],
   "source": [
    "from sklearn import metrics\n",
    "cm = confusion_matrix(y_test, Y2_pred)\n",
    "print(cm)\n",
    "print(\"Accuracy:\",metrics.accuracy_score(y_test,Y2_pred))\n",
    "print(\"Precision:\",metrics.precision_score(y_test,Y2_pred))\n",
    "print(\"Recall:\",metrics.recall_score(y_test, Y2_pred))\n",
    "\n",
    "# Has a higher accuracy, but why??? There's soo many features.."
   ]
  },
  {
   "cell_type": "code",
   "execution_count": 15,
   "id": "127ac48e",
   "metadata": {},
   "outputs": [
    {
     "data": {
      "text/plain": [
       "Text(0.5, 257.44, 'Predicted label')"
      ]
     },
     "execution_count": 15,
     "metadata": {},
     "output_type": "execute_result"
    },
    {
     "data": {
      "image/png": "[encoded data removed]",
      "text/plain": [
       "<Figure size 432x288 with 2 Axes>"
      ]
     },
     "metadata": {
      "needs_background": "light"
     },
     "output_type": "display_data"
    }
   ],
   "source": [
    "import seaborn as sns\n",
    "class_names=[0,1]\n",
    "fig, ax = plt.subplots()\n",
    "tick_marks = np.arange(len(class_names))\n",
    "plt.xticks(tick_marks, class_names)\n",
    "plt.yticks(tick_marks, class_names)\n",
    "\n",
    "# Create heatmap\n",
    "sns.heatmap(pd.DataFrame(cm), annot=True, cmap=\"YlGnBu\", fmt='g')\n",
    "ax.xaxis.set_label_position(\"top\")\n",
    "plt.tight_layout()\n",
    "plt.title('Confusion matrix',y=1.1)\n",
    "plt.ylabel('Actual label')\n",
    "plt.xlabel('Predicted label')\n",
    "\n"
   ]
  },
  {
   "cell_type": "code",
   "execution_count": 16,
   "id": "5dc41c36-293b-4ea4-93ed-7eece295efcc",
   "metadata": {},
   "outputs": [
    {
     "data": {
      "text/plain": [
       "<matplotlib.contour.QuadContourSet at 0x7f8ddc0e8d60>"
      ]
     },
     "execution_count": 16,
     "metadata": {},
     "output_type": "execute_result"
    },
    {
     "data": {
      "image/png": "[encoded data removed]",
      "text/plain": [
       "<Figure size 720x432 with 1 Axes>"
      ]
     },
     "metadata": {
      "needs_background": "light"
     },
     "output_type": "display_data"
    }
   ],
   "source": [
    "from sklearn.naive_bayes import GaussianNB\n",
    "X, y = test_std[:,0:2], y_test\n",
    "classifierG2 = GaussianNB()\n",
    "classifierG2.fit(train_std[:,0:2],y_train)\n",
    "\n",
    "#print(test_std.shape)\n",
    "#print(X.shape)\n",
    "#print(y.shape)\n",
    "\n",
    "plt.figure(figsize = (10, 6))\n",
    "\n",
    "\n",
    "plt.scatter(X[y == 0][:, 0], X[y == 0][:, 1], color = 'g', label = '0')\n",
    "plt.scatter(X[y == 1][:, 0], X[y == 1][:, 1], color = 'y', label = '1')\n",
    "plt.legend()\n",
    "\n",
    "x1_min, x1_max = X[:,0].min(), X[:,0].max(),\n",
    "x2_min, x2_max = X[:,1].min(), X[:,1].max(),\n",
    "xx1_2, xx2_2 = np.meshgrid(np.linspace(x1_min, x1_max), np.linspace(x2_min, x2_max))\n",
    "grid_2 = np.array([xx1.ravel(), xx2.ravel()]).T\n",
    "#print(grid.shape)\n",
    "\n",
    "probs_2 = classifierG2.predict(grid).reshape(xx1.shape)\n",
    "#print(probs.shape)\n",
    "#print(xx1.shape)\n",
    "#plt.plot(xx1, xx2, [0.5], linewidths=1, colors='red');\n",
    "plt.contour(xx1_2, xx2_2, probs_2,[0.5], linewidths=1, colors='red')"
   ]
  },
  {
   "cell_type": "code",
   "execution_count": 17,
   "id": "7b3b091b-7d2c-4610-bc6f-2cab91ce31e4",
   "metadata": {},
   "outputs": [
    {
     "data": {
      "text/plain": [
       "<matplotlib.contour.QuadContourSet at 0x7f8ddc039910>"
      ]
     },
     "execution_count": 17,
     "metadata": {},
     "output_type": "execute_result"
    },
    {
     "data": {
      "image/png": "[encoded data removed]",
      "text/plain": [
       "<Figure size 720x432 with 1 Axes>"
      ]
     },
     "metadata": {
      "needs_background": "light"
     },
     "output_type": "display_data"
    }
   ],
   "source": [
    "plt.figure(figsize = (10, 6))\n",
    "\n",
    "\n",
    "plt.scatter(X[y == 0][:, 0], X[y == 0][:, 1], color = 'g', label = '0')\n",
    "plt.scatter(X[y == 1][:, 0], X[y == 1][:, 1], color = 'y', label = '1')\n",
    "plt.legend()\n",
    "\n",
    "x1_min, x1_max = X[:,0].min(), X[:,0].max(),\n",
    "x2_min, x2_max = X[:,1].min(), X[:,1].max(),\n",
    "plt.contour(xx1, xx2, probs,[0.5], linewidths=1, colors='blue')\n",
    "plt.contour(xx1_2, xx2_2, probs_2,[0.5], linewidths=1, colors='red')"
   ]
  },
  {
   "cell_type": "markdown",
   "id": "eefd8ff5",
   "metadata": {},
   "source": [
    "## Observation - Problem 2\n",
    "\n",
    "The Naive bayes model shows a very similar confusion matrix to the one created using the logistic regression classifier. The accuracy and the recall for the model is slightly higher, than that of the logistic regression. It is uncertain whether or not that plays a significant role / shows any significant improvement between the models. \n",
    "\n",
    "Using the same features as before for the scatter points, the 2 plots above shows the threshold generated with the Naive bayes classification approach and the plot directly below shows the both generated thresholds / classifiers on the same plot.  The blue line - is the threshold generated by the logisitic regression classifier, and the red plotted line is the one recently generated using the Gaussian Naive Bayes classifier. It seems through visual observation that the Naive Bayes classifier may be slightly better technique for this specific dataset to identify a diabetic / non-diabetic patient."
   ]
  },
  {
   "cell_type": "markdown",
   "id": "a11ffa82-f211-4a09-82a8-cfbb72a99520",
   "metadata": {},
   "source": [
    "# Problem 3 - Logistic Regression + K-Folds\n",
    "\n",
    "Repeat problem 1, \n",
    "\n",
    "* Use K-fold cross-validation for your training and validation. \n",
    "\n",
    "* Perform the training two times for K=5 and K=10. \n",
    "\n",
    "* Analyze and compare your results against problem 1."
   ]
  },
  {
   "cell_type": "code",
   "execution_count": 18,
   "id": "328c9b11-15fb-4c07-aef8-08dae93299c7",
   "metadata": {},
   "outputs": [
    {
     "name": "stdout",
     "output_type": "stream",
     "text": [
      "KFold(n_splits=5, random_state=None, shuffle=False)\n",
      "[[  6.    148.     72.    ...  33.6     0.627  50.   ]\n",
      " [  1.     85.     66.    ...  26.6     0.351  31.   ]\n",
      " [  8.    183.     64.    ...  23.3     0.672  32.   ]\n",
      " ...\n",
      " [  7.    168.     88.    ...  38.2     0.787  40.   ]\n",
      " [  6.    105.     80.    ...  32.5     0.878  26.   ]\n",
      " [ 11.    138.     74.    ...  36.1     0.557  50.   ]]\n"
     ]
    }
   ],
   "source": [
    "# Define Input and Outputs for the dataset\n",
    "#Xin = DF.iloc[:,[0,1,2,3,4,5,6,7]].values\n",
    "#Yout = DF.Outcome.values\n",
    "\n",
    "from sklearn.model_selection import KFold\n",
    "Xk = Xin\n",
    "yk = Yout\n",
    "kf = KFold(n_splits=5)\n",
    "kf.get_n_splits(X)\n",
    "\n",
    "print(kf)\n",
    "\n",
    "KFold(n_splits=5, random_state=None, shuffle=False)\n",
    "for train_index, test_index in kf.split(Xk):\n",
    "    #print(\"TRAIN:\", train_index, \"TEST:\", test_index)\n",
    "    X_traink, X_testk = Xk[train_index], Xk[test_index]\n",
    "    y_traink, y_testk = yk[train_index], yk[test_index]\n",
    "print(X_traink)"
   ]
  },
  {
   "cell_type": "code",
   "execution_count": 19,
   "id": "a165e509-8eda-4f56-b037-1c58d09a0552",
   "metadata": {},
   "outputs": [],
   "source": [
    "# Standardize training sets\n",
    "scaler_std = StandardScaler() \n",
    "train_stdk = scaler_std.fit_transform(X_traink) \n",
    "test_stdk = scaler_std.transform(X_testk) \n"
   ]
  },
  {
   "cell_type": "code",
   "execution_count": 20,
   "id": "cf96807f-016a-41b3-b38e-cbf4f71072b5",
   "metadata": {},
   "outputs": [
    {
     "data": {
      "text/plain": [
       "array([0, 0, 0, 0, 0, 0, 0, 1, 0])"
      ]
     },
     "execution_count": 20,
     "metadata": {},
     "output_type": "execute_result"
    }
   ],
   "source": [
    "Y_predk = classifier.predict(test_stdk)\n",
    "Y_predk[0:9]"
   ]
  },
  {
   "cell_type": "code",
   "execution_count": 21,
   "id": "1d18f135-54fc-456b-86cb-3dec07804c39",
   "metadata": {},
   "outputs": [
    {
     "data": {
      "text/plain": [
       "array([[89, 10],\n",
       "       [26, 28]])"
      ]
     },
     "execution_count": 21,
     "metadata": {},
     "output_type": "execute_result"
    }
   ],
   "source": [
    "# Confusion matrix to get accuracy\n",
    "from sklearn.metrics import confusion_matrix\n",
    "cnf_matrixk = confusion_matrix(y_testk, Y_predk)\n",
    "cnf_matrixk"
   ]
  },
  {
   "cell_type": "code",
   "execution_count": 22,
   "id": "5cd45942-0b0a-4306-925c-265f332b076e",
   "metadata": {},
   "outputs": [
    {
     "name": "stdout",
     "output_type": "stream",
     "text": [
      "Accuracy: 0.7647058823529411\n",
      "Precision: 0.7368421052631579\n",
      "Recall: 0.5185185185185185\n"
     ]
    }
   ],
   "source": [
    "# Evaluate the model : accuracy, precision & recall\n",
    "\n",
    "from sklearn import metrics\n",
    "print(\"Accuracy:\",metrics.accuracy_score(y_testk,Y_predk))\n",
    "print(\"Precision:\",metrics.precision_score(y_testk,Y_predk))\n",
    "print(\"Recall:\",metrics.recall_score(y_testk, Y_predk))"
   ]
  },
  {
   "cell_type": "code",
   "execution_count": 23,
   "id": "05f9bfeb-3f56-447e-aa95-ca952c06420a",
   "metadata": {},
   "outputs": [
    {
     "data": {
      "text/plain": [
       "Text(0.5, 257.44, 'Predicted label')"
      ]
     },
     "execution_count": 23,
     "metadata": {},
     "output_type": "execute_result"
    },
    {
     "data": {
      "image/png": "[encoded data removed]",
      "text/plain": [
       "<Figure size 432x288 with 2 Axes>"
      ]
     },
     "metadata": {
      "needs_background": "light"
     },
     "output_type": "display_data"
    }
   ],
   "source": [
    "import seaborn as sns\n",
    "class_names=[0,1]\n",
    "fig, ax = plt.subplots()\n",
    "tick_marks = np.arange(len(class_names))\n",
    "plt.xticks(tick_marks, class_names)\n",
    "plt.yticks(tick_marks, class_names)\n",
    "\n",
    "# Create heatmap\n",
    "sns.heatmap(pd.DataFrame(cnf_matrixk), annot=True, cmap=\"YlGnBu\", fmt='g')\n",
    "ax.xaxis.set_label_position(\"top\")\n",
    "plt.tight_layout()\n",
    "plt.title('Confusion matrix',y=1.1)\n",
    "plt.ylabel('Actual label')\n",
    "plt.xlabel('Predicted label')"
   ]
  },
  {
   "cell_type": "code",
   "execution_count": 24,
   "id": "18c33a93-bf9c-4206-848f-2dcdddf55528",
   "metadata": {},
   "outputs": [
    {
     "name": "stdout",
     "output_type": "stream",
     "text": [
      "KFold(n_splits=10, random_state=None, shuffle=False)\n",
      "[[  6.    148.     72.    ...  33.6     0.627  50.   ]\n",
      " [  1.     85.     66.    ...  26.6     0.351  31.   ]\n",
      " [  8.    183.     64.    ...  23.3     0.672  32.   ]\n",
      " ...\n",
      " [  1.    144.     82.    ...  46.1     0.335  46.   ]\n",
      " [  8.    107.     80.    ...  24.6     0.856  34.   ]\n",
      " [ 13.    158.    114.    ...  42.3     0.257  44.   ]]\n",
      "[0 1 0 0 1 0 0 1 0]\n",
      "[[43  3]\n",
      " [13 17]]\n",
      "Accuracy: 0.7894736842105263\n",
      "Precision: 0.85\n",
      "Recall: 0.5666666666666667\n"
     ]
    },
    {
     "data": {
      "text/plain": [
       "Text(0.5, 257.44, 'Predicted label')"
      ]
     },
     "execution_count": 24,
     "metadata": {},
     "output_type": "execute_result"
    },
    {
     "data": {
      "image/png": "[encoded data removed]",
      "text/plain": [
       "<Figure size 432x288 with 2 Axes>"
      ]
     },
     "metadata": {
      "needs_background": "light"
     },
     "output_type": "display_data"
    }
   ],
   "source": [
    "kf = KFold(n_splits=10)\n",
    "kf.get_n_splits(X)\n",
    "\n",
    "print(kf)\n",
    "\n",
    "KFold(n_splits=10, random_state=None, shuffle=False)\n",
    "for train_index, test_index in kf.split(Xk):\n",
    "    #print(\"TRAIN:\", train_index, \"TEST:\", test_index)\n",
    "    X_traink2, X_testk2 = Xk[train_index], Xk[test_index]\n",
    "    y_traink2, y_testk2 = yk[train_index], yk[test_index]\n",
    "print(X_traink2)\n",
    "\n",
    "train_stdk2 = scaler_std.fit_transform(X_traink2) \n",
    "test_stdk2 = scaler_std.transform(X_testk2) \n",
    "\n",
    "Y_predk2 = classifier.predict(test_stdk2)\n",
    "print(Y_predk2[0:9])\n",
    "\n",
    "cnf_matrixk2 = confusion_matrix(y_testk2, Y_predk2)\n",
    "print(cnf_matrixk2)\n",
    "\n",
    "print(\"Accuracy:\",metrics.accuracy_score(y_testk2,Y_predk2))\n",
    "print(\"Precision:\",metrics.precision_score(y_testk2,Y_predk2))\n",
    "print(\"Recall:\",metrics.recall_score(y_testk2, Y_predk2))\n",
    "\n",
    "\n",
    "class_names=[0,1]\n",
    "fig, ax = plt.subplots()\n",
    "tick_marks = np.arange(len(class_names))\n",
    "plt.xticks(tick_marks, class_names)\n",
    "plt.yticks(tick_marks, class_names)\n",
    "\n",
    "# Create heatmap\n",
    "sns.heatmap(pd.DataFrame(cnf_matrixk2), annot=True, cmap=\"YlGnBu\", fmt='g')\n",
    "ax.xaxis.set_label_position(\"top\")\n",
    "plt.tight_layout()\n",
    "plt.title('Confusion matrix',y=1.1)\n",
    "plt.ylabel('Actual label')\n",
    "plt.xlabel('Predicted label')"
   ]
  },
  {
   "cell_type": "code",
   "execution_count": 25,
   "id": "9454f144-031f-42ea-82e6-bfbf09f25d68",
   "metadata": {},
   "outputs": [
    {
     "data": {
      "text/plain": [
       "<matplotlib.contour.QuadContourSet at 0x7f8ddc41beb0>"
      ]
     },
     "execution_count": 25,
     "metadata": {},
     "output_type": "execute_result"
    },
    {
     "data": {
      "image/png": "[encoded data removed]",
      "text/plain": [
       "<Figure size 720x432 with 1 Axes>"
      ]
     },
     "metadata": {
      "needs_background": "light"
     },
     "output_type": "display_data"
    }
   ],
   "source": [
    "from sklearn.linear_model import LogisticRegression\n",
    "\n",
    "X, y = test_stdk[:,0:2], y_testk\n",
    "classifierx = LogisticRegression(random_state=0) \n",
    "classifierx.fit(train_stdk[:,0:2], y_traink)\n",
    "\n",
    "\n",
    "#print(test_std.shape)\n",
    "#print(X.shape)\n",
    "#print(y.shape)\n",
    "\n",
    "plt.figure(figsize = (10, 6))\n",
    "\n",
    "\n",
    "plt.scatter(X[y == 0][:, 0], X[y == 0][:, 1], color = 'g', label = '0')\n",
    "plt.scatter(X[y == 1][:, 0], X[y == 1][:, 1], color = 'y', label = '1')\n",
    "plt.legend()\n",
    "\n",
    "x1_min, x1_max = X[:,0].min(), X[:,0].max(),\n",
    "x2_min, x2_max = X[:,1].min(), X[:,1].max(),\n",
    "xx1_k, xx2_k = np.meshgrid(np.linspace(x1_min, x1_max), np.linspace(x2_min, x2_max))\n",
    "grid = np.array([xx1_k.ravel(), xx2_k.ravel()]).T\n",
    "#print(grid.shape)\n",
    "\n",
    "probs_k = classifierx.predict(grid).reshape(xx1.shape)\n",
    "#print(probs.shape)\n",
    "#print(xx1.shape)\n",
    "#plt.plot(xx1, xx2, [0.5], linewidths=1, colors='red');\n",
    "plt.contour(xx1_k, xx2_k, probs_k,[0.5], linewidths=1, colors='red')\n",
    "plt.contour(xx1, xx2, probs,[0.5], linewidths=1, colors='blue')"
   ]
  },
  {
   "cell_type": "markdown",
   "id": "29ad7278-ee6f-42d5-b79f-a1c27a228d5e",
   "metadata": {},
   "source": [
    "## Observation - Problem 3\n",
    "\n",
    "This problem will follow many of the same steps used in problem 1 , but instead of manually defining percentages to split the training and validation set, the K-folds method will be used to iteratively define new trainig and validation sets in order to generate a more generalized model for determining a diabetic / non-diabetic patient. \n",
    "\n",
    "The confusion matrix shows a very similar color variation to each qaudrant as like the others before. in this case the values in the qaudrants are significantly lower when using the k-folds approach with higher number of folds. With just 5 folds it seems like outcome of the confusion matrix is very similar to the standard approach of splitting training and validation sets. Whereas when the number of folds increase the True negative value decreases overall by about 50%.\n",
    "\n",
    "The plot above shows the 2 different training and validation approaches for the test set. The blue line represents the k-fold = 5 threshold and the red line represents the threshold generated with just the standard training/splitting approach for the logistic regression classifier. There's very little difference between the 2 methods in this case. Does it matter which approach you use, it doesn't seem so at the moment."
   ]
  },
  {
   "cell_type": "markdown",
   "id": "f76aa546-77c9-455b-8658-85d5a44fb093",
   "metadata": {},
   "source": [
    "# Problem 4 - Gaussian Naive Bayes + K-folds\n",
    "\n",
    "Repeat problem 2, \n",
    "\n",
    "* K-fold cross-validation for your training and validation. \n",
    "\n",
    "* Does this make sense? Elaborate on your answer.\n",
    "\n"
   ]
  },
  {
   "cell_type": "code",
   "execution_count": 26,
   "id": "89d07dc2-f99a-4d2f-bd7b-b43534b89a24",
   "metadata": {},
   "outputs": [
    {
     "name": "stdout",
     "output_type": "stream",
     "text": [
      "KFold(n_splits=5, random_state=None, shuffle=False)\n",
      "[[  6.    148.     72.    ...  33.6     0.627  50.   ]\n",
      " [  1.     85.     66.    ...  26.6     0.351  31.   ]\n",
      " [  8.    183.     64.    ...  23.3     0.672  32.   ]\n",
      " ...\n",
      " [  7.    168.     88.    ...  38.2     0.787  40.   ]\n",
      " [  6.    105.     80.    ...  32.5     0.878  26.   ]\n",
      " [ 11.    138.     74.    ...  36.1     0.557  50.   ]]\n",
      "[0 1 0 0 1 0 0 1 0]\n",
      "[[84 15]\n",
      " [24 30]]\n",
      "Accuracy: 0.7450980392156863\n",
      "Precision: 0.6666666666666666\n",
      "Recall: 0.5555555555555556\n"
     ]
    },
    {
     "data": {
      "text/plain": [
       "Text(0.5, 257.44, 'Predicted label')"
      ]
     },
     "execution_count": 26,
     "metadata": {},
     "output_type": "execute_result"
    },
    {
     "data": {
      "image/png": "[encoded data removed]",
      "text/plain": [
       "<Figure size 432x288 with 2 Axes>"
      ]
     },
     "metadata": {
      "needs_background": "light"
     },
     "output_type": "display_data"
    }
   ],
   "source": [
    "kf = KFold(n_splits=5)\n",
    "kf.get_n_splits(X)\n",
    "\n",
    "print(kf)\n",
    "\n",
    "KFold(n_splits=5, random_state=None, shuffle=False)\n",
    "for train_index, test_index in kf.split(Xk):\n",
    "    #print(\"TRAIN:\", train_index, \"TEST:\", test_index)\n",
    "    X_traink2, X_testk2 = Xk[train_index], Xk[test_index]\n",
    "    y_traink2, y_testk2 = yk[train_index], yk[test_index]\n",
    "print(X_traink2)\n",
    "\n",
    "train_stdk2 = scaler_std.fit_transform(X_traink2) \n",
    "test_stdk2 = scaler_std.transform(X_testk2) \n",
    "\n",
    "classifierGx = GaussianNB()\n",
    "classifierGx.fit(train_stdk2,y_traink2)\n",
    "Y_predkG = classifierGx.predict(test_stdk2)\n",
    "print(Y_predk2[0:9])\n",
    "\n",
    "cnf_matrixk2G = confusion_matrix(y_testk2, Y_predkG)\n",
    "print(cnf_matrixk2G)\n",
    "\n",
    "print(\"Accuracy:\",metrics.accuracy_score(y_testk2,Y_predkG))\n",
    "print(\"Precision:\",metrics.precision_score(y_testk2,Y_predkG))\n",
    "print(\"Recall:\",metrics.recall_score(y_testk2, Y_predkG))\n",
    "\n",
    "\n",
    "class_names=[0,1]\n",
    "fig, ax = plt.subplots()\n",
    "tick_marks = np.arange(len(class_names))\n",
    "plt.xticks(tick_marks, class_names)\n",
    "plt.yticks(tick_marks, class_names)\n",
    "\n",
    "# Create heatmap\n",
    "sns.heatmap(pd.DataFrame(cnf_matrixk2G), annot=True, cmap=\"YlGnBu\", fmt='g')\n",
    "ax.xaxis.set_label_position(\"top\")\n",
    "plt.tight_layout()\n",
    "plt.title('Confusion matrix',y=1.1)\n",
    "plt.ylabel('Actual label')\n",
    "plt.xlabel('Predicted label')\n"
   ]
  },
  {
   "cell_type": "code",
   "execution_count": 27,
   "id": "d538f5bd-05e0-457e-9751-4c5a335c43f8",
   "metadata": {},
   "outputs": [
    {
     "data": {
      "text/plain": [
       "<matplotlib.contour.QuadContourSet at 0x7f8ddc848ca0>"
      ]
     },
     "execution_count": 27,
     "metadata": {},
     "output_type": "execute_result"
    },
    {
     "data": {
      "image/png": "[encoded data removed]",
      "text/plain": [
       "<Figure size 720x432 with 1 Axes>"
      ]
     },
     "metadata": {
      "needs_background": "light"
     },
     "output_type": "display_data"
    }
   ],
   "source": [
    "from sklearn.linear_model import LogisticRegression\n",
    "\n",
    "X, y = test_stdk2[:,0:2], y_testk2\n",
    "\n",
    "classifierGk = GaussianNB()\n",
    "classifierGk.fit(train_stdk2[:,0:2],y_traink2)\n",
    "\n",
    "\n",
    "\n",
    "#print(test_std.shape)\n",
    "#print(X.shape)\n",
    "#print(y.shape)\n",
    "\n",
    "plt.figure(figsize = (10, 6))\n",
    "\n",
    "\n",
    "plt.scatter(X[y == 0][:, 0], X[y == 0][:, 1], color = 'g', label = '0')\n",
    "plt.scatter(X[y == 1][:, 0], X[y == 1][:, 1], color = 'y', label = '1')\n",
    "plt.legend()\n",
    "\n",
    "x1_min, x1_max = X[:,0].min(), X[:,0].max(),\n",
    "x2_min, x2_max = X[:,1].min(), X[:,1].max(),\n",
    "xx1_kg, xx2_kg = np.meshgrid(np.linspace(x1_min, x1_max), np.linspace(x2_min, x2_max))\n",
    "grid = np.array([xx1_kg.ravel(), xx2_kg.ravel()]).T\n",
    "#print(grid.shape)\n",
    "\n",
    "probs_kg = classifierGk.predict(grid).reshape(xx1.shape)\n",
    "#print(probs.shape)\n",
    "#print(xx1.shape)\n",
    "#plt.plot(xx1, xx2, [0.5], linewidths=1, colors='red');\n",
    "plt.contour(xx1_kg, xx2_kg, probs_kg,[0.5], linewidths=1, colors='red')\n",
    "plt.contour(xx1_2, xx2_2, probs_2,[0.5], linewidths=1, colors='blue')"
   ]
  },
  {
   "cell_type": "markdown",
   "id": "321bd1ca-2575-4e4b-a7be-1bf61957e110",
   "metadata": {},
   "source": [
    "## Observation - Problem 4\n",
    "\n",
    "In this problem the problem follows problem 3 but instead of using a logistic regression classifier, this problem uses the Gaussian Naive Bayes classifier. In this problem, we will focus on just the outcome of trainig your model using k-folds = 5 as it seems before that increasing k-folds to 10 seemingly deteriorates the model even more. \n",
    "\n",
    "The confusion matrix shows that the true negative scores are quite high but the true positives are significantly low. The plot above shows the model generated using the k-folds training approach (red line) and the standard training approach (blue). Both models seem to behave very similar. The k-folds does seem to truly capture more of the negatives fairly well but the standard approach is slightly more generalized.\n",
    "\n"
   ]
  },
  {
   "cell_type": "markdown",
   "id": "9c1b4802-1803-495d-a577-3d5ec2f97c1f",
   "metadata": {},
   "source": [
    "# Conclusion\n",
    "\n",
    "Overall for this dataset it's important to identify those who are truly diabetic and also certainly rule out those who are not diabetic. All approaches seemed to provide very similar outcomes, but the slight differences in the models / small improvements may translate into the real world a lot better. The logistic regression model showed more of a linearly consistent seperation, this may be due to the limitations of the sigmoid function (partly, maybe because I might not be visualizing these models appropriately.) The gaussian naive bayes approach offered a much more flexible threshold / grouping for the model. I think the ideal model for this type of data could possible be the Gaussian Naive bayes model, as there are a large variability in features, that may seem continuous but the degree importance of each feature may vary.\n",
    "\n",
    "The k-fold approach did not enhance the outcome of the model very much. It seemed to show very little changes, and might not be the most efficient training / validation approach for this particular dataset.\n",
    "\n"
   ]
  },
  {
   "cell_type": "markdown",
   "id": "46c4d6bf-fff9-42ad-a53b-effcc37ff11c",
   "metadata": {},
   "source": [
    "https://github.com/thachkse/Intro-to-ML/tree/main/HW_2"
   ]
  }
 ],
 "metadata": {
  "interpreter": {
   "hash": "e7caa204d91866f4de4f3cadbeca783aff3ea69d4bc12b7f0312df057d0e6af0"
  },
  "kernelspec": {
   "display_name": "Python 3",
   "language": "python",
   "name": "python3"
  },
  "language_info": {
   "codemirror_mode": {
    "name": "ipython",
    "version": 3
   },
   "file_extension": ".py",
   "mimetype": "text/x-python",
   "name": "python",
   "nbconvert_exporter": "python",
   "pygments_lexer": "ipython3",
   "version": "3.8.8"
  }
 },
 "nbformat": 4,
 "nbformat_minor": 5
}
