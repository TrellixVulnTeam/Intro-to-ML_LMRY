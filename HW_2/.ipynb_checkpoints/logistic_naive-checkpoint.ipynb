{
 "cells": [
  {
   "cell_type": "markdown",
   "id": "54097999-fca0-48d4-8950-f26cd448b771",
   "metadata": {},
   "source": [
    "# HW 2 - Classification\n",
    "\n",
    "Kim Thach\n",
    "*ECGR 5090 - C01*\n",
    "**800793249**\n",
    "\n",
    "Table of Contents\n",
    "\n",
    "1. Logistic Regression\n",
    "2. Naive Bayes Binary Classifier\n",
    "3. K-fold Cross Validation\n",
    "3. K-fold Cross Validiation\n"
   ]
  },
  {
   "cell_type": "markdown",
   "id": "e12e7f57-449a-4093-9394-fd540f8b27d3",
   "metadata": {},
   "source": [
    "## Problem 1: Logistic Regresion\n",
    "\n",
    "Original Problem Statement:\n",
    "\n",
    "* Using the diabetes dataset, build a logistic regression binary classifier for positive diabetes. \n",
    "\n",
    "* Please use 80% and 20% split between training and evaluation (test). \n",
    "\n",
    "* Make sure to perform proper scaling and standardization before your training. \n",
    "\n",
    "* Report your results, including accuracy, precision, and recall. Also, plot the confusion matrix representing your binary classifier. \n"
   ]
  },
  {
   "cell_type": "code",
   "execution_count": 1,
   "id": "8a2ae08b-59d6-4951-b53e-70026d9b3735",
   "metadata": {},
   "outputs": [
    {
     "name": "stdout",
     "output_type": "stream",
     "text": [
      "   Pregnancies  Glucose  BloodPressure  SkinThickness  Insulin   BMI  \\\n",
      "0            6      148             72             35        0  33.6   \n",
      "1            1       85             66             29        0  26.6   \n",
      "2            8      183             64              0        0  23.3   \n",
      "3            1       89             66             23       94  28.1   \n",
      "4            0      137             40             35      168  43.1   \n",
      "\n",
      "   DiabetesPedigreeFunction  Age  Outcome  \n",
      "0                     0.627   50        1  \n",
      "1                     0.351   31        0  \n",
      "2                     0.672   32        1  \n",
      "3                     0.167   21        0  \n",
      "4                     2.288   33        1  \n",
      "This dataset has 768 rows\n",
      "This dataset has 9columns\n"
     ]
    }
   ],
   "source": [
    "# Initialize some libraries\n",
    "import numpy as np\n",
    "import pandas as pd\n",
    "import matplotlib.pyplot as plt\n",
    "\n",
    "# Read in Dataset\n",
    "DF = pd.DataFrame(pd.read_csv(\"diabetes.csv\"))\n",
    "print(DF.head())\n",
    "\n",
    "# What's the size of the dataset?\n",
    "\n",
    "print('This dataset has ' + str(DF.shape[0]) +' rows')\n",
    "print('This dataset has ' + str(DF.shape[1]) +'columns')"
   ]
  },
  {
   "cell_type": "code",
   "execution_count": 10,
   "id": "c5467937-978b-45bb-810a-4233818b3932",
   "metadata": {},
   "outputs": [],
   "source": [
    "\n",
    "\n",
    "# Split data set\n",
    "from sklearn.model_selection import train_test_split\n",
    "\n",
    "np.random.seed(0)\n",
    "df_train, df_test = train_test_split(DF, train_size = 0.8, test_size = 0.2, random_state = 42)"
   ]
  },
  {
   "cell_type": "code",
   "execution_count": 15,
   "id": "8c9db60d-1d75-4c1e-ac59-d934d2daf9af",
   "metadata": {},
   "outputs": [
    {
     "name": "stdout",
     "output_type": "stream",
     "text": [
      "     Pregnancies  Glucose  BloodPressure  SkinThickness  Insulin   BMI  \\\n",
      "60             2       84              0              0        0   0.0   \n",
      "618            9      112             82             24        0  28.2   \n",
      "346            1      139             46             19       83  28.7   \n",
      "294            0      161             50              0        0  21.9   \n",
      "231            6      134             80             37      370  46.2   \n",
      "\n",
      "     DiabetesPedigreeFunction  Age  Outcome  \n",
      "60                      0.304   21        0  \n",
      "618                     1.282   50        1  \n",
      "346                     0.654   22        0  \n",
      "294                     0.254   65        0  \n",
      "231                     0.238   46        1  \n",
      "[[ 1.58804586 -0.27664283  0.68034485  0.23350519 -0.70120553 -0.48916881\n",
      "   2.41502991  1.48710085  1.37208932]\n",
      " [-0.82846011  0.56687102 -1.2658623  -0.09071957  0.01344832 -0.42452187\n",
      "   0.54916055 -0.94893896 -0.72881553]\n",
      " [-1.13052335  1.2541786  -1.04961706 -1.32277365 -0.70120553 -1.30372015\n",
      "  -0.63929127  2.79212217 -0.72881553]\n",
      " [ 0.68185612  0.41066475  0.57222224  1.07648956  2.48460077  1.83812075\n",
      "  -0.68682934  1.13909516  1.37208932]\n",
      " [-0.82846011  0.28569974  0.03160914 -0.47978928  0.20287464 -0.78654469\n",
      "   0.00841497 -0.94893896 -0.72881553]]\n"
     ]
    }
   ],
   "source": [
    "from sklearn.preprocessing import MinMaxScaler, StandardScaler \n",
    "\n",
    "#scaler_std = StandardScaler() \n",
    "#train_std = scaler_std.fit_transform(df_train) \n",
    "#test_std = scaler_std.transform(df_test) \n",
    "\n",
    "# I need to split x and y, outcome column must be the output.\n",
    "\n",
    "scaler_mm = MinMaxScaler()\n",
    "train_mm = scaler_std.fit_transform(df_train) \n",
    "test_mm = scaler_std.transform(df_test) \n",
    "\n",
    "print(df_train.head(5))\n",
    "print(train_mm[1:6,:])\n",
    "#print(train_std[1:6,:])"
   ]
  },
  {
   "cell_type": "code",
   "execution_count": null,
   "id": "d3803377-cfad-48ac-b258-d010e165361a",
   "metadata": {},
   "outputs": [],
   "source": [
    "from sklearn.linear_model import LogisticRegression \n",
    "classifier = LogisticRegression(random_state=0) \n",
    "classifier.fit(X_train, Y_train)\n",
    "\n"
   ]
  },
  {
   "cell_type": "markdown",
   "id": "a96a437a-9b86-45f2-b5fd-80678d9f6412",
   "metadata": {},
   "source": [
    "## Problem 2\n",
    "\n",
    "Using the diabetes dataset, build a Naïve Bays binary classifier for positive diabetes. \n",
    "\n",
    "Please use 80% and 20% split between training and evaluation (test). \n",
    "\n",
    "Make sure to perform proper scaling and standardization before your training. \n",
    "\n",
    "Report your results, including accuracy, precision, and recall. \n",
    "\n",
    "Also, plot the confusion matrix representing your binary classifier. \n",
    "\n",
    "Compare and analyze your results against problem 1.\n",
    "\n"
   ]
  },
  {
   "cell_type": "markdown",
   "id": "a11ffa82-f211-4a09-82a8-cfbb72a99520",
   "metadata": {},
   "source": [
    "## Problem 3\n",
    "\n",
    "Repeat problem 1, and this time use K-fold cross-validation for your training and validation. \n",
    "\n",
    "Perform the training two times for K=5 and K=10. Analyze and compare your results against problem 1."
   ]
  },
  {
   "cell_type": "markdown",
   "id": "f76aa546-77c9-455b-8658-85d5a44fb093",
   "metadata": {},
   "source": [
    "## Problem 4\n",
    "\n",
    "Repeat problem 2, and this time use K-fold cross-validation for your training and validation. Does this make sense? Elaborate on your answer.\n",
    "\n"
   ]
  }
 ],
 "metadata": {
  "kernelspec": {
   "display_name": "Python 3 (ipykernel)",
   "language": "python",
   "name": "python3"
  },
  "language_info": {
   "codemirror_mode": {
    "name": "ipython",
    "version": 3
   },
   "file_extension": ".py",
   "mimetype": "text/x-python",
   "name": "python",
   "nbconvert_exporter": "python",
   "pygments_lexer": "ipython3",
   "version": "3.9.2"
  }
 },
 "nbformat": 4,
 "nbformat_minor": 5
}
