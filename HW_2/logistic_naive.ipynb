{
 "cells": [
  {
   "cell_type": "markdown",
   "id": "54097999-fca0-48d4-8950-f26cd448b771",
   "metadata": {},
   "source": [
    "# HW 2 - Classification\n",
    "\n",
    "Kim Thach\n",
    "*ECGR 5090 - C01*\n",
    "**800793249**\n",
    "\n",
    "Table of Contents\n",
    "\n",
    "1. Logistic Regression\n",
    "2. Naive Bayes Binary Classifier\n",
    "3. K-fold Cross Validation\n",
    "3. K-fold Cross Validiation Part 2\n"
   ]
  },
  {
   "cell_type": "markdown",
   "id": "e12e7f57-449a-4093-9394-fd540f8b27d3",
   "metadata": {},
   "source": [
    "## Problem 1: Logistic Regresion\n",
    "\n",
    "Original Problem Statement:\n",
    "\n",
    "* Using the diabetes dataset, build a logistic regression binary classifier for positive diabetes. \n",
    "\n",
    "* Please use 80% and 20% split between training and evaluation (test). \n",
    "\n",
    "* Make sure to perform proper scaling and standardization before your training. \n",
    "\n",
    "* Report your results, including accuracy, precision, and recall. Also, plot the confusion matrix representing your binary classifier. \n"
   ]
  },
  {
   "cell_type": "code",
   "execution_count": 1,
   "id": "8a2ae08b-59d6-4951-b53e-70026d9b3735",
   "metadata": {},
   "outputs": [
    {
     "name": "stdout",
     "output_type": "stream",
     "text": [
      "   Pregnancies  Glucose  BloodPressure  SkinThickness  Insulin   BMI  \\\n",
      "0            6      148             72             35        0  33.6   \n",
      "1            1       85             66             29        0  26.6   \n",
      "2            8      183             64              0        0  23.3   \n",
      "3            1       89             66             23       94  28.1   \n",
      "4            0      137             40             35      168  43.1   \n",
      "\n",
      "   DiabetesPedigreeFunction  Age  Outcome  \n",
      "0                     0.627   50        1  \n",
      "1                     0.351   31        0  \n",
      "2                     0.672   32        1  \n",
      "3                     0.167   21        0  \n",
      "4                     2.288   33        1  \n",
      "This dataset has 768 rows\n",
      "This dataset has 9 columns\n"
     ]
    }
   ],
   "source": [
    "# Initialize some libraries\n",
    "import numpy as np\n",
    "import pandas as pd\n",
    "import matplotlib.pyplot as plt\n",
    "\n",
    "# Read in Dataset\n",
    "DF = pd.DataFrame(pd.read_csv(\"diabetes.csv\"))\n",
    "print(DF.head())\n",
    "\n",
    "# What's the size of the dataset?\n",
    "\n",
    "print('This dataset has ' + str(DF.shape[0]) +' rows')\n",
    "print('This dataset has ' + str(DF.shape[1]) +' columns')"
   ]
  },
  {
   "cell_type": "code",
   "execution_count": 2,
   "id": "9a2063f0-3ab5-43df-b6ea-0f02bfd30e40",
   "metadata": {},
   "outputs": [],
   "source": [
    "# Define Input and Outputs for the dataset\n",
    "Xin = DF.iloc[:,[0,1,2,3,4,5,6,7]].values\n",
    "Yout = DF.Outcome.values\n",
    "\n",
    "#print(Xin[0:5,:])\n"
   ]
  },
  {
   "cell_type": "code",
   "execution_count": 3,
   "id": "57ec6e3f-920b-46e7-a11c-aee117e6afc2",
   "metadata": {},
   "outputs": [],
   "source": [
    "# Split data set\n",
    "from sklearn.model_selection import train_test_split\n",
    "\n",
    "np.random.seed(0)\n",
    "x_train, x_test, y_train, y_test = train_test_split(Xin, Yout, train_size = 0.8, test_size = 0.2, random_state = 42)"
   ]
  },
  {
   "cell_type": "code",
   "execution_count": 4,
   "id": "8c9db60d-1d75-4c1e-ac59-d934d2daf9af",
   "metadata": {},
   "outputs": [],
   "source": [
    "from sklearn.preprocessing import MinMaxScaler, StandardScaler \n",
    "\n",
    "scaler_std = StandardScaler() \n",
    "train_std = scaler_std.fit_transform(x_train) \n",
    "test_std = scaler_std.transform(x_test) \n",
    "\n",
    "#scaler_mm = MinMaxScaler()\n",
    "#train_mm = scaler_mm.fit_transform(x_train) \n",
    "#test_mm = scaler_mm.transform(x_test) \n",
    "\n"
   ]
  },
  {
   "cell_type": "code",
   "execution_count": 5,
   "id": "d3803377-cfad-48ac-b258-d010e165361a",
   "metadata": {},
   "outputs": [
    {
     "data": {
      "text/plain": [
       "LogisticRegression(random_state=0)"
      ]
     },
     "execution_count": 5,
     "metadata": {},
     "output_type": "execute_result"
    }
   ],
   "source": [
    "from sklearn.linear_model import LogisticRegression \n",
    "\n",
    "classifier = LogisticRegression(random_state=0) \n",
    "classifier.fit(train_std, y_train)\n"
   ]
  },
  {
   "cell_type": "code",
   "execution_count": 6,
   "id": "d219ef17",
   "metadata": {},
   "outputs": [
    {
     "data": {
      "text/plain": [
       "array([0, 0, 0, 0, 0, 0, 0, 1, 1], dtype=int64)"
      ]
     },
     "execution_count": 6,
     "metadata": {},
     "output_type": "execute_result"
    }
   ],
   "source": [
    "Y_pred = classifier.predict(test_std)\n",
    "Y_pred[0:9]\n"
   ]
  },
  {
   "cell_type": "code",
   "execution_count": 7,
   "id": "34584215",
   "metadata": {},
   "outputs": [
    {
     "data": {
      "text/plain": [
       "array([[79, 20],\n",
       "       [18, 37]], dtype=int64)"
      ]
     },
     "execution_count": 7,
     "metadata": {},
     "output_type": "execute_result"
    }
   ],
   "source": [
    "# Confusion matrix to get accuracy\n",
    "from sklearn.metrics import confusion_matrix\n",
    "cnf_matrix = confusion_matrix(y_test, Y_pred)\n",
    "cnf_matrix\n"
   ]
  },
  {
   "cell_type": "code",
   "execution_count": 8,
   "id": "0c5f8626",
   "metadata": {},
   "outputs": [
    {
     "name": "stdout",
     "output_type": "stream",
     "text": [
      "Accuracy: 0.7532467532467533\n",
      "Precision: 0.6491228070175439\n",
      "Recall: 0.6727272727272727\n"
     ]
    }
   ],
   "source": [
    "# Evaluate the model : accuracy, precision & recall\n",
    "\n",
    "from sklearn import metrics\n",
    "print(\"Accuracy:\",metrics.accuracy_score(y_test,Y_pred))\n",
    "print(\"Precision:\",metrics.precision_score(y_test,Y_pred))\n",
    "print(\"Recall:\",metrics.recall_score(y_test, Y_pred))"
   ]
  },
  {
   "cell_type": "code",
   "execution_count": 9,
   "id": "15e03946",
   "metadata": {},
   "outputs": [
    {
     "data": {
      "text/plain": [
       "Text(0.5, 257.44, 'Predicted label')"
      ]
     },
     "execution_count": 9,
     "metadata": {},
     "output_type": "execute_result"
    },
    {
     "data": {
      "image/png": "[encoded data removed]",
      "text/plain": [
       "<Figure size 432x288 with 2 Axes>"
      ]
     },
     "metadata": {
      "needs_background": "light"
     },
     "output_type": "display_data"
    }
   ],
   "source": [
    "# Visualization of the model\n",
    "\n",
    "import seaborn as sns\n",
    "class_names=[0,1]\n",
    "fig, ax = plt.subplots()\n",
    "tick_marks = np.arange(len(class_names))\n",
    "plt.xticks(tick_marks, class_names)\n",
    "plt.yticks(tick_marks, class_names)\n",
    "\n",
    "# Create heatmap\n",
    "sns.heatmap(pd.DataFrame(cnf_matrix), annot=True, cmap=\"YlGnBu\", fmt='g')\n",
    "ax.xaxis.set_label_position(\"top\")\n",
    "plt.tight_layout()\n",
    "plt.title('Confusion matrix',y=1.1)\n",
    "plt.ylabel('Actual label')\n",
    "plt.xlabel('Predicted label')\n"
   ]
  },
  {
   "cell_type": "markdown",
   "id": "a96a437a-9b86-45f2-b5fd-80678d9f6412",
   "metadata": {},
   "source": [
    "## Problem 2\n",
    "\n",
    "Using the diabetes dataset, build a Naïve Bays binary classifier for positive diabetes. \n",
    "\n",
    "Please use 80% and 20% split between training and evaluation (test). \n",
    "\n",
    "Make sure to perform proper scaling and standardization before your training. \n",
    "\n",
    "Report your results, including accuracy, precision, and recall. \n",
    "\n",
    "Also, plot the confusion matrix representing your binary classifier. \n",
    "\n",
    "Compare and analyze your results against problem 1.\n",
    "\n"
   ]
  },
  {
   "cell_type": "code",
   "execution_count": 10,
   "id": "7fad2e6b",
   "metadata": {},
   "outputs": [
    {
     "data": {
      "text/plain": [
       "GaussianNB()"
      ]
     },
     "execution_count": 10,
     "metadata": {},
     "output_type": "execute_result"
    }
   ],
   "source": [
    "from sklearn.naive_bayes import GaussianNB\n",
    "\n",
    "classifier = GaussianNB()\n",
    "classifier.fit(train_std,y_train)\n"
   ]
  },
  {
   "cell_type": "code",
   "execution_count": 11,
   "id": "3768bbf2",
   "metadata": {},
   "outputs": [],
   "source": [
    "Y2_pred = classifier.predict(test_std)"
   ]
  },
  {
   "cell_type": "code",
   "execution_count": 12,
   "id": "d8da08fd",
   "metadata": {},
   "outputs": [
    {
     "name": "stdout",
     "output_type": "stream",
     "text": [
      "[[79 20]\n",
      " [16 39]]\n",
      "Accuracy: 0.7662337662337663\n",
      "Precision: 0.6610169491525424\n",
      "Recall: 0.7090909090909091\n"
     ]
    }
   ],
   "source": [
    "from sklearn import metrics\n",
    "cm = confusion_matrix(y_test, Y2_pred)\n",
    "print(cm)\n",
    "print(\"Accuracy:\",metrics.accuracy_score(y_test,Y2_pred))\n",
    "print(\"Precision:\",metrics.precision_score(y_test,Y2_pred))\n",
    "print(\"Recall:\",metrics.recall_score(y_test, Y2_pred))\n",
    "\n",
    "# Has a higher accuracy, but why??? There's soo many features.."
   ]
  },
  {
   "cell_type": "code",
   "execution_count": 13,
   "id": "127ac48e",
   "metadata": {},
   "outputs": [
    {
     "data": {
      "text/plain": [
       "Text(0.5, 257.44, 'Predicted label')"
      ]
     },
     "execution_count": 13,
     "metadata": {},
     "output_type": "execute_result"
    },
    {
     "data": {
      "image/png": "[encoded data removed]",
      "text/plain": [
       "<Figure size 432x288 with 2 Axes>"
      ]
     },
     "metadata": {
      "needs_background": "light"
     },
     "output_type": "display_data"
    }
   ],
   "source": [
    "import seaborn as sns\n",
    "class_names=[0,1]\n",
    "fig, ax = plt.subplots()\n",
    "tick_marks = np.arange(len(class_names))\n",
    "plt.xticks(tick_marks, class_names)\n",
    "plt.yticks(tick_marks, class_names)\n",
    "\n",
    "# Create heatmap\n",
    "sns.heatmap(pd.DataFrame(cm), annot=True, cmap=\"YlGnBu\", fmt='g')\n",
    "ax.xaxis.set_label_position(\"top\")\n",
    "plt.tight_layout()\n",
    "plt.title('Confusion matrix',y=1.1)\n",
    "plt.ylabel('Actual label')\n",
    "plt.xlabel('Predicted label')"
   ]
  },
  {
   "cell_type": "markdown",
   "id": "a11ffa82-f211-4a09-82a8-cfbb72a99520",
   "metadata": {},
   "source": [
    "## Problem 3\n",
    "\n",
    "Repeat problem 1, and this time use K-fold cross-validation for your training and validation. \n",
    "\n",
    "Perform the training two times for K=5 and K=10. Analyze and compare your results against problem 1."
   ]
  },
  {
   "cell_type": "markdown",
   "id": "f76aa546-77c9-455b-8658-85d5a44fb093",
   "metadata": {},
   "source": [
    "## Problem 4\n",
    "\n",
    "Repeat problem 2, and this time use K-fold cross-validation for your training and validation. Does this make sense? Elaborate on your answer.\n",
    "\n"
   ]
  }
 ],
 "metadata": {
  "interpreter": {
   "hash": "e7caa204d91866f4de4f3cadbeca783aff3ea69d4bc12b7f0312df057d0e6af0"
  },
  "kernelspec": {
   "display_name": "Python 3.8.8 64-bit ('base': conda)",
   "name": "python3"
  },
  "language_info": {
   "codemirror_mode": {
    "name": "ipython",
    "version": 3
   },
   "file_extension": ".py",
   "mimetype": "text/x-python",
   "name": "python",
   "nbconvert_exporter": "python",
   "pygments_lexer": "ipython3",
   "version": "3.8.8"
  }
 },
 "nbformat": 4,
 "nbformat_minor": 5
}
