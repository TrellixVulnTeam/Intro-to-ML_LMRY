{
 "cells": [
  {
   "cell_type": "markdown",
   "id": "158fe0b8-cac5-49e2-b216-6328c66d2c00",
   "metadata": {},
   "source": [
    "Kim Thach \n",
    "\n",
    "**800793249** \n",
    "\n",
    "*ECGR 5090 - C01*\n",
    "\n",
    "https://github.com/thachkse/Intro-to-ML/tree/main/HW_3\n",
    "\n",
    "# Problem 1 - Logistic Regression\n",
    "\n",
    "\n",
    "In this homework, we will use the cancer dataset. (Note: You can use the built-in function from ML libraries for gradient descent, training, and validation.) Also, sample code for accessing and cleaning up the dataset provided in Canvas. For the evaluation of this homework across all problems, use 80%, 20% split.\n",
    "\n",
    "Use the cancer dataset to build a logistic regression model & classify the type of cancer (Malignant vs. benign). \n",
    "\n",
    "* First, create a logistic regression that takes all 30 input features for classification. \n",
    "\n",
    "* Can you train a logistic regression over these number of features maps? \n",
    "                                \n",
    "* Draw your training results, including loss and classification accuracy over iterations."
   ]
  },
  {
   "cell_type": "markdown",
   "id": "70b29db9-917f-45c5-865f-c908e20cc329",
   "metadata": {},
   "source": [
    "## Import Libraries\n",
    "\n",
    "Import our common libraries, such as numpy, pandas and matplotlib. The dataset used in this HW comes from an sklearn library and will be imported also. "
   ]
  },
  {
   "cell_type": "code",
   "execution_count": 1,
   "id": "7595a39e-6d13-468e-ab3a-891c5a638ef3",
   "metadata": {},
   "outputs": [],
   "source": [
    "import numpy as np\n",
    "import matplotlib.pyplot as plt\n",
    "import pandas as pd\n",
    "from sklearn.datasets import load_breast_cancer"
   ]
  },
  {
   "cell_type": "code",
   "execution_count": 2,
   "id": "53cf62ad-c167-4594-9512-f0d7762d219a",
   "metadata": {},
   "outputs": [
    {
     "data": {
      "text/plain": [
       "(569, 30)"
      ]
     },
     "execution_count": 2,
     "metadata": {},
     "output_type": "execute_result"
    }
   ],
   "source": [
    "df = load_breast_cancer()\n",
    "datab = df.data\n",
    "datab.shape"
   ]
  },
  {
   "cell_type": "code",
   "execution_count": 3,
   "id": "8f99d854-4fe1-4fa8-9cb9-3f7333cdba9d",
   "metadata": {},
   "outputs": [
    {
     "data": {
      "text/html": [
       "<div>\n",
       "<style scoped>\n",
       "    .dataframe tbody tr th:only-of-type {\n",
       "        vertical-align: middle;\n",
       "    }\n",
       "\n",
       "    .dataframe tbody tr th {\n",
       "        vertical-align: top;\n",
       "    }\n",
       "\n",
       "    .dataframe thead th {\n",
       "        text-align: right;\n",
       "    }\n",
       "</style>\n",
       "<table border=\"1\" class=\"dataframe\">\n",
       "  <thead>\n",
       "    <tr style=\"text-align: right;\">\n",
       "      <th></th>\n",
       "      <th>0</th>\n",
       "      <th>1</th>\n",
       "      <th>2</th>\n",
       "      <th>3</th>\n",
       "      <th>4</th>\n",
       "      <th>5</th>\n",
       "      <th>6</th>\n",
       "      <th>7</th>\n",
       "      <th>8</th>\n",
       "      <th>9</th>\n",
       "      <th>...</th>\n",
       "      <th>20</th>\n",
       "      <th>21</th>\n",
       "      <th>22</th>\n",
       "      <th>23</th>\n",
       "      <th>24</th>\n",
       "      <th>25</th>\n",
       "      <th>26</th>\n",
       "      <th>27</th>\n",
       "      <th>28</th>\n",
       "      <th>29</th>\n",
       "    </tr>\n",
       "  </thead>\n",
       "  <tbody>\n",
       "    <tr>\n",
       "      <th>0</th>\n",
       "      <td>17.99</td>\n",
       "      <td>10.38</td>\n",
       "      <td>122.80</td>\n",
       "      <td>1001.0</td>\n",
       "      <td>0.11840</td>\n",
       "      <td>0.27760</td>\n",
       "      <td>0.3001</td>\n",
       "      <td>0.14710</td>\n",
       "      <td>0.2419</td>\n",
       "      <td>0.07871</td>\n",
       "      <td>...</td>\n",
       "      <td>25.38</td>\n",
       "      <td>17.33</td>\n",
       "      <td>184.60</td>\n",
       "      <td>2019.0</td>\n",
       "      <td>0.1622</td>\n",
       "      <td>0.6656</td>\n",
       "      <td>0.7119</td>\n",
       "      <td>0.2654</td>\n",
       "      <td>0.4601</td>\n",
       "      <td>0.11890</td>\n",
       "    </tr>\n",
       "    <tr>\n",
       "      <th>1</th>\n",
       "      <td>20.57</td>\n",
       "      <td>17.77</td>\n",
       "      <td>132.90</td>\n",
       "      <td>1326.0</td>\n",
       "      <td>0.08474</td>\n",
       "      <td>0.07864</td>\n",
       "      <td>0.0869</td>\n",
       "      <td>0.07017</td>\n",
       "      <td>0.1812</td>\n",
       "      <td>0.05667</td>\n",
       "      <td>...</td>\n",
       "      <td>24.99</td>\n",
       "      <td>23.41</td>\n",
       "      <td>158.80</td>\n",
       "      <td>1956.0</td>\n",
       "      <td>0.1238</td>\n",
       "      <td>0.1866</td>\n",
       "      <td>0.2416</td>\n",
       "      <td>0.1860</td>\n",
       "      <td>0.2750</td>\n",
       "      <td>0.08902</td>\n",
       "    </tr>\n",
       "    <tr>\n",
       "      <th>2</th>\n",
       "      <td>19.69</td>\n",
       "      <td>21.25</td>\n",
       "      <td>130.00</td>\n",
       "      <td>1203.0</td>\n",
       "      <td>0.10960</td>\n",
       "      <td>0.15990</td>\n",
       "      <td>0.1974</td>\n",
       "      <td>0.12790</td>\n",
       "      <td>0.2069</td>\n",
       "      <td>0.05999</td>\n",
       "      <td>...</td>\n",
       "      <td>23.57</td>\n",
       "      <td>25.53</td>\n",
       "      <td>152.50</td>\n",
       "      <td>1709.0</td>\n",
       "      <td>0.1444</td>\n",
       "      <td>0.4245</td>\n",
       "      <td>0.4504</td>\n",
       "      <td>0.2430</td>\n",
       "      <td>0.3613</td>\n",
       "      <td>0.08758</td>\n",
       "    </tr>\n",
       "    <tr>\n",
       "      <th>3</th>\n",
       "      <td>11.42</td>\n",
       "      <td>20.38</td>\n",
       "      <td>77.58</td>\n",
       "      <td>386.1</td>\n",
       "      <td>0.14250</td>\n",
       "      <td>0.28390</td>\n",
       "      <td>0.2414</td>\n",
       "      <td>0.10520</td>\n",
       "      <td>0.2597</td>\n",
       "      <td>0.09744</td>\n",
       "      <td>...</td>\n",
       "      <td>14.91</td>\n",
       "      <td>26.50</td>\n",
       "      <td>98.87</td>\n",
       "      <td>567.7</td>\n",
       "      <td>0.2098</td>\n",
       "      <td>0.8663</td>\n",
       "      <td>0.6869</td>\n",
       "      <td>0.2575</td>\n",
       "      <td>0.6638</td>\n",
       "      <td>0.17300</td>\n",
       "    </tr>\n",
       "    <tr>\n",
       "      <th>4</th>\n",
       "      <td>20.29</td>\n",
       "      <td>14.34</td>\n",
       "      <td>135.10</td>\n",
       "      <td>1297.0</td>\n",
       "      <td>0.10030</td>\n",
       "      <td>0.13280</td>\n",
       "      <td>0.1980</td>\n",
       "      <td>0.10430</td>\n",
       "      <td>0.1809</td>\n",
       "      <td>0.05883</td>\n",
       "      <td>...</td>\n",
       "      <td>22.54</td>\n",
       "      <td>16.67</td>\n",
       "      <td>152.20</td>\n",
       "      <td>1575.0</td>\n",
       "      <td>0.1374</td>\n",
       "      <td>0.2050</td>\n",
       "      <td>0.4000</td>\n",
       "      <td>0.1625</td>\n",
       "      <td>0.2364</td>\n",
       "      <td>0.07678</td>\n",
       "    </tr>\n",
       "  </tbody>\n",
       "</table>\n",
       "<p>5 rows × 30 columns</p>\n",
       "</div>"
      ],
      "text/plain": [
       "      0      1       2       3        4        5       6        7       8   \\\n",
       "0  17.99  10.38  122.80  1001.0  0.11840  0.27760  0.3001  0.14710  0.2419   \n",
       "1  20.57  17.77  132.90  1326.0  0.08474  0.07864  0.0869  0.07017  0.1812   \n",
       "2  19.69  21.25  130.00  1203.0  0.10960  0.15990  0.1974  0.12790  0.2069   \n",
       "3  11.42  20.38   77.58   386.1  0.14250  0.28390  0.2414  0.10520  0.2597   \n",
       "4  20.29  14.34  135.10  1297.0  0.10030  0.13280  0.1980  0.10430  0.1809   \n",
       "\n",
       "        9   ...     20     21      22      23      24      25      26      27  \\\n",
       "0  0.07871  ...  25.38  17.33  184.60  2019.0  0.1622  0.6656  0.7119  0.2654   \n",
       "1  0.05667  ...  24.99  23.41  158.80  1956.0  0.1238  0.1866  0.2416  0.1860   \n",
       "2  0.05999  ...  23.57  25.53  152.50  1709.0  0.1444  0.4245  0.4504  0.2430   \n",
       "3  0.09744  ...  14.91  26.50   98.87   567.7  0.2098  0.8663  0.6869  0.2575   \n",
       "4  0.05883  ...  22.54  16.67  152.20  1575.0  0.1374  0.2050  0.4000  0.1625   \n",
       "\n",
       "       28       29  \n",
       "0  0.4601  0.11890  \n",
       "1  0.2750  0.08902  \n",
       "2  0.3613  0.08758  \n",
       "3  0.6638  0.17300  \n",
       "4  0.2364  0.07678  \n",
       "\n",
       "[5 rows x 30 columns]"
      ]
     },
     "execution_count": 3,
     "metadata": {},
     "output_type": "execute_result"
    }
   ],
   "source": [
    "data_in = pd.DataFrame(datab)\n",
    "data_in.head()"
   ]
  },
  {
   "cell_type": "markdown",
   "id": "8335402a-8b8c-4f90-8eb8-fb4f67b6e7d4",
   "metadata": {},
   "source": [
    "## Clean Data\n",
    "\n",
    "It's important to clean/structure the data needed throughout this evaluation. The first step is so define your dataframe. Then extract the neccessary features, and outputs from the dataset."
   ]
  },
  {
   "cell_type": "code",
   "execution_count": 4,
   "id": "54f74c6b-0e69-472c-9b72-9302006c1337",
   "metadata": {},
   "outputs": [
    {
     "data": {
      "text/plain": [
       "(569,)"
      ]
     },
     "execution_count": 4,
     "metadata": {},
     "output_type": "execute_result"
    }
   ],
   "source": [
    "b_labels = df.target\n",
    "b_labels.shape"
   ]
  },
  {
   "cell_type": "code",
   "execution_count": 5,
   "id": "cddf8b9f-af77-4481-b232-31ad13bac939",
   "metadata": {},
   "outputs": [
    {
     "data": {
      "text/plain": [
       "(569, 31)"
      ]
     },
     "execution_count": 5,
     "metadata": {},
     "output_type": "execute_result"
    }
   ],
   "source": [
    "labels = np.reshape(b_labels,(569,1))\n",
    "finalb_data = np.concatenate([datab,labels],axis=1)\n",
    "finalb_data.shape"
   ]
  },
  {
   "cell_type": "code",
   "execution_count": 6,
   "id": "ddb72607-f65e-4e46-9170-6bbdf7fb977a",
   "metadata": {},
   "outputs": [
    {
     "data": {
      "text/plain": [
       "array(['mean radius', 'mean texture', 'mean perimeter', 'mean area',\n",
       "       'mean smoothness', 'mean compactness', 'mean concavity',\n",
       "       'mean concave points', 'mean symmetry', 'mean fractal dimension',\n",
       "       'radius error', 'texture error', 'perimeter error', 'area error',\n",
       "       'smoothness error', 'compactness error', 'concavity error',\n",
       "       'concave points error', 'symmetry error',\n",
       "       'fractal dimension error', 'worst radius', 'worst texture',\n",
       "       'worst perimeter', 'worst area', 'worst smoothness',\n",
       "       'worst compactness', 'worst concavity', 'worst concave points',\n",
       "       'worst symmetry', 'worst fractal dimension'], dtype='<U23')"
      ]
     },
     "execution_count": 6,
     "metadata": {},
     "output_type": "execute_result"
    }
   ],
   "source": [
    "b_dataset = pd.DataFrame(finalb_data)\n",
    "features = df.feature_names\n",
    "features"
   ]
  },
  {
   "cell_type": "code",
   "execution_count": 7,
   "id": "3adf0791-a093-4cab-addb-395edc19f519",
   "metadata": {},
   "outputs": [
    {
     "data": {
      "text/html": [
       "<div>\n",
       "<style scoped>\n",
       "    .dataframe tbody tr th:only-of-type {\n",
       "        vertical-align: middle;\n",
       "    }\n",
       "\n",
       "    .dataframe tbody tr th {\n",
       "        vertical-align: top;\n",
       "    }\n",
       "\n",
       "    .dataframe thead th {\n",
       "        text-align: right;\n",
       "    }\n",
       "</style>\n",
       "<table border=\"1\" class=\"dataframe\">\n",
       "  <thead>\n",
       "    <tr style=\"text-align: right;\">\n",
       "      <th></th>\n",
       "      <th>mean radius</th>\n",
       "      <th>mean texture</th>\n",
       "      <th>mean perimeter</th>\n",
       "      <th>mean area</th>\n",
       "      <th>mean smoothness</th>\n",
       "      <th>mean compactness</th>\n",
       "      <th>mean concavity</th>\n",
       "      <th>mean concave points</th>\n",
       "      <th>mean symmetry</th>\n",
       "      <th>mean fractal dimension</th>\n",
       "      <th>...</th>\n",
       "      <th>worst texture</th>\n",
       "      <th>worst perimeter</th>\n",
       "      <th>worst area</th>\n",
       "      <th>worst smoothness</th>\n",
       "      <th>worst compactness</th>\n",
       "      <th>worst concavity</th>\n",
       "      <th>worst concave points</th>\n",
       "      <th>worst symmetry</th>\n",
       "      <th>worst fractal dimension</th>\n",
       "      <th>label</th>\n",
       "    </tr>\n",
       "  </thead>\n",
       "  <tbody>\n",
       "    <tr>\n",
       "      <th>0</th>\n",
       "      <td>17.99</td>\n",
       "      <td>10.38</td>\n",
       "      <td>122.80</td>\n",
       "      <td>1001.0</td>\n",
       "      <td>0.11840</td>\n",
       "      <td>0.27760</td>\n",
       "      <td>0.3001</td>\n",
       "      <td>0.14710</td>\n",
       "      <td>0.2419</td>\n",
       "      <td>0.07871</td>\n",
       "      <td>...</td>\n",
       "      <td>17.33</td>\n",
       "      <td>184.60</td>\n",
       "      <td>2019.0</td>\n",
       "      <td>0.1622</td>\n",
       "      <td>0.6656</td>\n",
       "      <td>0.7119</td>\n",
       "      <td>0.2654</td>\n",
       "      <td>0.4601</td>\n",
       "      <td>0.11890</td>\n",
       "      <td>0.0</td>\n",
       "    </tr>\n",
       "    <tr>\n",
       "      <th>1</th>\n",
       "      <td>20.57</td>\n",
       "      <td>17.77</td>\n",
       "      <td>132.90</td>\n",
       "      <td>1326.0</td>\n",
       "      <td>0.08474</td>\n",
       "      <td>0.07864</td>\n",
       "      <td>0.0869</td>\n",
       "      <td>0.07017</td>\n",
       "      <td>0.1812</td>\n",
       "      <td>0.05667</td>\n",
       "      <td>...</td>\n",
       "      <td>23.41</td>\n",
       "      <td>158.80</td>\n",
       "      <td>1956.0</td>\n",
       "      <td>0.1238</td>\n",
       "      <td>0.1866</td>\n",
       "      <td>0.2416</td>\n",
       "      <td>0.1860</td>\n",
       "      <td>0.2750</td>\n",
       "      <td>0.08902</td>\n",
       "      <td>0.0</td>\n",
       "    </tr>\n",
       "    <tr>\n",
       "      <th>2</th>\n",
       "      <td>19.69</td>\n",
       "      <td>21.25</td>\n",
       "      <td>130.00</td>\n",
       "      <td>1203.0</td>\n",
       "      <td>0.10960</td>\n",
       "      <td>0.15990</td>\n",
       "      <td>0.1974</td>\n",
       "      <td>0.12790</td>\n",
       "      <td>0.2069</td>\n",
       "      <td>0.05999</td>\n",
       "      <td>...</td>\n",
       "      <td>25.53</td>\n",
       "      <td>152.50</td>\n",
       "      <td>1709.0</td>\n",
       "      <td>0.1444</td>\n",
       "      <td>0.4245</td>\n",
       "      <td>0.4504</td>\n",
       "      <td>0.2430</td>\n",
       "      <td>0.3613</td>\n",
       "      <td>0.08758</td>\n",
       "      <td>0.0</td>\n",
       "    </tr>\n",
       "    <tr>\n",
       "      <th>3</th>\n",
       "      <td>11.42</td>\n",
       "      <td>20.38</td>\n",
       "      <td>77.58</td>\n",
       "      <td>386.1</td>\n",
       "      <td>0.14250</td>\n",
       "      <td>0.28390</td>\n",
       "      <td>0.2414</td>\n",
       "      <td>0.10520</td>\n",
       "      <td>0.2597</td>\n",
       "      <td>0.09744</td>\n",
       "      <td>...</td>\n",
       "      <td>26.50</td>\n",
       "      <td>98.87</td>\n",
       "      <td>567.7</td>\n",
       "      <td>0.2098</td>\n",
       "      <td>0.8663</td>\n",
       "      <td>0.6869</td>\n",
       "      <td>0.2575</td>\n",
       "      <td>0.6638</td>\n",
       "      <td>0.17300</td>\n",
       "      <td>0.0</td>\n",
       "    </tr>\n",
       "    <tr>\n",
       "      <th>4</th>\n",
       "      <td>20.29</td>\n",
       "      <td>14.34</td>\n",
       "      <td>135.10</td>\n",
       "      <td>1297.0</td>\n",
       "      <td>0.10030</td>\n",
       "      <td>0.13280</td>\n",
       "      <td>0.1980</td>\n",
       "      <td>0.10430</td>\n",
       "      <td>0.1809</td>\n",
       "      <td>0.05883</td>\n",
       "      <td>...</td>\n",
       "      <td>16.67</td>\n",
       "      <td>152.20</td>\n",
       "      <td>1575.0</td>\n",
       "      <td>0.1374</td>\n",
       "      <td>0.2050</td>\n",
       "      <td>0.4000</td>\n",
       "      <td>0.1625</td>\n",
       "      <td>0.2364</td>\n",
       "      <td>0.07678</td>\n",
       "      <td>0.0</td>\n",
       "    </tr>\n",
       "  </tbody>\n",
       "</table>\n",
       "<p>5 rows × 31 columns</p>\n",
       "</div>"
      ],
      "text/plain": [
       "   mean radius  mean texture  mean perimeter  mean area  mean smoothness  \\\n",
       "0        17.99         10.38          122.80     1001.0          0.11840   \n",
       "1        20.57         17.77          132.90     1326.0          0.08474   \n",
       "2        19.69         21.25          130.00     1203.0          0.10960   \n",
       "3        11.42         20.38           77.58      386.1          0.14250   \n",
       "4        20.29         14.34          135.10     1297.0          0.10030   \n",
       "\n",
       "   mean compactness  mean concavity  mean concave points  mean symmetry  \\\n",
       "0           0.27760          0.3001              0.14710         0.2419   \n",
       "1           0.07864          0.0869              0.07017         0.1812   \n",
       "2           0.15990          0.1974              0.12790         0.2069   \n",
       "3           0.28390          0.2414              0.10520         0.2597   \n",
       "4           0.13280          0.1980              0.10430         0.1809   \n",
       "\n",
       "   mean fractal dimension  ...  worst texture  worst perimeter  worst area  \\\n",
       "0                 0.07871  ...          17.33           184.60      2019.0   \n",
       "1                 0.05667  ...          23.41           158.80      1956.0   \n",
       "2                 0.05999  ...          25.53           152.50      1709.0   \n",
       "3                 0.09744  ...          26.50            98.87       567.7   \n",
       "4                 0.05883  ...          16.67           152.20      1575.0   \n",
       "\n",
       "   worst smoothness  worst compactness  worst concavity  worst concave points  \\\n",
       "0            0.1622             0.6656           0.7119                0.2654   \n",
       "1            0.1238             0.1866           0.2416                0.1860   \n",
       "2            0.1444             0.4245           0.4504                0.2430   \n",
       "3            0.2098             0.8663           0.6869                0.2575   \n",
       "4            0.1374             0.2050           0.4000                0.1625   \n",
       "\n",
       "   worst symmetry  worst fractal dimension  label  \n",
       "0          0.4601                  0.11890    0.0  \n",
       "1          0.2750                  0.08902    0.0  \n",
       "2          0.3613                  0.08758    0.0  \n",
       "3          0.6638                  0.17300    0.0  \n",
       "4          0.2364                  0.07678    0.0  \n",
       "\n",
       "[5 rows x 31 columns]"
      ]
     },
     "execution_count": 7,
     "metadata": {},
     "output_type": "execute_result"
    }
   ],
   "source": [
    "features_labels = np.append(features,'label')\n",
    "b_dataset.columns = features_labels\n",
    "b_dataset.head()"
   ]
  },
  {
   "cell_type": "code",
   "execution_count": 8,
   "id": "5042135d-4330-4f4f-aa8d-90ed798292d0",
   "metadata": {},
   "outputs": [
    {
     "data": {
      "text/html": [
       "<div>\n",
       "<style scoped>\n",
       "    .dataframe tbody tr th:only-of-type {\n",
       "        vertical-align: middle;\n",
       "    }\n",
       "\n",
       "    .dataframe tbody tr th {\n",
       "        vertical-align: top;\n",
       "    }\n",
       "\n",
       "    .dataframe thead th {\n",
       "        text-align: right;\n",
       "    }\n",
       "</style>\n",
       "<table border=\"1\" class=\"dataframe\">\n",
       "  <thead>\n",
       "    <tr style=\"text-align: right;\">\n",
       "      <th></th>\n",
       "      <th>mean radius</th>\n",
       "      <th>mean texture</th>\n",
       "      <th>mean perimeter</th>\n",
       "      <th>mean area</th>\n",
       "      <th>mean smoothness</th>\n",
       "      <th>mean compactness</th>\n",
       "      <th>mean concavity</th>\n",
       "      <th>mean concave points</th>\n",
       "      <th>mean symmetry</th>\n",
       "      <th>mean fractal dimension</th>\n",
       "      <th>...</th>\n",
       "      <th>worst texture</th>\n",
       "      <th>worst perimeter</th>\n",
       "      <th>worst area</th>\n",
       "      <th>worst smoothness</th>\n",
       "      <th>worst compactness</th>\n",
       "      <th>worst concavity</th>\n",
       "      <th>worst concave points</th>\n",
       "      <th>worst symmetry</th>\n",
       "      <th>worst fractal dimension</th>\n",
       "      <th>label</th>\n",
       "    </tr>\n",
       "  </thead>\n",
       "  <tbody>\n",
       "    <tr>\n",
       "      <th>0</th>\n",
       "      <td>17.99</td>\n",
       "      <td>10.38</td>\n",
       "      <td>122.80</td>\n",
       "      <td>1001.0</td>\n",
       "      <td>0.11840</td>\n",
       "      <td>0.27760</td>\n",
       "      <td>0.3001</td>\n",
       "      <td>0.14710</td>\n",
       "      <td>0.2419</td>\n",
       "      <td>0.07871</td>\n",
       "      <td>...</td>\n",
       "      <td>17.33</td>\n",
       "      <td>184.60</td>\n",
       "      <td>2019.0</td>\n",
       "      <td>0.1622</td>\n",
       "      <td>0.6656</td>\n",
       "      <td>0.7119</td>\n",
       "      <td>0.2654</td>\n",
       "      <td>0.4601</td>\n",
       "      <td>0.11890</td>\n",
       "      <td>Benign</td>\n",
       "    </tr>\n",
       "    <tr>\n",
       "      <th>1</th>\n",
       "      <td>20.57</td>\n",
       "      <td>17.77</td>\n",
       "      <td>132.90</td>\n",
       "      <td>1326.0</td>\n",
       "      <td>0.08474</td>\n",
       "      <td>0.07864</td>\n",
       "      <td>0.0869</td>\n",
       "      <td>0.07017</td>\n",
       "      <td>0.1812</td>\n",
       "      <td>0.05667</td>\n",
       "      <td>...</td>\n",
       "      <td>23.41</td>\n",
       "      <td>158.80</td>\n",
       "      <td>1956.0</td>\n",
       "      <td>0.1238</td>\n",
       "      <td>0.1866</td>\n",
       "      <td>0.2416</td>\n",
       "      <td>0.1860</td>\n",
       "      <td>0.2750</td>\n",
       "      <td>0.08902</td>\n",
       "      <td>Benign</td>\n",
       "    </tr>\n",
       "    <tr>\n",
       "      <th>2</th>\n",
       "      <td>19.69</td>\n",
       "      <td>21.25</td>\n",
       "      <td>130.00</td>\n",
       "      <td>1203.0</td>\n",
       "      <td>0.10960</td>\n",
       "      <td>0.15990</td>\n",
       "      <td>0.1974</td>\n",
       "      <td>0.12790</td>\n",
       "      <td>0.2069</td>\n",
       "      <td>0.05999</td>\n",
       "      <td>...</td>\n",
       "      <td>25.53</td>\n",
       "      <td>152.50</td>\n",
       "      <td>1709.0</td>\n",
       "      <td>0.1444</td>\n",
       "      <td>0.4245</td>\n",
       "      <td>0.4504</td>\n",
       "      <td>0.2430</td>\n",
       "      <td>0.3613</td>\n",
       "      <td>0.08758</td>\n",
       "      <td>Benign</td>\n",
       "    </tr>\n",
       "    <tr>\n",
       "      <th>3</th>\n",
       "      <td>11.42</td>\n",
       "      <td>20.38</td>\n",
       "      <td>77.58</td>\n",
       "      <td>386.1</td>\n",
       "      <td>0.14250</td>\n",
       "      <td>0.28390</td>\n",
       "      <td>0.2414</td>\n",
       "      <td>0.10520</td>\n",
       "      <td>0.2597</td>\n",
       "      <td>0.09744</td>\n",
       "      <td>...</td>\n",
       "      <td>26.50</td>\n",
       "      <td>98.87</td>\n",
       "      <td>567.7</td>\n",
       "      <td>0.2098</td>\n",
       "      <td>0.8663</td>\n",
       "      <td>0.6869</td>\n",
       "      <td>0.2575</td>\n",
       "      <td>0.6638</td>\n",
       "      <td>0.17300</td>\n",
       "      <td>Benign</td>\n",
       "    </tr>\n",
       "    <tr>\n",
       "      <th>4</th>\n",
       "      <td>20.29</td>\n",
       "      <td>14.34</td>\n",
       "      <td>135.10</td>\n",
       "      <td>1297.0</td>\n",
       "      <td>0.10030</td>\n",
       "      <td>0.13280</td>\n",
       "      <td>0.1980</td>\n",
       "      <td>0.10430</td>\n",
       "      <td>0.1809</td>\n",
       "      <td>0.05883</td>\n",
       "      <td>...</td>\n",
       "      <td>16.67</td>\n",
       "      <td>152.20</td>\n",
       "      <td>1575.0</td>\n",
       "      <td>0.1374</td>\n",
       "      <td>0.2050</td>\n",
       "      <td>0.4000</td>\n",
       "      <td>0.1625</td>\n",
       "      <td>0.2364</td>\n",
       "      <td>0.07678</td>\n",
       "      <td>Benign</td>\n",
       "    </tr>\n",
       "  </tbody>\n",
       "</table>\n",
       "<p>5 rows × 31 columns</p>\n",
       "</div>"
      ],
      "text/plain": [
       "   mean radius  mean texture  mean perimeter  mean area  mean smoothness  \\\n",
       "0        17.99         10.38          122.80     1001.0          0.11840   \n",
       "1        20.57         17.77          132.90     1326.0          0.08474   \n",
       "2        19.69         21.25          130.00     1203.0          0.10960   \n",
       "3        11.42         20.38           77.58      386.1          0.14250   \n",
       "4        20.29         14.34          135.10     1297.0          0.10030   \n",
       "\n",
       "   mean compactness  mean concavity  mean concave points  mean symmetry  \\\n",
       "0           0.27760          0.3001              0.14710         0.2419   \n",
       "1           0.07864          0.0869              0.07017         0.1812   \n",
       "2           0.15990          0.1974              0.12790         0.2069   \n",
       "3           0.28390          0.2414              0.10520         0.2597   \n",
       "4           0.13280          0.1980              0.10430         0.1809   \n",
       "\n",
       "   mean fractal dimension  ...  worst texture  worst perimeter  worst area  \\\n",
       "0                 0.07871  ...          17.33           184.60      2019.0   \n",
       "1                 0.05667  ...          23.41           158.80      1956.0   \n",
       "2                 0.05999  ...          25.53           152.50      1709.0   \n",
       "3                 0.09744  ...          26.50            98.87       567.7   \n",
       "4                 0.05883  ...          16.67           152.20      1575.0   \n",
       "\n",
       "   worst smoothness  worst compactness  worst concavity  worst concave points  \\\n",
       "0            0.1622             0.6656           0.7119                0.2654   \n",
       "1            0.1238             0.1866           0.2416                0.1860   \n",
       "2            0.1444             0.4245           0.4504                0.2430   \n",
       "3            0.2098             0.8663           0.6869                0.2575   \n",
       "4            0.1374             0.2050           0.4000                0.1625   \n",
       "\n",
       "   worst symmetry  worst fractal dimension   label  \n",
       "0          0.4601                  0.11890  Benign  \n",
       "1          0.2750                  0.08902  Benign  \n",
       "2          0.3613                  0.08758  Benign  \n",
       "3          0.6638                  0.17300  Benign  \n",
       "4          0.2364                  0.07678  Benign  \n",
       "\n",
       "[5 rows x 31 columns]"
      ]
     },
     "execution_count": 8,
     "metadata": {},
     "output_type": "execute_result"
    }
   ],
   "source": [
    "b_dataset['label'].replace(0,'Benign',inplace=True)\n",
    "b_dataset['label'].replace(1,'Malignant',inplace=True)\n",
    "b_dataset.tail()\n",
    "data = pd.DataFrame.copy(b_dataset)\n",
    "data.head()"
   ]
  },
  {
   "cell_type": "code",
   "execution_count": 9,
   "id": "0113643d-80db-4460-ae81-e0fffc05a1c1",
   "metadata": {},
   "outputs": [
    {
     "data": {
      "text/html": [
       "<div>\n",
       "<style scoped>\n",
       "    .dataframe tbody tr th:only-of-type {\n",
       "        vertical-align: middle;\n",
       "    }\n",
       "\n",
       "    .dataframe tbody tr th {\n",
       "        vertical-align: top;\n",
       "    }\n",
       "\n",
       "    .dataframe thead th {\n",
       "        text-align: right;\n",
       "    }\n",
       "</style>\n",
       "<table border=\"1\" class=\"dataframe\">\n",
       "  <thead>\n",
       "    <tr style=\"text-align: right;\">\n",
       "      <th></th>\n",
       "      <th>mean radius</th>\n",
       "      <th>mean texture</th>\n",
       "      <th>mean perimeter</th>\n",
       "      <th>mean area</th>\n",
       "      <th>mean smoothness</th>\n",
       "      <th>mean compactness</th>\n",
       "      <th>mean concavity</th>\n",
       "      <th>mean concave points</th>\n",
       "      <th>mean symmetry</th>\n",
       "      <th>mean fractal dimension</th>\n",
       "      <th>...</th>\n",
       "      <th>worst texture</th>\n",
       "      <th>worst perimeter</th>\n",
       "      <th>worst area</th>\n",
       "      <th>worst smoothness</th>\n",
       "      <th>worst compactness</th>\n",
       "      <th>worst concavity</th>\n",
       "      <th>worst concave points</th>\n",
       "      <th>worst symmetry</th>\n",
       "      <th>worst fractal dimension</th>\n",
       "      <th>label</th>\n",
       "    </tr>\n",
       "  </thead>\n",
       "  <tbody>\n",
       "    <tr>\n",
       "      <th>0</th>\n",
       "      <td>17.99</td>\n",
       "      <td>10.38</td>\n",
       "      <td>122.80</td>\n",
       "      <td>1001.0</td>\n",
       "      <td>0.11840</td>\n",
       "      <td>0.27760</td>\n",
       "      <td>0.3001</td>\n",
       "      <td>0.14710</td>\n",
       "      <td>0.2419</td>\n",
       "      <td>0.07871</td>\n",
       "      <td>...</td>\n",
       "      <td>17.33</td>\n",
       "      <td>184.60</td>\n",
       "      <td>2019.0</td>\n",
       "      <td>0.1622</td>\n",
       "      <td>0.6656</td>\n",
       "      <td>0.7119</td>\n",
       "      <td>0.2654</td>\n",
       "      <td>0.4601</td>\n",
       "      <td>0.11890</td>\n",
       "      <td>Benign</td>\n",
       "    </tr>\n",
       "    <tr>\n",
       "      <th>1</th>\n",
       "      <td>20.57</td>\n",
       "      <td>17.77</td>\n",
       "      <td>132.90</td>\n",
       "      <td>1326.0</td>\n",
       "      <td>0.08474</td>\n",
       "      <td>0.07864</td>\n",
       "      <td>0.0869</td>\n",
       "      <td>0.07017</td>\n",
       "      <td>0.1812</td>\n",
       "      <td>0.05667</td>\n",
       "      <td>...</td>\n",
       "      <td>23.41</td>\n",
       "      <td>158.80</td>\n",
       "      <td>1956.0</td>\n",
       "      <td>0.1238</td>\n",
       "      <td>0.1866</td>\n",
       "      <td>0.2416</td>\n",
       "      <td>0.1860</td>\n",
       "      <td>0.2750</td>\n",
       "      <td>0.08902</td>\n",
       "      <td>Benign</td>\n",
       "    </tr>\n",
       "    <tr>\n",
       "      <th>2</th>\n",
       "      <td>19.69</td>\n",
       "      <td>21.25</td>\n",
       "      <td>130.00</td>\n",
       "      <td>1203.0</td>\n",
       "      <td>0.10960</td>\n",
       "      <td>0.15990</td>\n",
       "      <td>0.1974</td>\n",
       "      <td>0.12790</td>\n",
       "      <td>0.2069</td>\n",
       "      <td>0.05999</td>\n",
       "      <td>...</td>\n",
       "      <td>25.53</td>\n",
       "      <td>152.50</td>\n",
       "      <td>1709.0</td>\n",
       "      <td>0.1444</td>\n",
       "      <td>0.4245</td>\n",
       "      <td>0.4504</td>\n",
       "      <td>0.2430</td>\n",
       "      <td>0.3613</td>\n",
       "      <td>0.08758</td>\n",
       "      <td>Benign</td>\n",
       "    </tr>\n",
       "    <tr>\n",
       "      <th>3</th>\n",
       "      <td>11.42</td>\n",
       "      <td>20.38</td>\n",
       "      <td>77.58</td>\n",
       "      <td>386.1</td>\n",
       "      <td>0.14250</td>\n",
       "      <td>0.28390</td>\n",
       "      <td>0.2414</td>\n",
       "      <td>0.10520</td>\n",
       "      <td>0.2597</td>\n",
       "      <td>0.09744</td>\n",
       "      <td>...</td>\n",
       "      <td>26.50</td>\n",
       "      <td>98.87</td>\n",
       "      <td>567.7</td>\n",
       "      <td>0.2098</td>\n",
       "      <td>0.8663</td>\n",
       "      <td>0.6869</td>\n",
       "      <td>0.2575</td>\n",
       "      <td>0.6638</td>\n",
       "      <td>0.17300</td>\n",
       "      <td>Benign</td>\n",
       "    </tr>\n",
       "    <tr>\n",
       "      <th>4</th>\n",
       "      <td>20.29</td>\n",
       "      <td>14.34</td>\n",
       "      <td>135.10</td>\n",
       "      <td>1297.0</td>\n",
       "      <td>0.10030</td>\n",
       "      <td>0.13280</td>\n",
       "      <td>0.1980</td>\n",
       "      <td>0.10430</td>\n",
       "      <td>0.1809</td>\n",
       "      <td>0.05883</td>\n",
       "      <td>...</td>\n",
       "      <td>16.67</td>\n",
       "      <td>152.20</td>\n",
       "      <td>1575.0</td>\n",
       "      <td>0.1374</td>\n",
       "      <td>0.2050</td>\n",
       "      <td>0.4000</td>\n",
       "      <td>0.1625</td>\n",
       "      <td>0.2364</td>\n",
       "      <td>0.07678</td>\n",
       "      <td>Benign</td>\n",
       "    </tr>\n",
       "  </tbody>\n",
       "</table>\n",
       "<p>5 rows × 31 columns</p>\n",
       "</div>"
      ],
      "text/plain": [
       "   mean radius  mean texture  mean perimeter  mean area  mean smoothness  \\\n",
       "0        17.99         10.38          122.80     1001.0          0.11840   \n",
       "1        20.57         17.77          132.90     1326.0          0.08474   \n",
       "2        19.69         21.25          130.00     1203.0          0.10960   \n",
       "3        11.42         20.38           77.58      386.1          0.14250   \n",
       "4        20.29         14.34          135.10     1297.0          0.10030   \n",
       "\n",
       "   mean compactness  mean concavity  mean concave points  mean symmetry  \\\n",
       "0           0.27760          0.3001              0.14710         0.2419   \n",
       "1           0.07864          0.0869              0.07017         0.1812   \n",
       "2           0.15990          0.1974              0.12790         0.2069   \n",
       "3           0.28390          0.2414              0.10520         0.2597   \n",
       "4           0.13280          0.1980              0.10430         0.1809   \n",
       "\n",
       "   mean fractal dimension  ...  worst texture  worst perimeter  worst area  \\\n",
       "0                 0.07871  ...          17.33           184.60      2019.0   \n",
       "1                 0.05667  ...          23.41           158.80      1956.0   \n",
       "2                 0.05999  ...          25.53           152.50      1709.0   \n",
       "3                 0.09744  ...          26.50            98.87       567.7   \n",
       "4                 0.05883  ...          16.67           152.20      1575.0   \n",
       "\n",
       "   worst smoothness  worst compactness  worst concavity  worst concave points  \\\n",
       "0            0.1622             0.6656           0.7119                0.2654   \n",
       "1            0.1238             0.1866           0.2416                0.1860   \n",
       "2            0.1444             0.4245           0.4504                0.2430   \n",
       "3            0.2098             0.8663           0.6869                0.2575   \n",
       "4            0.1374             0.2050           0.4000                0.1625   \n",
       "\n",
       "   worst symmetry  worst fractal dimension   label  \n",
       "0          0.4601                  0.11890  Benign  \n",
       "1          0.2750                  0.08902  Benign  \n",
       "2          0.3613                  0.08758  Benign  \n",
       "3          0.6638                  0.17300  Benign  \n",
       "4          0.2364                  0.07678  Benign  \n",
       "\n",
       "[5 rows x 31 columns]"
      ]
     },
     "execution_count": 9,
     "metadata": {},
     "output_type": "execute_result"
    }
   ],
   "source": [
    "b_dataset.head()"
   ]
  },
  {
   "cell_type": "code",
   "execution_count": 10,
   "id": "e2fe7d07-8de7-420c-b80c-94e1269dab0f",
   "metadata": {},
   "outputs": [
    {
     "name": "stdout",
     "output_type": "stream",
     "text": [
      "0         Benign\n",
      "1         Benign\n",
      "2         Benign\n",
      "3         Benign\n",
      "4         Benign\n",
      "         ...    \n",
      "564       Benign\n",
      "565       Benign\n",
      "566       Benign\n",
      "567       Benign\n",
      "568    Malignant\n",
      "Name: label, Length: 569, dtype: object\n",
      "0      0\n",
      "1      0\n",
      "2      0\n",
      "3      0\n",
      "4      0\n",
      "      ..\n",
      "564    0\n",
      "565    0\n",
      "566    0\n",
      "567    0\n",
      "568    1\n",
      "Name: label, Length: 569, dtype: int64\n"
     ]
    }
   ],
   "source": [
    "# Define input and output variables\n",
    "# Not sure why label went from binary to text earlier.\n",
    "Y = b_dataset['label']\n",
    "YBin = data['label']\n",
    "YBin.replace('Benign',0,inplace=True)\n",
    "YBin.replace('Malignant',1,inplace=True)\n",
    "print(Y)\n",
    "print(YBin)\n",
    "X = b_dataset[features]\n",
    "XBin = data[features]\n",
    "# Binary seems to be neccessary for the sklearn.metrics library to compute recall and precision. So the another DF called YBin is defined by copying the original b_dataset.\n"
   ]
  },
  {
   "cell_type": "markdown",
   "id": "4211ed4a-0954-41bf-949b-06c6dcbb6aa6",
   "metadata": {},
   "source": [
    "## Explore Data"
   ]
  },
  {
   "cell_type": "code",
   "execution_count": 11,
   "id": "67a966ca-c3b0-4c6f-a7b8-da36615f5f36",
   "metadata": {},
   "outputs": [
    {
     "data": {
      "image/png": "[encoded data removed]",
      "text/plain": [
       "<Figure size 432x288 with 1 Axes>"
      ]
     },
     "metadata": {
      "needs_background": "light"
     },
     "output_type": "display_data"
    }
   ],
   "source": [
    "#Visualizing the first feature\n",
    "plt.figure()\n",
    "plt.scatter(b_dataset[features[0]],b_dataset['label'])\n",
    "plt.show()\n",
    "\n",
    "# It seems the first feature would be able to easily fit along a sigmoid function."
   ]
  },
  {
   "cell_type": "markdown",
   "id": "48c9cce6-2902-4369-bc72-ad26fc140c63",
   "metadata": {},
   "source": [
    "## Train & Test"
   ]
  },
  {
   "cell_type": "code",
   "execution_count": 12,
   "id": "1c7f1eba-bbfc-48e6-b1a9-47b2ef71934c",
   "metadata": {},
   "outputs": [],
   "source": [
    "# Split dataset\n",
    "from sklearn.model_selection import train_test_split\n",
    "x_train, x_test, y_train, y_test = train_test_split(X,Y, test_size=0.20, random_state=42)\n",
    "x_trainbin, x_testbin, y_trainbin, y_testbin = train_test_split(XBin,YBin, test_size=0.20, random_state=42)"
   ]
  },
  {
   "cell_type": "code",
   "execution_count": 13,
   "id": "aaa8fe0a-c893-41c5-a34b-dcb055670355",
   "metadata": {},
   "outputs": [],
   "source": [
    "# Scale our data\n",
    "\n",
    "from sklearn.preprocessing import StandardScaler\n",
    "stdsc = StandardScaler()\n",
    "X_train = stdsc.fit_transform(x_train)\n",
    "X_test = stdsc.transform(x_test)\n",
    "X_TRbin = stdsc.fit_transform(x_trainbin)\n",
    "X_TSTbin = stdsc.transform(x_testbin)\n",
    "# Y is binary, so no need to edit.\n"
   ]
  },
  {
   "cell_type": "code",
   "execution_count": 14,
   "id": "c2526298-de1b-4c3b-92a8-7b3f35713760",
   "metadata": {},
   "outputs": [
    {
     "data": {
      "text/plain": [
       "LogisticRegression(random_state=0)"
      ]
     },
     "execution_count": 14,
     "metadata": {},
     "output_type": "execute_result"
    }
   ],
   "source": [
    "# Import LogisticRegression\n",
    "# Fit and train model on training data\n",
    "from sklearn.linear_model import LogisticRegression\n",
    "classifier = LogisticRegression(random_state=0)\n",
    "#classifier.fit(X_train, y_train)\n",
    "classifier.fit(X_TRbin, y_trainbin)"
   ]
  },
  {
   "cell_type": "code",
   "execution_count": 15,
   "id": "0743f15e-07cb-44fb-94c1-1b85005924d2",
   "metadata": {},
   "outputs": [
    {
     "name": "stdout",
     "output_type": "stream",
     "text": [
      "[1 0 0 1 1 0 0 0 1 1 1 0 1 0 1 0 1 1 1 0 1 1 0 1 1 1 1 1 1 0 1 1 1 1 1 1 0\n",
      " 1 0 1 1 0 1 1 1 1 1 1 1 1 0 0 1 1 1 1 1 0 0 1 1 0 0 1 1 1 0 0 1 1 0 0 1 0\n",
      " 1 1 1 1 1 1 0 1 0 0 0 0 0 0 1 1 1 1 1 1 1 1 0 0 1 0 0 1 0 0 1 1 1 0 1 1 0\n",
      " 1 0 0]\n",
      "204    1\n",
      "70     0\n",
      "131    0\n",
      "431    1\n",
      "540    1\n",
      "      ..\n",
      "486    1\n",
      "75     0\n",
      "249    1\n",
      "238    1\n",
      "265    0\n",
      "Name: label, Length: 114, dtype: int64\n"
     ]
    }
   ],
   "source": [
    "Y_pred = classifier.predict(X_TSTbin)\n",
    "print(Y_pred)\n",
    "print(y_testbin)"
   ]
  },
  {
   "cell_type": "code",
   "execution_count": 16,
   "id": "7427204e-4af9-43a8-8e04-f8862652abac",
   "metadata": {},
   "outputs": [
    {
     "data": {
      "text/plain": [
       "array([[41,  2],\n",
       "       [ 1, 70]])"
      ]
     },
     "execution_count": 16,
     "metadata": {},
     "output_type": "execute_result"
    }
   ],
   "source": [
    "# Create a confusion matrix\n",
    "\n",
    "from sklearn.metrics import confusion_matrix\n",
    "cnf_matrix = confusion_matrix(y_testbin, Y_pred)\n",
    "cnf_matrix\n"
   ]
  },
  {
   "cell_type": "code",
   "execution_count": 17,
   "id": "d16a048f-3ff4-4aee-98ad-8500967a1833",
   "metadata": {},
   "outputs": [
    {
     "name": "stdout",
     "output_type": "stream",
     "text": [
      "Accuracy: 0.9736842105263158\n",
      "Precision: 0.9722222222222222\n",
      "Recall: 0.9859154929577465\n"
     ]
    }
   ],
   "source": [
    "from sklearn import metrics\n",
    "print(\"Accuracy:\", metrics.accuracy_score(y_testbin,Y_pred))\n",
    "print(\"Precision:\",metrics.precision_score(y_testbin,Y_pred))\n",
    "print(\"Recall:\",metrics.recall_score(y_testbin,Y_pred))\n"
   ]
  },
  {
   "cell_type": "code",
   "execution_count": 18,
   "id": "9322853d-6ffa-4e60-93a9-ab69454ab50d",
   "metadata": {},
   "outputs": [
    {
     "data": {
      "text/plain": [
       "Text(0.5, 257.44, 'Predicted label')"
      ]
     },
     "execution_count": 18,
     "metadata": {},
     "output_type": "execute_result"
    },
    {
     "data": {
      "image/png": "[encoded data removed]",
      "text/plain": [
       "<Figure size 432x288 with 2 Axes>"
      ]
     },
     "metadata": {
      "needs_background": "light"
     },
     "output_type": "display_data"
    }
   ],
   "source": [
    "#Visualize\n",
    "\n",
    "import seaborn as sns\n",
    "class_names=['Benign','Malignant']\n",
    "fig, ax = plt.subplots()\n",
    "\n",
    "sns.heatmap(pd.DataFrame(cnf_matrix),annot=True,cmap=\"icefire\",fmt='g')\n",
    "ax.xaxis.set_label_position(\"top\")\n",
    "plt.tight_layout()\n",
    "plt.title('Confusion matrix', y=1.1)\n",
    "tick_marks = np.arange(len(class_names))\n",
    "plt.xticks(tick_marks,class_names)\n",
    "plt.yticks(tick_marks,class_names)\n",
    "plt.ylabel('Actual label')\n",
    "plt.xlabel('Predicted label')"
   ]
  },
  {
   "cell_type": "code",
   "execution_count": 19,
   "id": "9118573f-72c0-4913-b2d9-e52dbbd763d0",
   "metadata": {},
   "outputs": [
    {
     "data": {
      "text/plain": [
       "<matplotlib.contour.QuadContourSet at 0x7f8d81771dc0>"
      ]
     },
     "execution_count": 19,
     "metadata": {},
     "output_type": "execute_result"
    },
    {
     "data": {
      "image/png": "[encoded data removed]",
      "text/plain": [
       "<Figure size 720x432 with 1 Axes>"
      ]
     },
     "metadata": {
      "needs_background": "light"
     },
     "output_type": "display_data"
    }
   ],
   "source": [
    "from sklearn.linear_model import LogisticRegression\n",
    "\n",
    "# This plot on extracts 2 features and then runs it through the classifier. \n",
    "xdot, ydot = X_TSTbin[:,0:2], y_testbin\n",
    "classifierx = LogisticRegression(random_state=0) \n",
    "classifierx.fit(X_TRbin[:,0:2], y_trainbin)\n",
    "\n",
    "\n",
    "plt.figure(figsize = (10, 6))\n",
    "\n",
    "plt.scatter(xdot[ydot == 0][:, 0], xdot[ydot == 0][:, 1], color = 'g', label = '0')\n",
    "plt.scatter(xdot[ydot == 1][:, 0], xdot[ydot == 1][:, 1], color = 'y', label = '1')\n",
    "plt.legend()\n",
    "\n",
    "x1_min, x1_max = xdot[:,0].min(), xdot[:,0].max(),\n",
    "x2_min, x2_max = xdot[:,1].min(), xdot[:,1].max(),\n",
    "\n",
    "xx1, xx2 = np.meshgrid(np.linspace(x1_min, x1_max), np.linspace(x2_min, x2_max))\n",
    "grid = np.array([xx1.ravel(), xx2.ravel()]).T\n",
    "#print(grid.shape)\n",
    "\n",
    "probs = classifierx.predict(grid).reshape(xx1.shape)\n",
    "#print(probs)\n",
    "#print(probs.shape)\n",
    "#print(xx1.shape)\n",
    "#plt.plot(xx1, xx2, [0.5], linewidths=1, colors='red');\n",
    "plt.contour(xx1, xx2, probs,[0.5], linewidths=1, colors='red')\n"
   ]
  },
  {
   "cell_type": "code",
   "execution_count": 20,
   "id": "0a7e08d4-717a-4ef2-8665-56cfa4e66b78",
   "metadata": {},
   "outputs": [
    {
     "name": "stdout",
     "output_type": "stream",
     "text": [
      "0.9089291963122152\n"
     ]
    }
   ],
   "source": [
    "# sklearn.metrics.log_loss(y_true, y_pred, *, eps=1e-15, normalize=True, sample_weight=None, labels=None)\n",
    "\n",
    "from sklearn.metrics import log_loss\n",
    "\n",
    "logloss = log_loss(y_testbin,Y_pred)\n",
    "print(logloss)\n"
   ]
  },
  {
   "cell_type": "code",
   "execution_count": 21,
   "id": "e390b69a-72a4-4b41-8b1f-c39b8a11fe3a",
   "metadata": {},
   "outputs": [
    {
     "name": "stdout",
     "output_type": "stream",
     "text": [
      "(455, 30)\n",
      "(455,)\n",
      "0.9089221822996695\n"
     ]
    },
    {
     "name": "stderr",
     "output_type": "stream",
     "text": [
      "/opt/anaconda3/lib/python3.8/site-packages/sklearn/linear_model/_stochastic_gradient.py:574: ConvergenceWarning: Maximum number of iteration reached before convergence. Consider increasing max_iter to improve the fit.\n",
      "  warnings.warn(\"Maximum number of iteration reached before \"\n"
     ]
    }
   ],
   "source": [
    "from sklearn.linear_model import SGDClassifier\n",
    "\n",
    "X = X_TRbin\n",
    "y = y_trainbin\n",
    "print(X.shape)\n",
    "print(y.shape)\n",
    "\n",
    "iterations = 1000\n",
    "loglossvec = np.zeros(iterations)\n",
    "\n",
    "clf = SGDClassifier(loss=\"log\", penalty=\"l2\", max_iter=29)\n",
    "clf.fit(X, y)\n",
    "#print(y_testbin.shape)\n",
    "ypred = clf.predict(X_TSTbin)\n",
    "loglossx = log_loss(y_testbin,ypred)\n",
    "\n",
    "print(loglossx)"
   ]
  },
  {
   "cell_type": "code",
   "execution_count": 22,
   "id": "fae2fe02-0cd5-4f4a-8282-3978738241be",
   "metadata": {},
   "outputs": [
    {
     "name": "stderr",
     "output_type": "stream",
     "text": [
      "/opt/anaconda3/lib/python3.8/site-packages/sklearn/linear_model/_stochastic_gradient.py:574: ConvergenceWarning: Maximum number of iteration reached before convergence. Consider increasing max_iter to improve the fit.\n",
      "  warnings.warn(\"Maximum number of iteration reached before \"\n",
      "/opt/anaconda3/lib/python3.8/site-packages/sklearn/linear_model/_stochastic_gradient.py:574: ConvergenceWarning: Maximum number of iteration reached before convergence. Consider increasing max_iter to improve the fit.\n",
      "  warnings.warn(\"Maximum number of iteration reached before \"\n",
      "/opt/anaconda3/lib/python3.8/site-packages/sklearn/linear_model/_stochastic_gradient.py:574: ConvergenceWarning: Maximum number of iteration reached before convergence. Consider increasing max_iter to improve the fit.\n",
      "  warnings.warn(\"Maximum number of iteration reached before \"\n",
      "/opt/anaconda3/lib/python3.8/site-packages/sklearn/linear_model/_stochastic_gradient.py:574: ConvergenceWarning: Maximum number of iteration reached before convergence. Consider increasing max_iter to improve the fit.\n",
      "  warnings.warn(\"Maximum number of iteration reached before \"\n",
      "/opt/anaconda3/lib/python3.8/site-packages/sklearn/linear_model/_stochastic_gradient.py:574: ConvergenceWarning: Maximum number of iteration reached before convergence. Consider increasing max_iter to improve the fit.\n",
      "  warnings.warn(\"Maximum number of iteration reached before \"\n",
      "/opt/anaconda3/lib/python3.8/site-packages/sklearn/linear_model/_stochastic_gradient.py:574: ConvergenceWarning: Maximum number of iteration reached before convergence. Consider increasing max_iter to improve the fit.\n",
      "  warnings.warn(\"Maximum number of iteration reached before \"\n",
      "/opt/anaconda3/lib/python3.8/site-packages/sklearn/linear_model/_stochastic_gradient.py:574: ConvergenceWarning: Maximum number of iteration reached before convergence. Consider increasing max_iter to improve the fit.\n",
      "  warnings.warn(\"Maximum number of iteration reached before \"\n",
      "/opt/anaconda3/lib/python3.8/site-packages/sklearn/linear_model/_stochastic_gradient.py:574: ConvergenceWarning: Maximum number of iteration reached before convergence. Consider increasing max_iter to improve the fit.\n",
      "  warnings.warn(\"Maximum number of iteration reached before \"\n",
      "/opt/anaconda3/lib/python3.8/site-packages/sklearn/linear_model/_stochastic_gradient.py:574: ConvergenceWarning: Maximum number of iteration reached before convergence. Consider increasing max_iter to improve the fit.\n",
      "  warnings.warn(\"Maximum number of iteration reached before \"\n",
      "/opt/anaconda3/lib/python3.8/site-packages/sklearn/linear_model/_stochastic_gradient.py:574: ConvergenceWarning: Maximum number of iteration reached before convergence. Consider increasing max_iter to improve the fit.\n",
      "  warnings.warn(\"Maximum number of iteration reached before \"\n",
      "/opt/anaconda3/lib/python3.8/site-packages/sklearn/linear_model/_stochastic_gradient.py:574: ConvergenceWarning: Maximum number of iteration reached before convergence. Consider increasing max_iter to improve the fit.\n",
      "  warnings.warn(\"Maximum number of iteration reached before \"\n",
      "/opt/anaconda3/lib/python3.8/site-packages/sklearn/linear_model/_stochastic_gradient.py:574: ConvergenceWarning: Maximum number of iteration reached before convergence. Consider increasing max_iter to improve the fit.\n",
      "  warnings.warn(\"Maximum number of iteration reached before \"\n",
      "/opt/anaconda3/lib/python3.8/site-packages/sklearn/linear_model/_stochastic_gradient.py:574: ConvergenceWarning: Maximum number of iteration reached before convergence. Consider increasing max_iter to improve the fit.\n",
      "  warnings.warn(\"Maximum number of iteration reached before \"\n",
      "/opt/anaconda3/lib/python3.8/site-packages/sklearn/linear_model/_stochastic_gradient.py:574: ConvergenceWarning: Maximum number of iteration reached before convergence. Consider increasing max_iter to improve the fit.\n",
      "  warnings.warn(\"Maximum number of iteration reached before \"\n",
      "/opt/anaconda3/lib/python3.8/site-packages/sklearn/linear_model/_stochastic_gradient.py:574: ConvergenceWarning: Maximum number of iteration reached before convergence. Consider increasing max_iter to improve the fit.\n",
      "  warnings.warn(\"Maximum number of iteration reached before \"\n",
      "/opt/anaconda3/lib/python3.8/site-packages/sklearn/linear_model/_stochastic_gradient.py:574: ConvergenceWarning: Maximum number of iteration reached before convergence. Consider increasing max_iter to improve the fit.\n",
      "  warnings.warn(\"Maximum number of iteration reached before \"\n",
      "/opt/anaconda3/lib/python3.8/site-packages/sklearn/linear_model/_stochastic_gradient.py:574: ConvergenceWarning: Maximum number of iteration reached before convergence. Consider increasing max_iter to improve the fit.\n",
      "  warnings.warn(\"Maximum number of iteration reached before \"\n",
      "/opt/anaconda3/lib/python3.8/site-packages/sklearn/linear_model/_stochastic_gradient.py:574: ConvergenceWarning: Maximum number of iteration reached before convergence. Consider increasing max_iter to improve the fit.\n",
      "  warnings.warn(\"Maximum number of iteration reached before \"\n",
      "/opt/anaconda3/lib/python3.8/site-packages/sklearn/linear_model/_stochastic_gradient.py:574: ConvergenceWarning: Maximum number of iteration reached before convergence. Consider increasing max_iter to improve the fit.\n",
      "  warnings.warn(\"Maximum number of iteration reached before \"\n",
      "/opt/anaconda3/lib/python3.8/site-packages/sklearn/linear_model/_stochastic_gradient.py:574: ConvergenceWarning: Maximum number of iteration reached before convergence. Consider increasing max_iter to improve the fit.\n",
      "  warnings.warn(\"Maximum number of iteration reached before \"\n",
      "/opt/anaconda3/lib/python3.8/site-packages/sklearn/linear_model/_stochastic_gradient.py:574: ConvergenceWarning: Maximum number of iteration reached before convergence. Consider increasing max_iter to improve the fit.\n",
      "  warnings.warn(\"Maximum number of iteration reached before \"\n",
      "/opt/anaconda3/lib/python3.8/site-packages/sklearn/linear_model/_stochastic_gradient.py:574: ConvergenceWarning: Maximum number of iteration reached before convergence. Consider increasing max_iter to improve the fit.\n",
      "  warnings.warn(\"Maximum number of iteration reached before \"\n",
      "/opt/anaconda3/lib/python3.8/site-packages/sklearn/linear_model/_stochastic_gradient.py:574: ConvergenceWarning: Maximum number of iteration reached before convergence. Consider increasing max_iter to improve the fit.\n",
      "  warnings.warn(\"Maximum number of iteration reached before \"\n",
      "/opt/anaconda3/lib/python3.8/site-packages/sklearn/linear_model/_stochastic_gradient.py:574: ConvergenceWarning: Maximum number of iteration reached before convergence. Consider increasing max_iter to improve the fit.\n",
      "  warnings.warn(\"Maximum number of iteration reached before \"\n",
      "/opt/anaconda3/lib/python3.8/site-packages/sklearn/linear_model/_stochastic_gradient.py:574: ConvergenceWarning: Maximum number of iteration reached before convergence. Consider increasing max_iter to improve the fit.\n",
      "  warnings.warn(\"Maximum number of iteration reached before \"\n",
      "/opt/anaconda3/lib/python3.8/site-packages/sklearn/linear_model/_stochastic_gradient.py:574: ConvergenceWarning: Maximum number of iteration reached before convergence. Consider increasing max_iter to improve the fit.\n",
      "  warnings.warn(\"Maximum number of iteration reached before \"\n"
     ]
    }
   ],
   "source": [
    "for i in range(iterations):\n",
    "    if i != 0:\n",
    "        clf = SGDClassifier(loss=\"log\", penalty=\"l2\", max_iter=i)\n",
    "        clf.fit(X, y)\n",
    "        #print(y_testbin.shape)\n",
    "        ypred = clf.predict(X_TSTbin)\n",
    "        loglossvec[i] = log_loss(y_testbin,ypred)"
   ]
  },
  {
   "cell_type": "code",
   "execution_count": 23,
   "id": "873864b2-229a-49ec-8178-cf63f1789683",
   "metadata": {},
   "outputs": [
    {
     "name": "stdout",
     "output_type": "stream",
     "text": [
      "3.0297382696613813\n",
      "0.0\n"
     ]
    },
    {
     "data": {
      "image/png": "[encoded data removed]",
      "text/plain": [
       "<Figure size 432x288 with 1 Axes>"
      ]
     },
     "metadata": {
      "needs_background": "light"
     },
     "output_type": "display_data"
    }
   ],
   "source": [
    "\n",
    "\n",
    "plt.figure()\n",
    "plt.plot(range(1,iterations+1),loglossvec,color='blue')\n",
    "plt.rcParams[\"figure.figsize\"] = (10,6)\n",
    "plt.grid()\n",
    "plt.xlabel('Number of iterations per Training')\n",
    "plt.ylabel('Cost (J)')\n",
    "plt.title('Max cost for Max iterations')\n",
    "\n",
    "maxloss = max(loglossvec)\n",
    "minloss = min(loglossvec)\n",
    "print(maxloss)\n",
    "print(minloss)\n"
   ]
  },
  {
   "cell_type": "markdown",
   "id": "9c3450d6-392e-42a1-ba92-83e54a79b6fd",
   "metadata": {},
   "source": [
    "## Conclusion\n",
    "\n",
    "The logistic regression, achieved a very high accuracy, recall and precision initially. Is this because the dataset only offers 2 separate classes? I'm not quite sure if that's the reason.\n",
    "\n",
    "Determining loss over iterations via logistic regression is more of an iterative & manual process. In an effort to forego any explicit model building a few different methods/functions were identified and used between **ln 26- 27** to determine the possible impact of iteratively trying to minimize loss with the gradient descent algorithm for a logisitic regression classifier. \n",
    "\n",
    "Using the SDGclassifier the user is able to define the # iterations and the \"loss type\" in other words the type of classifier to be used. In Ln 26, the max # of iterations was defined from 0 - 1000 in a step of 1. After fitting and predicting the data the log_loss function was used to determine the general loss from that iteration process (comparing the prediction results with the ytest results). The for loop repeated the process 1000x and stored all log_loss values from iterations. That data is plotted above in the \"Max Cost for Max iterations\" plot. No known alpha was identified throughout the process. In the beginning where a lower number of iterations were defined, warnings were given that it did not converge. Through some manual testing it seems that the a good number of iteration for this dataset is about 25.\n",
    "\n",
    "The confusion matrix shows that overall this methodology used on this dataset does really well. There are very little false identifications. \n",
    "\n",
    "The 2D classification plot above is simply a representation of a the dataset using the first 2 features. The classification process, is then used again, to appropriately draw the boundaries needed for this classification.\n",
    "\n",
    "The several features (30) didn't really seem to affect the accuracy of the logisitic regression model.\n",
    "\n",
    "I believe it would be difficult to minimize the overall loss further. \n",
    "\n",
    "* Accuracy: 0.9736842105263158\n",
    "* Precision: 0.9722222222222222\n",
    "* Recall: 0.9859154929577465\n",
    "\n"
   ]
  },
  {
   "cell_type": "markdown",
   "id": "ee7aedc0-c497-4a40-83fe-a97a6c2f2a8c",
   "metadata": {},
   "source": [
    "# Problem 2 - PCA Feature Extraction\n",
    "\n",
    "Repeat problem 1, but this time use the PCA feature extraction for your training. \n",
    "\n",
    "* Perform N number of independent training (N=1, …, K). \n",
    "\n",
    "* Identify the optimum number of K, principle components that achieve the highest classification accuracy. \n",
    "\n",
    "* Plot your classification accuracy, precision, and recall over a different number of Ks. \n",
    "\n",
    "* Explain and elaborate on your results."
   ]
  },
  {
   "cell_type": "markdown",
   "id": "6c36e70d-a8d5-474f-a5dd-cafbf6f65944",
   "metadata": {},
   "source": [
    "## Re-define Data\n",
    "\n",
    "Simplify the variables to be used, we'll redefine the Dataframe once again, using the original original cleaned dataframe."
   ]
  },
  {
   "cell_type": "code",
   "execution_count": 24,
   "id": "f61a29eb-479d-4045-b70d-70e976a61836",
   "metadata": {},
   "outputs": [],
   "source": [
    "from sklearn.preprocessing import StandardScaler \n",
    "\n",
    "# Separating out the features \n",
    "x = b_dataset.loc[:, features].values \n",
    "# Separating out the target \n",
    "y = b_dataset['label']\n",
    "\n",
    "\n",
    "# Standardizing the features \n",
    "x = StandardScaler().fit_transform(x) "
   ]
  },
  {
   "cell_type": "markdown",
   "id": "15a366f1-51e3-4e73-9646-92db4645985f",
   "metadata": {},
   "source": [
    "## PCA Processing\n",
    "\n",
    "Here's the first attempt at PCA pre-processing with visualizations."
   ]
  },
  {
   "cell_type": "code",
   "execution_count": 25,
   "id": "e64b9897-5398-4bd1-9494-1e32d0a55aad",
   "metadata": {},
   "outputs": [],
   "source": [
    "from sklearn.decomposition import PCA\n",
    "\n",
    "pca=(PCA(n_components = 2))\n",
    "principalComponents = pca.fit_transform(x)\n",
    "principalDF = pd.DataFrame(data=principalComponents, columns = ['principal component 1','principal component 2'])"
   ]
  },
  {
   "cell_type": "code",
   "execution_count": 26,
   "id": "2e1817c5-3bb3-40c0-881e-3dce208340f3",
   "metadata": {},
   "outputs": [],
   "source": [
    "finalDF = pd.concat([principalDF, b_dataset[['label']]], axis = 1)\n"
   ]
  },
  {
   "cell_type": "code",
   "execution_count": 27,
   "id": "dc7c8fb1-2178-43cc-91ec-af40e541f7d6",
   "metadata": {},
   "outputs": [
    {
     "name": "stdout",
     "output_type": "stream",
     "text": [
      "     principal component 1  principal component 2      label\n",
      "0                 9.192837               1.948583     Benign\n",
      "1                 2.387802              -3.768172     Benign\n",
      "2                 5.733896              -1.075174     Benign\n",
      "3                 7.122953              10.275589     Benign\n",
      "4                 3.935302              -1.948072     Benign\n",
      "..                     ...                    ...        ...\n",
      "564               6.439315              -3.576817     Benign\n",
      "565               3.793382              -3.584048     Benign\n",
      "566               1.256179              -1.902297     Benign\n",
      "567              10.374794               1.672010     Benign\n",
      "568              -5.475243              -0.670637  Malignant\n",
      "\n",
      "[569 rows x 3 columns]\n"
     ]
    }
   ],
   "source": [
    "print(finalDF)"
   ]
  },
  {
   "cell_type": "code",
   "execution_count": 29,
   "id": "a6853a65-eefe-4537-b91f-3a69ce7f5ec4",
   "metadata": {},
   "outputs": [
    {
     "data": {
      "image/png": "[encoded data removed]",
      "text/plain": [
       "<Figure size 576x576 with 1 Axes>"
      ]
     },
     "metadata": {
      "needs_background": "light"
     },
     "output_type": "display_data"
    }
   ],
   "source": [
    "fig = plt.figure(figsize = (8,8)) \n",
    "\n",
    "ax = fig.add_subplot(1,1,1)  \n",
    "ax.set_xlabel('Principal Component 1', fontsize = 15) \n",
    "ax.set_ylabel('Principal Component 2', fontsize = 15) \n",
    "ax.set_title('2 component PCA', fontsize = 20) \n",
    "labels = ['Benign','Malignant'] \n",
    "colors = ['r', 'g','b'] \n",
    "\n",
    "for labels, color in zip(labels,colors): \n",
    "    indicesToKeep = finalDF['label'] == labels\n",
    "    ax.scatter(finalDF.loc[indicesToKeep, 'principal component 1'] \n",
    "               , finalDF.loc[indicesToKeep, 'principal component 2'] \n",
    "               , c = color \n",
    "               , s = 50) \n",
    "ax.legend(labels) \n",
    "ax.grid() "
   ]
  },
  {
   "cell_type": "code",
   "execution_count": 30,
   "id": "b6f4d523-c613-4f4d-8771-55b65ab1ebbf",
   "metadata": {},
   "outputs": [
    {
     "name": "stdout",
     "output_type": "stream",
     "text": [
      "     principal component 1  principal component 2\n",
      "0                 9.192837               1.948583\n",
      "1                 2.387802              -3.768172\n",
      "2                 5.733896              -1.075174\n",
      "3                 7.122953              10.275589\n",
      "4                 3.935302              -1.948072\n",
      "..                     ...                    ...\n",
      "564               6.439315              -3.576817\n",
      "565               3.793382              -3.584048\n",
      "566               1.256179              -1.902297\n",
      "567              10.374794               1.672010\n",
      "568              -5.475243              -0.670637\n",
      "\n",
      "[569 rows x 2 columns]\n"
     ]
    }
   ],
   "source": [
    "y = finalDF['label']\n",
    "y.replace('Benign',0,inplace=True)\n",
    "y.replace('Malignant',1,inplace=True)\n",
    "fx = ['principal component 1','principal component 2']\n",
    "x = finalDF[fx]\n",
    "print(x)"
   ]
  },
  {
   "cell_type": "code",
   "execution_count": 31,
   "id": "2586f06d-ad20-40a4-a39d-65d42fd71a13",
   "metadata": {},
   "outputs": [],
   "source": [
    "from sklearn.model_selection import train_test_split\n",
    "x_train, x_test, y_train, y_test = train_test_split(x,y,test_size = 0.20, random_state=42)\n",
    "\n",
    "#For some reason text didn't work"
   ]
  },
  {
   "cell_type": "code",
   "execution_count": 32,
   "id": "d4eda53f-c390-4ff6-b542-cd10c09be298",
   "metadata": {},
   "outputs": [
    {
     "data": {
      "text/plain": [
       "LogisticRegression(random_state=0)"
      ]
     },
     "execution_count": 32,
     "metadata": {},
     "output_type": "execute_result"
    }
   ],
   "source": [
    "from sklearn.linear_model import LogisticRegression\n",
    "\n",
    "classifier = LogisticRegression(random_state=0)\n",
    "classifier.fit(x_train,y_train)"
   ]
  },
  {
   "cell_type": "code",
   "execution_count": 33,
   "id": "2537e005-fdbb-4a0d-b59c-4fa628e351a0",
   "metadata": {},
   "outputs": [
    {
     "data": {
      "text/plain": [
       "array([1, 0, 0, 1, 1, 0, 0, 0, 1])"
      ]
     },
     "execution_count": 33,
     "metadata": {},
     "output_type": "execute_result"
    }
   ],
   "source": [
    "predy = classifier.predict(x_test)\n",
    "predy[0:9]"
   ]
  },
  {
   "cell_type": "code",
   "execution_count": 34,
   "id": "3df99f30-e261-4cfb-824a-c34af299b84e",
   "metadata": {},
   "outputs": [
    {
     "data": {
      "text/plain": [
       "array([[42,  1],\n",
       "       [ 0, 71]])"
      ]
     },
     "execution_count": 34,
     "metadata": {},
     "output_type": "execute_result"
    }
   ],
   "source": [
    "cnf_matrix = confusion_matrix(y_test,predy)\n",
    "cnf_matrix"
   ]
  },
  {
   "cell_type": "code",
   "execution_count": 35,
   "id": "83d85d0e-6780-496a-8929-ee97daf9ef76",
   "metadata": {},
   "outputs": [
    {
     "name": "stdout",
     "output_type": "stream",
     "text": [
      "Accuracy: 0.9912280701754386\n",
      "Precision: 0.9861111111111112\n",
      "Recall: 1.0\n"
     ]
    }
   ],
   "source": [
    "print(\"Accuracy:\",metrics.accuracy_score(y_test,predy))\n",
    "print(\"Precision:\",metrics.precision_score(y_test,predy))\n",
    "print(\"Recall:\",metrics.recall_score(y_test,predy))"
   ]
  },
  {
   "cell_type": "code",
   "execution_count": 36,
   "id": "ead35a0a-bb18-48de-9b22-458ec709e9bd",
   "metadata": {},
   "outputs": [
    {
     "data": {
      "text/plain": [
       "Text(0.5, 384.16, 'Predicted label')"
      ]
     },
     "execution_count": 36,
     "metadata": {},
     "output_type": "execute_result"
    },
    {
     "data": {
      "image/png": "[encoded data removed]",
      "text/plain": [
       "<Figure size 720x432 with 2 Axes>"
      ]
     },
     "metadata": {
      "needs_background": "light"
     },
     "output_type": "display_data"
    }
   ],
   "source": [
    "import seaborn as sns\n",
    "class_names=['Benign','Malignant']\n",
    "fig, ax = plt.subplots()\n",
    "\n",
    "sns.heatmap(pd.DataFrame(cnf_matrix),annot=True,cmap=\"icefire\",fmt='g')\n",
    "ax.xaxis.set_label_position(\"top\")\n",
    "plt.tight_layout()\n",
    "plt.title('Confusion matrix', y=1.1)\n",
    "tick_marks = np.arange(len(class_names))\n",
    "plt.xticks(tick_marks,class_names)\n",
    "plt.yticks(tick_marks,class_names)\n",
    "plt.ylabel('Actual label')\n",
    "plt.xlabel('Predicted label')"
   ]
  },
  {
   "cell_type": "code",
   "execution_count": 37,
   "id": "a544bd13-91d6-4604-8d2b-41a4981bdd46",
   "metadata": {},
   "outputs": [
    {
     "data": {
      "text/plain": [
       "<matplotlib.contour.QuadContourSet at 0x7f8d8167ae20>"
      ]
     },
     "execution_count": 37,
     "metadata": {},
     "output_type": "execute_result"
    },
    {
     "data": {
      "image/png": "[encoded data removed]",
      "text/plain": [
       "<Figure size 720x432 with 1 Axes>"
      ]
     },
     "metadata": {
      "needs_background": "light"
     },
     "output_type": "display_data"
    }
   ],
   "source": [
    "from sklearn.linear_model import LogisticRegression\n",
    "\n",
    "xdot, ydot = x_test.values, y_test.values\n",
    "#classifierx = LogisticRegression(random_s,tate=0) \n",
    "classifier.fit(x_train.values, y_train.values)\n",
    "\n",
    "\n",
    "plt.figure(figsize = (10, 6))\n",
    "\n",
    "plt.scatter(xdot[ydot == 0][:, 0], xdot[ydot == 0][:, 1], color = 'g', label = '0')\n",
    "plt.scatter(xdot[ydot == 1][:, 0], xdot[ydot == 1][:, 1], color = 'y', label = '1')\n",
    "plt.legend()\n",
    "\n",
    "x1_min, x1_max = xdot[:,0].min(), xdot[:,0].max(),\n",
    "x2_min, x2_max = xdot[:,1].min(), xdot[:,1].max(),\n",
    "\n",
    "xx1, xx2 = np.meshgrid(np.linspace(x1_min, x1_max), np.linspace(x2_min, x2_max))\n",
    "grid = np.array([xx1.ravel(), xx2.ravel()]).T\n",
    "#print(grid.shape)\n",
    "\n",
    "probs = classifier.predict(grid).reshape(xx1.shape)\n",
    "\n",
    "#print(probs.shape)\n",
    "#print(xx1.shape)\n",
    "#plt.plot(xx1, xx2, [0.5], linewidths=1, colors='red');\n",
    "plt.contour(xx1, xx2, probs,[0.5], linewidths=1, colors='red')"
   ]
  },
  {
   "cell_type": "code",
   "execution_count": 38,
   "id": "460ebc6d-77f1-4461-9862-9d8c717f426a",
   "metadata": {},
   "outputs": [
    {
     "name": "stdout",
     "output_type": "stream",
     "text": [
      "0.3029787367749209\n"
     ]
    }
   ],
   "source": [
    "\n",
    "from sklearn.metrics import log_loss\n",
    "\n",
    "logloss = log_loss(y_test,predy)\n",
    "print(logloss)"
   ]
  },
  {
   "cell_type": "code",
   "execution_count": 39,
   "id": "58538014-fabf-45d3-b242-dc95a557fbd0",
   "metadata": {},
   "outputs": [
    {
     "name": "stdout",
     "output_type": "stream",
     "text": [
      "0         Benign\n",
      "1         Benign\n",
      "2         Benign\n",
      "3         Benign\n",
      "4         Benign\n",
      "         ...    \n",
      "564       Benign\n",
      "565       Benign\n",
      "566       Benign\n",
      "567       Benign\n",
      "568    Malignant\n",
      "Name: label, Length: 569, dtype: object\n"
     ]
    }
   ],
   "source": [
    "from sklearn.preprocessing import StandardScaler \n",
    "\n",
    "# Separating out the features \n",
    "x = b_dataset.loc[:, features].values \n",
    "# Separating out the target \n",
    "y = b_dataset['label']\n",
    "print(y)\n",
    "\n",
    "# Standardizing the features \n",
    "x = StandardScaler().fit_transform(x) \n",
    "\n",
    "pca=(PCA(n_components = 3))\n",
    "principalComponents = pca.fit_transform(x)\n",
    "principalDF = pd.DataFrame(data=principalComponents, columns = ['pc1','pc2','pc3'])\n",
    "finalDF = pd.concat([principalDF, b_dataset[['label']]], axis = 1)\n",
    "y = finalDF['label']\n",
    "y.replace('Benign',0,inplace=True)\n",
    "y.replace('Malignant',1,inplace=True)\n",
    "fx = ['pc1','pc2','pc3']\n",
    "x = finalDF[fx]"
   ]
  },
  {
   "cell_type": "code",
   "execution_count": 40,
   "id": "dbb728ab-e4f0-4182-b555-18dc5d8a4c04",
   "metadata": {},
   "outputs": [
    {
     "name": "stdout",
     "output_type": "stream",
     "text": [
      "Accuracy: 0.9824561403508771\n",
      "Precision: 0.9726027397260274\n",
      "Recall: 1.0\n"
     ]
    }
   ],
   "source": [
    "x_train, x_test, y_train, y_test = train_test_split(x,y,test_size = 0.20, random_state=42)\n",
    "classifier = LogisticRegression(random_state=0)\n",
    "classifier.fit(x_train,y_train)\n",
    "predy = classifier.predict(x_test)\n",
    "cnf_matrix = confusion_matrix(y_test,predy)\n",
    "print(\"Accuracy:\",metrics.accuracy_score(y_test,predy))\n",
    "print(\"Precision:\",metrics.precision_score(y_test,predy))\n",
    "print(\"Recall:\",metrics.recall_score(y_test,predy))\n",
    "\n"
   ]
  },
  {
   "cell_type": "code",
   "execution_count": 41,
   "id": "6ba357b7-ac78-447b-aa0f-77f739ca1fdf",
   "metadata": {},
   "outputs": [
    {
     "data": {
      "text/plain": [
       "<matplotlib.contour.QuadContourSet at 0x7f8d84b79430>"
      ]
     },
     "execution_count": 41,
     "metadata": {},
     "output_type": "execute_result"
    },
    {
     "data": {
      "image/png": "[encoded data removed]",
      "text/plain": [
       "<Figure size 720x432 with 1 Axes>"
      ]
     },
     "metadata": {
      "needs_background": "light"
     },
     "output_type": "display_data"
    }
   ],
   "source": [
    "from sklearn.linear_model import LogisticRegression\n",
    "\n",
    "xdot, ydot = x_test.values, y_test.values\n",
    "xdot = xdot[:,0:2]\n",
    "\n",
    "classifierx = LogisticRegression(random_state=0) \n",
    "xs = x_train.values[:,0:2]\n",
    "classifierx.fit(xs, y_train.values)\n",
    "\n",
    "\n",
    "plt.figure(figsize = (10, 6))\n",
    "\n",
    "plt.scatter(xdot[ydot == 0][:, 0], xdot[ydot == 0][:, 1], color = 'g', label = '0')\n",
    "plt.scatter(xdot[ydot == 1][:, 0], xdot[ydot == 1][:, 1], color = 'y', label = '1')\n",
    "plt.legend()\n",
    "\n",
    "x1_min, x1_max = xdot[:,0].min(), xdot[:,0].max(),\n",
    "x2_min, x2_max = xdot[:,1].min(), xdot[:,1].max(),\n",
    "\n",
    "xx1, xx2 = np.meshgrid(np.linspace(x1_min, x1_max), np.linspace(x2_min, x2_max))\n",
    "grid = np.array([xx1.ravel(), xx2.ravel()]).T\n",
    "#print(grid.shape)\n",
    "\n",
    "probs = classifierx.predict(grid).reshape(xx1.shape)\n",
    "\n",
    "#print(probs.shape)\n",
    "#print(xx1.shape)\n",
    "#plt.plot(xx1, xx2, [0.5], linewidths=1, colors='red');\n",
    "plt.contour(xx1, xx2, probs,[0.5], linewidths=1, colors='red')"
   ]
  },
  {
   "cell_type": "code",
   "execution_count": 42,
   "id": "f65669ea-6790-4378-8da8-af72248e19b4",
   "metadata": {},
   "outputs": [
    {
     "name": "stdout",
     "output_type": "stream",
     "text": [
      "0.6059574735498409\n"
     ]
    }
   ],
   "source": [
    "from sklearn.metrics import log_loss\n",
    "\n",
    "logloss = log_loss(y_test,predy)\n",
    "print(logloss)"
   ]
  },
  {
   "cell_type": "code",
   "execution_count": 43,
   "id": "2b3dfb77-41a2-43cb-82cb-97ef78b11c98",
   "metadata": {},
   "outputs": [
    {
     "name": "stdout",
     "output_type": "stream",
     "text": [
      "Accuracy: 0.9736842105263158\n",
      "Precision: 0.9722222222222222\n",
      "Recall: 0.9859154929577465\n",
      "0.9089291963122152\n"
     ]
    },
    {
     "data": {
      "image/png": "[encoded data removed]",
      "text/plain": [
       "<Figure size 720x432 with 1 Axes>"
      ]
     },
     "metadata": {
      "needs_background": "light"
     },
     "output_type": "display_data"
    }
   ],
   "source": [
    "# Separating out the features \n",
    "x = b_dataset.loc[:, features].values \n",
    "# Separating out the target \n",
    "y = b_dataset['label']\n",
    "\n",
    "# Standardizing the features \n",
    "x = StandardScaler().fit_transform(x) \n",
    "\n",
    "pca=(PCA(n_components = 4))\n",
    "principalComponents = pca.fit_transform(x)\n",
    "principalDF = pd.DataFrame(data=principalComponents, columns = ['pc1','pc2','pc3','pc4'])\n",
    "finalDF = pd.concat([principalDF, b_dataset[['label']]], axis = 1)\n",
    "y = finalDF['label']\n",
    "y.replace('Benign',0,inplace=True)\n",
    "y.replace('Malignant',1,inplace=True)\n",
    "fx = ['pc1','pc2','pc3','pc4']\n",
    "x = finalDF[fx]\n",
    "\n",
    "x_train, x_test, y_train, y_test = train_test_split(x,y,test_size = 0.20, random_state=42)\n",
    "classifier = LogisticRegression(random_state=0)\n",
    "classifier.fit(x_train,y_train)\n",
    "predy = classifier.predict(x_test)\n",
    "cnf_matrix = confusion_matrix(y_test,predy)\n",
    "print(\"Accuracy:\",metrics.accuracy_score(y_test,predy))\n",
    "print(\"Precision:\",metrics.precision_score(y_test,predy))\n",
    "print(\"Recall:\",metrics.recall_score(y_test,predy))\n",
    "\n",
    "from sklearn.linear_model import LogisticRegression\n",
    "\n",
    "xdot, ydot = x_test.values, y_test.values\n",
    "xdot = xdot[:,0:2]\n",
    "\n",
    "classifierx = LogisticRegression(random_state=0) \n",
    "xs = x_train.values[:,0:2]\n",
    "classifierx.fit(xs, y_train.values)\n",
    "\n",
    "\n",
    "plt.figure(figsize = (10, 6))\n",
    "\n",
    "plt.scatter(xdot[ydot == 0][:, 0], xdot[ydot == 0][:, 1], color = 'g', label = '0')\n",
    "plt.scatter(xdot[ydot == 1][:, 0], xdot[ydot == 1][:, 1], color = 'y', label = '1')\n",
    "plt.legend()\n",
    "\n",
    "x1_min, x1_max = xdot[:,0].min(), xdot[:,0].max(),\n",
    "x2_min, x2_max = xdot[:,1].min(), xdot[:,1].max(),\n",
    "\n",
    "xx1, xx2 = np.meshgrid(np.linspace(x1_min, x1_max), np.linspace(x2_min, x2_max))\n",
    "grid = np.array([xx1.ravel(), xx2.ravel()]).T\n",
    "#print(grid.shape)\n",
    "\n",
    "probs = classifierx.predict(grid).reshape(xx1.shape)\n",
    "\n",
    "#print(probs.shape)\n",
    "#print(xx1.shape)\n",
    "#plt.plot(xx1, xx2, [0.5], linewidths=1, colors='red');\n",
    "plt.contour(xx1, xx2, probs,[0.5], linewidths=1, colors='red')\n",
    "\n",
    "from sklearn.metrics import log_loss\n",
    "\n",
    "logloss = log_loss(y_test,predy)\n",
    "print(logloss)"
   ]
  },
  {
   "cell_type": "markdown",
   "id": "6f571dd0-6a77-4ee1-b260-8fe6f8f2fdcc",
   "metadata": {},
   "source": [
    "## Number of Princial Components (k)\n",
    "\n",
    "A after repeat processing of data using PCA and Logistic regression, an array was manually created below, with the following details\n",
    "\n",
    "|k|Accuracy|Precision|Recall|Loss|\n",
    "|-|--------|---------|------|----|\n",
    "\n",
    "k(s) used in this example includes the following : 2, 3, 4. Values are also defined at 0. The data at k = 0 is from the original logistic regression training. "
   ]
  },
  {
   "cell_type": "code",
   "execution_count": 44,
   "id": "b4d24f7b-625c-464e-8812-3869264e9d5a",
   "metadata": {},
   "outputs": [
    {
     "name": "stdout",
     "output_type": "stream",
     "text": [
      "[[0.         0.9736842  0.97222222 0.98591549 0.908929  ]\n",
      " [2.         0.991228   0.986111   1.         0.3029    ]\n",
      " [3.         0.98245    0.972602   1.         0.6059574 ]\n",
      " [4.         0.973684   0.97222    0.98591549 0.90892919]]\n"
     ]
    }
   ],
   "source": [
    "#Manually write in values. \n",
    "b = np.array(np.mat('0,0.9736842,0.9722222222,0.98591549,0.908929;2,0.991228,0.986111,1.0,0.3029;3,0.98245,0.972602,1.0,0.6059574;4,0.973684,0.97222,0.98591549,0.90892919'))\n",
    "\n",
    "print(b)"
   ]
  },
  {
   "cell_type": "code",
   "execution_count": 45,
   "id": "8f2e7267-755d-4942-8744-0aaf8abb44e4",
   "metadata": {},
   "outputs": [
    {
     "data": {
      "text/plain": [
       "Text(0, 0.5, 'Accuracy')"
      ]
     },
     "execution_count": 45,
     "metadata": {},
     "output_type": "execute_result"
    },
    {
     "data": {
      "image/png": "[encoded data removed]",
      "text/plain": [
       "<Figure size 720x432 with 1 Axes>"
      ]
     },
     "metadata": {
      "needs_background": "light"
     },
     "output_type": "display_data"
    }
   ],
   "source": [
    "plt.figure(figsize = (10, 6))\n",
    "plt.plot(b[:,0],b[:,1])\n",
    "plt.xlabel('Number of Principal Components')\n",
    "plt.ylabel('Accuracy')"
   ]
  },
  {
   "cell_type": "code",
   "execution_count": 46,
   "id": "5c594c42-60d7-4145-a147-98ecdb35e329",
   "metadata": {},
   "outputs": [
    {
     "data": {
      "text/plain": [
       "Text(0, 0.5, 'Precision')"
      ]
     },
     "execution_count": 46,
     "metadata": {},
     "output_type": "execute_result"
    },
    {
     "data": {
      "image/png": "[encoded data removed]",
      "text/plain": [
       "<Figure size 720x432 with 1 Axes>"
      ]
     },
     "metadata": {
      "needs_background": "light"
     },
     "output_type": "display_data"
    }
   ],
   "source": [
    "plt.figure(figsize = (10, 6))\n",
    "plt.plot(b[:,0],b[:,2])\n",
    "plt.xlabel('Number of Principal Components')\n",
    "plt.ylabel('Precision')"
   ]
  },
  {
   "cell_type": "code",
   "execution_count": 47,
   "id": "a95da558-f57a-4179-bfa1-4e44e88ecb76",
   "metadata": {},
   "outputs": [
    {
     "data": {
      "text/plain": [
       "Text(0, 0.5, 'Recall')"
      ]
     },
     "execution_count": 47,
     "metadata": {},
     "output_type": "execute_result"
    },
    {
     "data": {
      "image/png": "[encoded data removed]",
      "text/plain": [
       "<Figure size 720x432 with 1 Axes>"
      ]
     },
     "metadata": {
      "needs_background": "light"
     },
     "output_type": "display_data"
    }
   ],
   "source": [
    "plt.figure(figsize = (10, 6))\n",
    "plt.plot(b[:,0],b[:,3])\n",
    "plt.xlabel('Number of Principal Components')\n",
    "plt.ylabel('Recall')"
   ]
  },
  {
   "cell_type": "code",
   "execution_count": 48,
   "id": "718128b5-0e36-452e-9f13-aa0d8fc3ad7b",
   "metadata": {},
   "outputs": [
    {
     "data": {
      "text/plain": [
       "Text(0, 0.5, 'loss')"
      ]
     },
     "execution_count": 48,
     "metadata": {},
     "output_type": "execute_result"
    },
    {
     "data": {
      "image/png": "[encoded data removed]",
      "text/plain": [
       "<Figure size 720x432 with 1 Axes>"
      ]
     },
     "metadata": {
      "needs_background": "light"
     },
     "output_type": "display_data"
    }
   ],
   "source": [
    "plt.figure(figsize = (10, 6))\n",
    "plt.plot(b[:,0],b[:,4])\n",
    "plt.xlabel('Number of Principal Components')\n",
    "plt.ylabel('loss')\n"
   ]
  },
  {
   "cell_type": "markdown",
   "id": "b9094139-fc41-457f-ad74-45d6b82f411a",
   "metadata": {},
   "source": [
    "## Conclusion\n",
    "\n",
    "After reviwing the several plots above (Accuracy/Precision/Recall vs. # of Principal Components.) It seemed it was indeed possible to achieve to achieve an even higher accuracy using PCA. The best accuracy overall which also contained the minimum loss well below all other test/trials was determined with the only 2 principal components. It seems that the 2 principal components(pcs) are more fitting for this dataset and actually helped with providing exceedingly great accuracy results and minimum loss. Using 4 principal components presented the same / similar accuracy to the findings in just using the logistic regression method.\n"
   ]
  },
  {
   "cell_type": "markdown",
   "id": "d980beef-a4e2-49b3-885e-06d249bbfb73",
   "metadata": {},
   "source": [
    "# Problem 3 - LDA & Bayes Gaussian Classifier\n",
    "\n",
    "Repeat problem 2, but this time use the LDA feature extraction for your training. \n",
    "\n",
    "* For the classification, use the built-in Bays classifier for the classification. \n",
    "\n",
    "* Report your classification accuracy, precision, and recall. Explain and elaborate on your results.\n",
    "\n"
   ]
  },
  {
   "cell_type": "code",
   "execution_count": 49,
   "id": "d43d670e-4e3c-42a1-be8e-a2cbc6f2fa5d",
   "metadata": {},
   "outputs": [],
   "source": [
    "# Separating out the features \n",
    "x = b_dataset.loc[:, features].values \n",
    "# Separating out the target \n",
    "y = b_dataset['label']\n",
    "\n",
    "# Standardizing the features \n",
    "x = StandardScaler().fit_transform(x) \n",
    "y.replace('Benign',0,inplace=True)\n",
    "y.replace('Malignant',1,inplace=True)\n",
    "x_train, x_test, y_train, y_test = train_test_split(x,y,test_size = 0.20, random_state=42)\n",
    "\n",
    "from sklearn.discriminant_analysis import LinearDiscriminantAnalysis as LDA\n",
    "\n",
    "lda = LDA(n_components=1)\n",
    "X_train = lda.fit_transform(x_train,y_train)\n",
    "X_test = lda.transform(x_test)\n"
   ]
  },
  {
   "cell_type": "code",
   "execution_count": 50,
   "id": "cd242137-a941-4248-a6da-2a184ee476d5",
   "metadata": {},
   "outputs": [
    {
     "name": "stdout",
     "output_type": "stream",
     "text": [
      "Accuracy: 0.956140350877193\n",
      "Precision: 0.9714285714285714\n",
      "Recall: 0.9577464788732394\n"
     ]
    },
    {
     "data": {
      "text/plain": [
       "Text(0.5, 384.16, 'Predicted label')"
      ]
     },
     "execution_count": 50,
     "metadata": {},
     "output_type": "execute_result"
    },
    {
     "data": {
      "image/png": "[encoded data removed]",
      "text/plain": [
       "<Figure size 720x432 with 2 Axes>"
      ]
     },
     "metadata": {
      "needs_background": "light"
     },
     "output_type": "display_data"
    }
   ],
   "source": [
    "from sklearn.naive_bayes import GaussianNB\n",
    "classifier = GaussianNB()\n",
    "classifier.fit(X_train,y_train)\n",
    "predy = classifier.predict(X_test)\n",
    "\n",
    "cnf_matrix = confusion_matrix(y_test,predy)\n",
    "print(\"Accuracy:\",metrics.accuracy_score(y_test,predy))\n",
    "print(\"Precision:\",metrics.precision_score(y_test,predy))\n",
    "print(\"Recall:\",metrics.recall_score(y_test,predy))\n",
    "\n",
    "import seaborn as sns\n",
    "class_names=['Benign','Malignant']\n",
    "fig, ax = plt.subplots()\n",
    "\n",
    "sns.heatmap(pd.DataFrame(cnf_matrix),annot=True,cmap=\"icefire\",fmt='g')\n",
    "ax.xaxis.set_label_position(\"top\")\n",
    "plt.tight_layout()\n",
    "plt.title('Confusion matrix', y=1.1)\n",
    "tick_marks = np.arange(len(class_names))\n",
    "plt.xticks(tick_marks,class_names)\n",
    "plt.yticks(tick_marks,class_names)\n",
    "plt.ylabel('Actual label')\n",
    "plt.xlabel('Predicted label')"
   ]
  },
  {
   "cell_type": "code",
   "execution_count": 51,
   "id": "d97e6e50-e316-4ad5-9884-a7ec5a232208",
   "metadata": {},
   "outputs": [
    {
     "name": "stdout",
     "output_type": "stream",
     "text": [
      "[[ 1.09706398 -2.07333501  1.26993369 ...  2.29607613  2.75062224\n",
      "   1.93701461]\n",
      " [ 1.82982061 -0.35363241  1.68595471 ...  1.0870843  -0.24388967\n",
      "   0.28118999]\n",
      " [ 1.57988811  0.45618695  1.56650313 ...  1.95500035  1.152255\n",
      "   0.20139121]\n",
      " ...\n",
      " [ 0.70228425  2.0455738   0.67267578 ...  0.41406869 -1.10454895\n",
      "  -0.31840916]\n",
      " [ 1.83834103  2.33645719  1.98252415 ...  2.28998549  1.91908301\n",
      "   2.21963528]\n",
      " [-1.80840125  1.22179204 -1.81438851 ... -1.74506282 -0.04813821\n",
      "  -0.75120669]]\n"
     ]
    },
    {
     "ename": "ValueError",
     "evalue": "n_components cannot be larger than min(n_features, n_classes - 1).",
     "output_type": "error",
     "traceback": [
      "\u001b[0;31m---------------------------------------------------------------------------\u001b[0m",
      "\u001b[0;31mValueError\u001b[0m                                Traceback (most recent call last)",
      "\u001b[0;32m<ipython-input-51-f6cdbc89371c>\u001b[0m in \u001b[0;36m<module>\u001b[0;34m\u001b[0m\n\u001b[1;32m     14\u001b[0m \u001b[0;34m\u001b[0m\u001b[0m\n\u001b[1;32m     15\u001b[0m \u001b[0mlda\u001b[0m \u001b[0;34m=\u001b[0m \u001b[0mLDA\u001b[0m\u001b[0;34m(\u001b[0m\u001b[0mn_components\u001b[0m\u001b[0;34m=\u001b[0m\u001b[0;36m2\u001b[0m\u001b[0;34m)\u001b[0m\u001b[0;34m\u001b[0m\u001b[0;34m\u001b[0m\u001b[0m\n\u001b[0;32m---> 16\u001b[0;31m \u001b[0mX_train\u001b[0m \u001b[0;34m=\u001b[0m \u001b[0mlda\u001b[0m\u001b[0;34m.\u001b[0m\u001b[0mfit_transform\u001b[0m\u001b[0;34m(\u001b[0m\u001b[0mx_train\u001b[0m\u001b[0;34m,\u001b[0m\u001b[0my_train\u001b[0m\u001b[0;34m)\u001b[0m\u001b[0;34m\u001b[0m\u001b[0;34m\u001b[0m\u001b[0m\n\u001b[0m\u001b[1;32m     17\u001b[0m \u001b[0mX_test\u001b[0m \u001b[0;34m=\u001b[0m \u001b[0mlda\u001b[0m\u001b[0;34m.\u001b[0m\u001b[0mtransform\u001b[0m\u001b[0;34m(\u001b[0m\u001b[0mx_test\u001b[0m\u001b[0;34m)\u001b[0m\u001b[0;34m\u001b[0m\u001b[0;34m\u001b[0m\u001b[0m\n\u001b[1;32m     18\u001b[0m \u001b[0;34m\u001b[0m\u001b[0m\n",
      "\u001b[0;32m/opt/anaconda3/lib/python3.8/site-packages/sklearn/base.py\u001b[0m in \u001b[0;36mfit_transform\u001b[0;34m(self, X, y, **fit_params)\u001b[0m\n\u001b[1;32m    700\u001b[0m         \u001b[0;32melse\u001b[0m\u001b[0;34m:\u001b[0m\u001b[0;34m\u001b[0m\u001b[0;34m\u001b[0m\u001b[0m\n\u001b[1;32m    701\u001b[0m             \u001b[0;31m# fit method of arity 2 (supervised transformation)\u001b[0m\u001b[0;34m\u001b[0m\u001b[0;34m\u001b[0m\u001b[0;34m\u001b[0m\u001b[0m\n\u001b[0;32m--> 702\u001b[0;31m             \u001b[0;32mreturn\u001b[0m \u001b[0mself\u001b[0m\u001b[0;34m.\u001b[0m\u001b[0mfit\u001b[0m\u001b[0;34m(\u001b[0m\u001b[0mX\u001b[0m\u001b[0;34m,\u001b[0m \u001b[0my\u001b[0m\u001b[0;34m,\u001b[0m \u001b[0;34m**\u001b[0m\u001b[0mfit_params\u001b[0m\u001b[0;34m)\u001b[0m\u001b[0;34m.\u001b[0m\u001b[0mtransform\u001b[0m\u001b[0;34m(\u001b[0m\u001b[0mX\u001b[0m\u001b[0;34m)\u001b[0m\u001b[0;34m\u001b[0m\u001b[0;34m\u001b[0m\u001b[0m\n\u001b[0m\u001b[1;32m    703\u001b[0m \u001b[0;34m\u001b[0m\u001b[0m\n\u001b[1;32m    704\u001b[0m \u001b[0;34m\u001b[0m\u001b[0m\n",
      "\u001b[0;32m/opt/anaconda3/lib/python3.8/site-packages/sklearn/discriminant_analysis.py\u001b[0m in \u001b[0;36mfit\u001b[0;34m(self, X, y)\u001b[0m\n\u001b[1;32m    537\u001b[0m         \u001b[0;32melse\u001b[0m\u001b[0;34m:\u001b[0m\u001b[0;34m\u001b[0m\u001b[0;34m\u001b[0m\u001b[0m\n\u001b[1;32m    538\u001b[0m             \u001b[0;32mif\u001b[0m \u001b[0mself\u001b[0m\u001b[0;34m.\u001b[0m\u001b[0mn_components\u001b[0m \u001b[0;34m>\u001b[0m \u001b[0mmax_components\u001b[0m\u001b[0;34m:\u001b[0m\u001b[0;34m\u001b[0m\u001b[0;34m\u001b[0m\u001b[0m\n\u001b[0;32m--> 539\u001b[0;31m                 raise ValueError(\n\u001b[0m\u001b[1;32m    540\u001b[0m                     \u001b[0;34m\"n_components cannot be larger than min(n_features, \"\u001b[0m\u001b[0;34m\u001b[0m\u001b[0;34m\u001b[0m\u001b[0m\n\u001b[1;32m    541\u001b[0m                     \u001b[0;34m\"n_classes - 1).\"\u001b[0m\u001b[0;34m\u001b[0m\u001b[0;34m\u001b[0m\u001b[0m\n",
      "\u001b[0;31mValueError\u001b[0m: n_components cannot be larger than min(n_features, n_classes - 1)."
     ]
    }
   ],
   "source": [
    "# Separating out the features \n",
    "x = b_dataset.loc[:, features].values \n",
    "# Separating out the target \n",
    "y = b_dataset['label']\n",
    "\n",
    "# Standardizing the features \n",
    "x = StandardScaler().fit_transform(x) \n",
    "print(x)\n",
    "y.replace('Benign',0,inplace=True)\n",
    "y.replace('Malignant',1,inplace=True)\n",
    "x_train, x_test, y_train, y_test = train_test_split(x,y,test_size = 0.20, random_state=42)\n",
    "\n",
    "from sklearn.discriminant_analysis import LinearDiscriminantAnalysis as LDA\n",
    "\n",
    "lda = LDA(n_components=2)\n",
    "X_train = lda.fit_transform(x_train,y_train)\n",
    "X_test = lda.transform(x_test)\n",
    "\n",
    "\n",
    "from sklearn.naive_bayes import GaussianNB\n",
    "classifier = GaussianNB()\n",
    "classifier.fit(X_train,y_train)\n",
    "predy = classifier.predict(X_test)\n",
    "\n",
    "cnf_matrix = confusion_matrix(y_test,predy)\n",
    "print(\"Accuracy:\",metrics.accuracy_score(y_test,predy))\n",
    "print(\"Precision:\",metrics.precision_score(y_test,predy))\n",
    "print(\"Recall:\",metrics.recall_score(y_test,predy))\n",
    "\n",
    "import seaborn as sns\n",
    "class_names=['Benign','Malignant']\n",
    "fig, ax = plt.subplots()\n",
    "\n",
    "sns.heatmap(pd.DataFrame(cnf_matrix),annot=True,cmap=\"icefire\",fmt='g')\n",
    "ax.xaxis.set_label_position(\"top\")\n",
    "plt.tight_layout()\n",
    "plt.title('Confusion matrix', y=1.1)\n",
    "tick_marks = np.arange(len(class_names))\n",
    "plt.xticks(tick_marks,class_names)\n",
    "plt.yticks(tick_marks,class_names)\n",
    "plt.ylabel('Actual label')\n",
    "plt.xlabel('Predicted label')"
   ]
  },
  {
   "cell_type": "markdown",
   "id": "4f9fb72f-c6c6-447e-a18b-3402bf9ef6e2",
   "metadata": {},
   "source": [
    "## Conclusion\n",
    "\n",
    "It seems in LDA, that a user a can not define a number of classes that's more than number of classes -1 . In this case we only have 2 classes present in our dataset. Attempting a LDA with 1 defined component + using the Bayes classifier, did not surpass the PCA (#components = 2) + Logistic regression approach performed in Problem 2. This process, did not exceed the performance of just using a logistic regression, neither. It seems in this particular dataset the best classifier to use would be the logisitic regression."
   ]
  },
  {
   "cell_type": "markdown",
   "id": "7ce5c0a2-8d7b-4f9e-bedb-9099bc1da6bc",
   "metadata": {},
   "source": [
    "# Problem 4 - LDA & Logistic Regression\n",
    "Can you repeat problem 3? This time, replace the Bayes classifier with logistic regression. \n",
    "\n",
    "* Report your results (classification accuracy, precision, and recall). \n",
    "* Compare your results against problem 2 and 3.\n"
   ]
  },
  {
   "cell_type": "code",
   "execution_count": 52,
   "id": "e504e300-daf3-4ed7-a323-b1ca80024fb3",
   "metadata": {},
   "outputs": [
    {
     "name": "stdout",
     "output_type": "stream",
     "text": [
      "Accuracy: 0.9473684210526315\n",
      "Precision: 0.9710144927536232\n",
      "Recall: 0.9436619718309859\n"
     ]
    },
    {
     "data": {
      "text/plain": [
       "Text(0.5, 384.16, 'Predicted label')"
      ]
     },
     "execution_count": 52,
     "metadata": {},
     "output_type": "execute_result"
    },
    {
     "data": {
      "image/png": "[encoded data removed]",
      "text/plain": [
       "<Figure size 720x432 with 2 Axes>"
      ]
     },
     "metadata": {
      "needs_background": "light"
     },
     "output_type": "display_data"
    }
   ],
   "source": [
    "# Separating out the features \n",
    "x = b_dataset.loc[:, features].values \n",
    "# Separating out the target \n",
    "y = b_dataset['label']\n",
    "\n",
    "# Standardizing the features \n",
    "x = StandardScaler().fit_transform(x) \n",
    "\n",
    "y.replace('Benign',0,inplace=True)\n",
    "y.replace('Malignant',1,inplace=True)\n",
    "x_train, x_test, y_train, y_test = train_test_split(x,y,test_size = 0.20, random_state=42)\n",
    "\n",
    "\n",
    "\n",
    "\n",
    "lda = LDA(n_components=1)\n",
    "X_train = lda.fit_transform(x_train,y_train)\n",
    "X_test = lda.transform(x_test)\n",
    "\n",
    "\n",
    "from sklearn.naive_bayes import GaussianNB\n",
    "classifier = LogisticRegression(random_state=0) \n",
    "classifier.fit(X_train,y_train)\n",
    "predy = classifier.predict(X_test)\n",
    "\n",
    "\n",
    "\n",
    "cnf_matrix = confusion_matrix(y_test,predy)\n",
    "print(\"Accuracy:\",metrics.accuracy_score(y_test,predy))\n",
    "print(\"Precision:\",metrics.precision_score(y_test,predy))\n",
    "print(\"Recall:\",metrics.recall_score(y_test,predy))\n",
    "\n",
    "import seaborn as sns\n",
    "class_names=['Benign','Malignant']\n",
    "fig, ax = plt.subplots()\n",
    "\n",
    "sns.heatmap(pd.DataFrame(cnf_matrix),annot=True,cmap=\"icefire\",fmt='g')\n",
    "ax.xaxis.set_label_position(\"top\")\n",
    "plt.tight_layout()\n",
    "plt.title('Confusion matrix', y=1.1)\n",
    "tick_marks = np.arange(len(class_names))\n",
    "plt.xticks(tick_marks,class_names)\n",
    "plt.yticks(tick_marks,class_names)\n",
    "plt.ylabel('Actual label')\n",
    "plt.xlabel('Predicted label')"
   ]
  },
  {
   "cell_type": "markdown",
   "id": "79dbb313-c262-4c7b-a24a-9ddc9a99892d",
   "metadata": {},
   "source": [
    "## Conclusion\n",
    "\n",
    "Compared to Problem 2 and 3. It seems this process / approach under-performed the other methodologies used prior. The accuracy and the Recall particularly suffered, which could affect patients adversely. Through this learning process it is evident, dimensionality reduction does help especially on binary classifiers like the logistic regression. Too many features can adversely affect modeling, by over/underfitting data. \n",
    "\n",
    "https://github.com/thachkse/Intro-to-ML/tree/main/HW_3"
   ]
  }
 ],
 "metadata": {
  "kernelspec": {
   "display_name": "Python 3",
   "language": "python",
   "name": "python3"
  },
  "language_info": {
   "codemirror_mode": {
    "name": "ipython",
    "version": 3
   },
   "file_extension": ".py",
   "mimetype": "text/x-python",
   "name": "python",
   "nbconvert_exporter": "python",
   "pygments_lexer": "ipython3",
   "version": "3.8.8"
  }
 },
 "nbformat": 4,
 "nbformat_minor": 5
}
